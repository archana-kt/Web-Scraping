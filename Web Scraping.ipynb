{
 "cells": [
  {
   "cell_type": "markdown",
   "id": "51be723d",
   "metadata": {},
   "source": [
    "# Web Scraping"
   ]
  },
  {
   "cell_type": "code",
   "execution_count": 1,
   "id": "4db6b936",
   "metadata": {},
   "outputs": [],
   "source": [
    "from bs4 import BeautifulSoup"
   ]
  },
  {
   "cell_type": "code",
   "execution_count": 2,
   "id": "76d4925e",
   "metadata": {},
   "outputs": [],
   "source": [
    "soup = BeautifulSoup(open(\"web.html\"))"
   ]
  },
  {
   "cell_type": "code",
   "execution_count": 3,
   "id": "501b49cb",
   "metadata": {},
   "outputs": [
    {
     "data": {
      "text/plain": [
       "<!DOCTYPE html>\n",
       "<html lang=\"en\">\n",
       "<head>\n",
       "<meta charset=\"utf-8\"/>\n",
       "<meta content=\"width=device-width, initial-scale=1, shrink-to-fit=no\" name=\"viewport\"/>\n",
       "<link crossorigin=\"anonymous\" href=\"https://stackpath.bootstrapcdn.com/bootstrap/4.5.2/css/bootstrap.min.css\" integrity=\"sha384-JcKb8q3iqJ61gNV9KGb8thSsNjpSL0n8PARn9HuZOnIxN0hoP+VmmDGMN5t9UJ0Z\" rel=\"stylesheet\"/>\n",
       "<title>My Courses</title>\n",
       "</head>\n",
       "<body>\n",
       "<h1>Hello, Start Learning!</h1>\n",
       "<div class=\"card\" id=\"card-python-for-beginners\">\n",
       "<div class=\"card-header\">\n",
       "            Python\n",
       "         </div>\n",
       "<div class=\"card-body\">\n",
       "<h5 class=\"card-title\">Python for beginners</h5>\n",
       "<p class=\"card-text\">If you are new to Python, this is the course that you should buy!</p>\n",
       "<a class=\"btn btn-primary\" href=\"#\">Start for 20$</a>\n",
       "</div>\n",
       "</div>\n",
       "<div class=\"card\" id=\"card-python-web-development\">\n",
       "<div class=\"card-header\">\n",
       "            Python\n",
       "         </div>\n",
       "<div class=\"card-body\">\n",
       "<h5 class=\"card-title\">Python Web Development</h5>\n",
       "<p class=\"card-text\">If you feel enough confident with python, you are ready to learn how to create your own website!</p>\n",
       "<a class=\"btn btn-primary\" href=\"#\">Start for 50$</a>\n",
       "</div>\n",
       "</div>\n",
       "<div class=\"card\" id=\"card-python-machine-learning\">\n",
       "<div class=\"card-header\">\n",
       "            Python\n",
       "         </div>\n",
       "<div class=\"card-body\">\n",
       "<h5 class=\"card-title\">Python Machine Learning</h5>\n",
       "<p class=\"card-text\">Become a Python Machine Learning master!</p>\n",
       "<a class=\"btn btn-primary\" href=\"#\">Start for 100$</a>\n",
       "</div>\n",
       "</div>\n",
       "</body>\n",
       "</html>"
      ]
     },
     "execution_count": 3,
     "metadata": {},
     "output_type": "execute_result"
    }
   ],
   "source": [
    "soup "
   ]
  },
  {
   "cell_type": "code",
   "execution_count": 4,
   "id": "cf66bcab",
   "metadata": {},
   "outputs": [
    {
     "data": {
      "text/plain": [
       "'<!DOCTYPE html>\\n<html lang=\"en\">\\n <head>\\n  <meta charset=\"utf-8\"/>\\n  <meta content=\"width=device-width, initial-scale=1, shrink-to-fit=no\" name=\"viewport\"/>\\n  <link crossorigin=\"anonymous\" href=\"https://stackpath.bootstrapcdn.com/bootstrap/4.5.2/css/bootstrap.min.css\" integrity=\"sha384-JcKb8q3iqJ61gNV9KGb8thSsNjpSL0n8PARn9HuZOnIxN0hoP+VmmDGMN5t9UJ0Z\" rel=\"stylesheet\"/>\\n  <title>\\n   My Courses\\n  </title>\\n </head>\\n <body>\\n  <h1>\\n   Hello, Start Learning!\\n  </h1>\\n  <div class=\"card\" id=\"card-python-for-beginners\">\\n   <div class=\"card-header\">\\n    Python\\n   </div>\\n   <div class=\"card-body\">\\n    <h5 class=\"card-title\">\\n     Python for beginners\\n    </h5>\\n    <p class=\"card-text\">\\n     If you are new to Python, this is the course that you should buy!\\n    </p>\\n    <a class=\"btn btn-primary\" href=\"#\">\\n     Start for 20$\\n    </a>\\n   </div>\\n  </div>\\n  <div class=\"card\" id=\"card-python-web-development\">\\n   <div class=\"card-header\">\\n    Python\\n   </div>\\n   <div class=\"card-body\">\\n    <h5 class=\"card-title\">\\n     Python Web Development\\n    </h5>\\n    <p class=\"card-text\">\\n     If you feel enough confident with python, you are ready to learn how to create your own website!\\n    </p>\\n    <a class=\"btn btn-primary\" href=\"#\">\\n     Start for 50$\\n    </a>\\n   </div>\\n  </div>\\n  <div class=\"card\" id=\"card-python-machine-learning\">\\n   <div class=\"card-header\">\\n    Python\\n   </div>\\n   <div class=\"card-body\">\\n    <h5 class=\"card-title\">\\n     Python Machine Learning\\n    </h5>\\n    <p class=\"card-text\">\\n     Become a Python Machine Learning master!\\n    </p>\\n    <a class=\"btn btn-primary\" href=\"#\">\\n     Start for 100$\\n    </a>\\n   </div>\\n  </div>\\n </body>\\n</html>\\n'"
      ]
     },
     "execution_count": 4,
     "metadata": {},
     "output_type": "execute_result"
    }
   ],
   "source": [
    "soup.prettify()"
   ]
  },
  {
   "cell_type": "code",
   "execution_count": 5,
   "id": "c9c89e25",
   "metadata": {},
   "outputs": [
    {
     "data": {
      "text/plain": [
       "<h1>Hello, Start Learning!</h1>"
      ]
     },
     "execution_count": 5,
     "metadata": {},
     "output_type": "execute_result"
    }
   ],
   "source": [
    "soup.html.body.contents[1]"
   ]
  },
  {
   "cell_type": "code",
   "execution_count": 6,
   "id": "05566b1f",
   "metadata": {},
   "outputs": [
    {
     "data": {
      "text/plain": [
       "'\\n'"
      ]
     },
     "execution_count": 6,
     "metadata": {},
     "output_type": "execute_result"
    }
   ],
   "source": [
    "soup.html.body.contents[2]"
   ]
  },
  {
   "cell_type": "code",
   "execution_count": 7,
   "id": "2a34304d",
   "metadata": {},
   "outputs": [
    {
     "data": {
      "text/plain": [
       "<div class=\"card\" id=\"card-python-for-beginners\">\n",
       "<div class=\"card-header\">\n",
       "            Python\n",
       "         </div>\n",
       "<div class=\"card-body\">\n",
       "<h5 class=\"card-title\">Python for beginners</h5>\n",
       "<p class=\"card-text\">If you are new to Python, this is the course that you should buy!</p>\n",
       "<a class=\"btn btn-primary\" href=\"#\">Start for 20$</a>\n",
       "</div>\n",
       "</div>"
      ]
     },
     "execution_count": 7,
     "metadata": {},
     "output_type": "execute_result"
    }
   ],
   "source": [
    "soup.html.body.contents[3]"
   ]
  },
  {
   "cell_type": "code",
   "execution_count": 8,
   "id": "9e802afd",
   "metadata": {},
   "outputs": [
    {
     "data": {
      "text/plain": [
       "'\\n'"
      ]
     },
     "execution_count": 8,
     "metadata": {},
     "output_type": "execute_result"
    }
   ],
   "source": [
    "soup.html.body.contents[4]"
   ]
  },
  {
   "cell_type": "code",
   "execution_count": 9,
   "id": "ed396d8c",
   "metadata": {},
   "outputs": [
    {
     "data": {
      "text/plain": [
       "<div class=\"card\" id=\"card-python-web-development\">\n",
       "<div class=\"card-header\">\n",
       "            Python\n",
       "         </div>\n",
       "<div class=\"card-body\">\n",
       "<h5 class=\"card-title\">Python Web Development</h5>\n",
       "<p class=\"card-text\">If you feel enough confident with python, you are ready to learn how to create your own website!</p>\n",
       "<a class=\"btn btn-primary\" href=\"#\">Start for 50$</a>\n",
       "</div>\n",
       "</div>"
      ]
     },
     "execution_count": 9,
     "metadata": {},
     "output_type": "execute_result"
    }
   ],
   "source": [
    "soup.html.body.contents[5]"
   ]
  },
  {
   "cell_type": "code",
   "execution_count": 10,
   "id": "cd4eac94",
   "metadata": {},
   "outputs": [
    {
     "data": {
      "text/plain": [
       "'\\n'"
      ]
     },
     "execution_count": 10,
     "metadata": {},
     "output_type": "execute_result"
    }
   ],
   "source": [
    "soup.html.body.contents[6]"
   ]
  },
  {
   "cell_type": "code",
   "execution_count": 11,
   "id": "9c0338a8",
   "metadata": {},
   "outputs": [
    {
     "data": {
      "text/plain": [
       "<div class=\"card\" id=\"card-python-machine-learning\">\n",
       "<div class=\"card-header\">\n",
       "            Python\n",
       "         </div>\n",
       "<div class=\"card-body\">\n",
       "<h5 class=\"card-title\">Python Machine Learning</h5>\n",
       "<p class=\"card-text\">Become a Python Machine Learning master!</p>\n",
       "<a class=\"btn btn-primary\" href=\"#\">Start for 100$</a>\n",
       "</div>\n",
       "</div>"
      ]
     },
     "execution_count": 11,
     "metadata": {},
     "output_type": "execute_result"
    }
   ],
   "source": [
    "soup.html.body.contents[7]"
   ]
  },
  {
   "cell_type": "code",
   "execution_count": 12,
   "id": "259efd00",
   "metadata": {},
   "outputs": [
    {
     "data": {
      "text/plain": [
       "'\\n'"
      ]
     },
     "execution_count": 12,
     "metadata": {},
     "output_type": "execute_result"
    }
   ],
   "source": [
    "soup.html.body.contents[8]"
   ]
  },
  {
   "cell_type": "code",
   "execution_count": 13,
   "id": "60bd53e4",
   "metadata": {},
   "outputs": [
    {
     "ename": "IndexError",
     "evalue": "list index out of range",
     "output_type": "error",
     "traceback": [
      "\u001b[0;31m---------------------------------------------------------------------------\u001b[0m",
      "\u001b[0;31mIndexError\u001b[0m                                Traceback (most recent call last)",
      "Input \u001b[0;32mIn [13]\u001b[0m, in \u001b[0;36m<cell line: 1>\u001b[0;34m()\u001b[0m\n\u001b[0;32m----> 1\u001b[0m \u001b[43msoup\u001b[49m\u001b[38;5;241;43m.\u001b[39;49m\u001b[43mhtml\u001b[49m\u001b[38;5;241;43m.\u001b[39;49m\u001b[43mbody\u001b[49m\u001b[38;5;241;43m.\u001b[39;49m\u001b[43mcontents\u001b[49m\u001b[43m[\u001b[49m\u001b[38;5;241;43m9\u001b[39;49m\u001b[43m]\u001b[49m\n",
      "\u001b[0;31mIndexError\u001b[0m: list index out of range"
     ]
    }
   ],
   "source": [
    "soup.html.body.contents[9]"
   ]
  },
  {
   "cell_type": "code",
   "execution_count": 14,
   "id": "0700a28c",
   "metadata": {},
   "outputs": [
    {
     "data": {
      "text/plain": [
       "<html lang=\"en\">\n",
       "<head>\n",
       "<meta charset=\"utf-8\"/>\n",
       "<meta content=\"width=device-width, initial-scale=1, shrink-to-fit=no\" name=\"viewport\"/>\n",
       "<link crossorigin=\"anonymous\" href=\"https://stackpath.bootstrapcdn.com/bootstrap/4.5.2/css/bootstrap.min.css\" integrity=\"sha384-JcKb8q3iqJ61gNV9KGb8thSsNjpSL0n8PARn9HuZOnIxN0hoP+VmmDGMN5t9UJ0Z\" rel=\"stylesheet\"/>\n",
       "<title>My Courses</title>\n",
       "</head>\n",
       "<body>\n",
       "<h1>Hello, Start Learning!</h1>\n",
       "<div class=\"card\" id=\"card-python-for-beginners\">\n",
       "<div class=\"card-header\">\n",
       "            Python\n",
       "         </div>\n",
       "<div class=\"card-body\">\n",
       "<h5 class=\"card-title\">Python for beginners</h5>\n",
       "<p class=\"card-text\">If you are new to Python, this is the course that you should buy!</p>\n",
       "<a class=\"btn btn-primary\" href=\"#\">Start for 20$</a>\n",
       "</div>\n",
       "</div>\n",
       "<div class=\"card\" id=\"card-python-web-development\">\n",
       "<div class=\"card-header\">\n",
       "            Python\n",
       "         </div>\n",
       "<div class=\"card-body\">\n",
       "<h5 class=\"card-title\">Python Web Development</h5>\n",
       "<p class=\"card-text\">If you feel enough confident with python, you are ready to learn how to create your own website!</p>\n",
       "<a class=\"btn btn-primary\" href=\"#\">Start for 50$</a>\n",
       "</div>\n",
       "</div>\n",
       "<div class=\"card\" id=\"card-python-machine-learning\">\n",
       "<div class=\"card-header\">\n",
       "            Python\n",
       "         </div>\n",
       "<div class=\"card-body\">\n",
       "<h5 class=\"card-title\">Python Machine Learning</h5>\n",
       "<p class=\"card-text\">Become a Python Machine Learning master!</p>\n",
       "<a class=\"btn btn-primary\" href=\"#\">Start for 100$</a>\n",
       "</div>\n",
       "</div>\n",
       "</body>\n",
       "</html>"
      ]
     },
     "execution_count": 14,
     "metadata": {},
     "output_type": "execute_result"
    }
   ],
   "source": [
    "soup.html"
   ]
  },
  {
   "cell_type": "code",
   "execution_count": 15,
   "id": "fd39ac01",
   "metadata": {},
   "outputs": [
    {
     "data": {
      "text/plain": [
       "<body>\n",
       "<h1>Hello, Start Learning!</h1>\n",
       "<div class=\"card\" id=\"card-python-for-beginners\">\n",
       "<div class=\"card-header\">\n",
       "            Python\n",
       "         </div>\n",
       "<div class=\"card-body\">\n",
       "<h5 class=\"card-title\">Python for beginners</h5>\n",
       "<p class=\"card-text\">If you are new to Python, this is the course that you should buy!</p>\n",
       "<a class=\"btn btn-primary\" href=\"#\">Start for 20$</a>\n",
       "</div>\n",
       "</div>\n",
       "<div class=\"card\" id=\"card-python-web-development\">\n",
       "<div class=\"card-header\">\n",
       "            Python\n",
       "         </div>\n",
       "<div class=\"card-body\">\n",
       "<h5 class=\"card-title\">Python Web Development</h5>\n",
       "<p class=\"card-text\">If you feel enough confident with python, you are ready to learn how to create your own website!</p>\n",
       "<a class=\"btn btn-primary\" href=\"#\">Start for 50$</a>\n",
       "</div>\n",
       "</div>\n",
       "<div class=\"card\" id=\"card-python-machine-learning\">\n",
       "<div class=\"card-header\">\n",
       "            Python\n",
       "         </div>\n",
       "<div class=\"card-body\">\n",
       "<h5 class=\"card-title\">Python Machine Learning</h5>\n",
       "<p class=\"card-text\">Become a Python Machine Learning master!</p>\n",
       "<a class=\"btn btn-primary\" href=\"#\">Start for 100$</a>\n",
       "</div>\n",
       "</div>\n",
       "</body>"
      ]
     },
     "execution_count": 15,
     "metadata": {},
     "output_type": "execute_result"
    }
   ],
   "source": [
    "soup.html.body"
   ]
  },
  {
   "cell_type": "code",
   "execution_count": 16,
   "id": "b5b997ff",
   "metadata": {},
   "outputs": [],
   "source": [
    "soup.html.style"
   ]
  },
  {
   "cell_type": "code",
   "execution_count": 17,
   "id": "1ce16d45",
   "metadata": {},
   "outputs": [
    {
     "data": {
      "text/plain": [
       "['\\n',\n",
       " <head>\n",
       " <meta charset=\"utf-8\"/>\n",
       " <meta content=\"width=device-width, initial-scale=1, shrink-to-fit=no\" name=\"viewport\"/>\n",
       " <link crossorigin=\"anonymous\" href=\"https://stackpath.bootstrapcdn.com/bootstrap/4.5.2/css/bootstrap.min.css\" integrity=\"sha384-JcKb8q3iqJ61gNV9KGb8thSsNjpSL0n8PARn9HuZOnIxN0hoP+VmmDGMN5t9UJ0Z\" rel=\"stylesheet\"/>\n",
       " <title>My Courses</title>\n",
       " </head>,\n",
       " '\\n',\n",
       " <body>\n",
       " <h1>Hello, Start Learning!</h1>\n",
       " <div class=\"card\" id=\"card-python-for-beginners\">\n",
       " <div class=\"card-header\">\n",
       "             Python\n",
       "          </div>\n",
       " <div class=\"card-body\">\n",
       " <h5 class=\"card-title\">Python for beginners</h5>\n",
       " <p class=\"card-text\">If you are new to Python, this is the course that you should buy!</p>\n",
       " <a class=\"btn btn-primary\" href=\"#\">Start for 20$</a>\n",
       " </div>\n",
       " </div>\n",
       " <div class=\"card\" id=\"card-python-web-development\">\n",
       " <div class=\"card-header\">\n",
       "             Python\n",
       "          </div>\n",
       " <div class=\"card-body\">\n",
       " <h5 class=\"card-title\">Python Web Development</h5>\n",
       " <p class=\"card-text\">If you feel enough confident with python, you are ready to learn how to create your own website!</p>\n",
       " <a class=\"btn btn-primary\" href=\"#\">Start for 50$</a>\n",
       " </div>\n",
       " </div>\n",
       " <div class=\"card\" id=\"card-python-machine-learning\">\n",
       " <div class=\"card-header\">\n",
       "             Python\n",
       "          </div>\n",
       " <div class=\"card-body\">\n",
       " <h5 class=\"card-title\">Python Machine Learning</h5>\n",
       " <p class=\"card-text\">Become a Python Machine Learning master!</p>\n",
       " <a class=\"btn btn-primary\" href=\"#\">Start for 100$</a>\n",
       " </div>\n",
       " </div>\n",
       " </body>,\n",
       " '\\n']"
      ]
     },
     "execution_count": 17,
     "metadata": {},
     "output_type": "execute_result"
    }
   ],
   "source": [
    "soup.html.contents"
   ]
  },
  {
   "cell_type": "code",
   "execution_count": 18,
   "id": "a9a06832",
   "metadata": {},
   "outputs": [
    {
     "data": {
      "text/plain": [
       "<title>My Courses</title>"
      ]
     },
     "execution_count": 18,
     "metadata": {},
     "output_type": "execute_result"
    }
   ],
   "source": [
    "soup.html.head.title"
   ]
  },
  {
   "cell_type": "code",
   "execution_count": 19,
   "id": "8dd3f222",
   "metadata": {},
   "outputs": [
    {
     "data": {
      "text/plain": [
       "'\\n+\\n+\\n+\\n+\\n+My Courses+\\n+\\n+\\n+Hello, Start Learning!+\\n+\\n+\\n            Python\\n         +\\n+\\n+Python for beginners+\\n+If you are new to Python, this is the course that you should buy!+\\n+Start for 20$+\\n+\\n+\\n+\\n+\\n            Python\\n         +\\n+\\n+Python Web Development+\\n+If you feel enough confident with python, you are ready to learn how to create your own website!+\\n+Start for 50$+\\n+\\n+\\n+\\n+\\n            Python\\n         +\\n+\\n+Python Machine Learning+\\n+Become a Python Machine Learning master!+\\n+Start for 100$+\\n+\\n+\\n+\\n+\\n'"
      ]
     },
     "execution_count": 19,
     "metadata": {},
     "output_type": "execute_result"
    }
   ],
   "source": [
    "soup.get_text('+') # indicators between the lines"
   ]
  },
  {
   "cell_type": "code",
   "execution_count": 20,
   "id": "4fb59622",
   "metadata": {},
   "outputs": [
    {
     "data": {
      "text/plain": [
       "'\\n\\n\\n\\n\\nMy Courses\\n\\n\\nHello, Start Learning!\\n\\n\\n            Python\\n         \\n\\nPython for beginners\\nIf you are new to Python, this is the course that you should buy!\\nStart for 20$\\n\\n\\n\\n\\n            Python\\n         \\n\\nPython Web Development\\nIf you feel enough confident with python, you are ready to learn how to create your own website!\\nStart for 50$\\n\\n\\n\\n\\n            Python\\n         \\n\\nPython Machine Learning\\nBecome a Python Machine Learning master!\\nStart for 100$\\n\\n\\n\\n\\n'"
      ]
     },
     "execution_count": 20,
     "metadata": {},
     "output_type": "execute_result"
    }
   ],
   "source": [
    "soup.get_text('') # it printing all the lines with \\n also"
   ]
  },
  {
   "cell_type": "code",
   "execution_count": 21,
   "id": "ed4db13d",
   "metadata": {},
   "outputs": [
    {
     "data": {
      "text/plain": [
       "'My Courses|Hello, Start Learning!|Python|Python for beginners|If you are new to Python, this is the course that you should buy!|Start for 20$|Python|Python Web Development|If you feel enough confident with python, you are ready to learn how to create your own website!|Start for 50$|Python|Python Machine Learning|Become a Python Machine Learning master!|Start for 100$'"
      ]
     },
     "execution_count": 21,
     "metadata": {},
     "output_type": "execute_result"
    }
   ],
   "source": [
    "soup.get_text('|',strip = True) # Printing in same line"
   ]
  },
  {
   "cell_type": "code",
   "execution_count": 22,
   "id": "c65b16df",
   "metadata": {},
   "outputs": [
    {
     "data": {
      "text/plain": [
       "<!DOCTYPE html>\n",
       "<html lang=\"en\">\n",
       "<head>\n",
       "<meta charset=\"utf-8\"/>\n",
       "<meta content=\"width=device-width, initial-scale=1, shrink-to-fit=no\" name=\"viewport\"/>\n",
       "<link crossorigin=\"anonymous\" href=\"https://stackpath.bootstrapcdn.com/bootstrap/4.5.2/css/bootstrap.min.css\" integrity=\"sha384-JcKb8q3iqJ61gNV9KGb8thSsNjpSL0n8PARn9HuZOnIxN0hoP+VmmDGMN5t9UJ0Z\" rel=\"stylesheet\"/>\n",
       "<title>My Courses</title>\n",
       "</head>\n",
       "<body>\n",
       "<h1>Hello, Start Learning!</h1>\n",
       "<div class=\"card\" id=\"card-python-for-beginners\">\n",
       "<div class=\"card-header\">\n",
       "            Python\n",
       "         </div>\n",
       "<div class=\"card-body\">\n",
       "<h5 class=\"card-title\">Python for beginners</h5>\n",
       "<p class=\"card-text\">If you are new to Python, this is the course that you should buy!</p>\n",
       "<a class=\"btn btn-primary\" href=\"#\">Start for 20$</a>\n",
       "</div>\n",
       "</div>\n",
       "<div class=\"card\" id=\"card-python-web-development\">\n",
       "<div class=\"card-header\">\n",
       "            Python\n",
       "         </div>\n",
       "<div class=\"card-body\">\n",
       "<h5 class=\"card-title\">Python Web Development</h5>\n",
       "<p class=\"card-text\">If you feel enough confident with python, you are ready to learn how to create your own website!</p>\n",
       "<a class=\"btn btn-primary\" href=\"#\">Start for 50$</a>\n",
       "</div>\n",
       "</div>\n",
       "<div class=\"card\" id=\"card-python-machine-learning\">\n",
       "<div class=\"card-header\">\n",
       "            Python\n",
       "         </div>\n",
       "<div class=\"card-body\">\n",
       "<h5 class=\"card-title\">Python Machine Learning</h5>\n",
       "<p class=\"card-text\">Become a Python Machine Learning master!</p>\n",
       "<a class=\"btn btn-primary\" href=\"#\">Start for 100$</a>\n",
       "</div>\n",
       "</div>\n",
       "</body>\n",
       "</html>"
      ]
     },
     "execution_count": 22,
     "metadata": {},
     "output_type": "execute_result"
    }
   ],
   "source": [
    "soup"
   ]
  },
  {
   "cell_type": "code",
   "execution_count": 23,
   "id": "627a1be5",
   "metadata": {},
   "outputs": [
    {
     "data": {
      "text/plain": [
       "<head>\n",
       "<meta charset=\"utf-8\"/>\n",
       "<meta content=\"width=device-width, initial-scale=1, shrink-to-fit=no\" name=\"viewport\"/>\n",
       "<link crossorigin=\"anonymous\" href=\"https://stackpath.bootstrapcdn.com/bootstrap/4.5.2/css/bootstrap.min.css\" integrity=\"sha384-JcKb8q3iqJ61gNV9KGb8thSsNjpSL0n8PARn9HuZOnIxN0hoP+VmmDGMN5t9UJ0Z\" rel=\"stylesheet\"/>\n",
       "<title>My Courses</title>\n",
       "</head>"
      ]
     },
     "execution_count": 23,
     "metadata": {},
     "output_type": "execute_result"
    }
   ],
   "source": [
    "soup.title.parent"
   ]
  },
  {
   "cell_type": "code",
   "execution_count": 24,
   "id": "2501b04c",
   "metadata": {},
   "outputs": [
    {
     "data": {
      "text/plain": [
       "<title>My Courses</title>"
      ]
     },
     "execution_count": 24,
     "metadata": {},
     "output_type": "execute_result"
    }
   ],
   "source": [
    "soup.title"
   ]
  },
  {
   "cell_type": "code",
   "execution_count": 25,
   "id": "46adb117",
   "metadata": {},
   "outputs": [
    {
     "data": {
      "text/plain": [
       "'My Courses'"
      ]
     },
     "execution_count": 25,
     "metadata": {},
     "output_type": "execute_result"
    }
   ],
   "source": [
    "soup.title.next"
   ]
  },
  {
   "cell_type": "code",
   "execution_count": 26,
   "id": "d5ad6fc4",
   "metadata": {},
   "outputs": [
    {
     "data": {
      "text/plain": [
       "<p class=\"card-text\">If you are new to Python, this is the course that you should buy!</p>"
      ]
     },
     "execution_count": 26,
     "metadata": {},
     "output_type": "execute_result"
    }
   ],
   "source": [
    "soup.body.p"
   ]
  },
  {
   "cell_type": "code",
   "execution_count": 27,
   "id": "f8a4b674",
   "metadata": {},
   "outputs": [
    {
     "data": {
      "text/plain": [
       "'If you are new to Python, this is the course that you should buy!'"
      ]
     },
     "execution_count": 27,
     "metadata": {},
     "output_type": "execute_result"
    }
   ],
   "source": [
    "soup.body.p.next"
   ]
  },
  {
   "cell_type": "code",
   "execution_count": 28,
   "id": "029e2d5e",
   "metadata": {},
   "outputs": [
    {
     "data": {
      "text/plain": [
       "'\\n'"
      ]
     },
     "execution_count": 28,
     "metadata": {},
     "output_type": "execute_result"
    }
   ],
   "source": [
    "soup.body.p.next.next"
   ]
  },
  {
   "cell_type": "code",
   "execution_count": 29,
   "id": "eefe698c",
   "metadata": {},
   "outputs": [
    {
     "data": {
      "text/plain": [
       "'\\n'"
      ]
     },
     "execution_count": 29,
     "metadata": {},
     "output_type": "execute_result"
    }
   ],
   "source": [
    "soup.body.p.next.next.string"
   ]
  },
  {
   "cell_type": "code",
   "execution_count": 30,
   "id": "70c6004b",
   "metadata": {},
   "outputs": [
    {
     "data": {
      "text/plain": [
       "'Start for 20$'"
      ]
     },
     "execution_count": 30,
     "metadata": {},
     "output_type": "execute_result"
    }
   ],
   "source": [
    "soup.body.p.next.next.next.next"
   ]
  },
  {
   "cell_type": "code",
   "execution_count": 31,
   "id": "35e14415",
   "metadata": {},
   "outputs": [
    {
     "data": {
      "text/plain": [
       "'\\n'"
      ]
     },
     "execution_count": 31,
     "metadata": {},
     "output_type": "execute_result"
    }
   ],
   "source": [
    "soup.body.p.next.next.next.next.next"
   ]
  },
  {
   "cell_type": "code",
   "execution_count": 32,
   "id": "0706d53a",
   "metadata": {},
   "outputs": [
    {
     "data": {
      "text/plain": [
       "'\\n'"
      ]
     },
     "execution_count": 32,
     "metadata": {},
     "output_type": "execute_result"
    }
   ],
   "source": [
    "soup.body.p.next.next.next.next.next.next"
   ]
  },
  {
   "cell_type": "code",
   "execution_count": 33,
   "id": "a5fea70c",
   "metadata": {},
   "outputs": [
    {
     "data": {
      "text/plain": [
       "<a class=\"btn btn-primary\" href=\"#\">Start for 20$</a>"
      ]
     },
     "execution_count": 33,
     "metadata": {},
     "output_type": "execute_result"
    }
   ],
   "source": [
    "soup.html.body.p.nextSibling.nextSibling"
   ]
  },
  {
   "cell_type": "markdown",
   "id": "54480218",
   "metadata": {},
   "source": [
    "# find_all method"
   ]
  },
  {
   "cell_type": "code",
   "execution_count": 34,
   "id": "5d6866b9",
   "metadata": {},
   "outputs": [
    {
     "data": {
      "text/plain": [
       "[<p class=\"card-text\">If you are new to Python, this is the course that you should buy!</p>,\n",
       " <p class=\"card-text\">If you feel enough confident with python, you are ready to learn how to create your own website!</p>,\n",
       " <p class=\"card-text\">Become a Python Machine Learning master!</p>]"
      ]
     },
     "execution_count": 34,
     "metadata": {},
     "output_type": "execute_result"
    }
   ],
   "source": [
    "soup.find_all('p')"
   ]
  },
  {
   "cell_type": "code",
   "execution_count": 35,
   "id": "a17cfcde",
   "metadata": {},
   "outputs": [
    {
     "data": {
      "text/plain": [
       "<p class=\"card-text\">If you are new to Python, this is the course that you should buy!</p>"
      ]
     },
     "execution_count": 35,
     "metadata": {},
     "output_type": "execute_result"
    }
   ],
   "source": [
    "soup.find_all('p')[0]"
   ]
  },
  {
   "cell_type": "code",
   "execution_count": 36,
   "id": "f7a68bea",
   "metadata": {},
   "outputs": [
    {
     "data": {
      "text/plain": [
       "<p class=\"card-text\">If you feel enough confident with python, you are ready to learn how to create your own website!</p>"
      ]
     },
     "execution_count": 36,
     "metadata": {},
     "output_type": "execute_result"
    }
   ],
   "source": [
    "soup.find_all('p')[1]"
   ]
  },
  {
   "cell_type": "code",
   "execution_count": 37,
   "id": "756663dc",
   "metadata": {},
   "outputs": [
    {
     "data": {
      "text/plain": [
       "<p class=\"card-text\">Become a Python Machine Learning master!</p>"
      ]
     },
     "execution_count": 37,
     "metadata": {},
     "output_type": "execute_result"
    }
   ],
   "source": [
    "soup.find_all('p')[2]"
   ]
  },
  {
   "cell_type": "code",
   "execution_count": 38,
   "id": "6463107f",
   "metadata": {},
   "outputs": [
    {
     "ename": "IndexError",
     "evalue": "list index out of range",
     "output_type": "error",
     "traceback": [
      "\u001b[0;31m---------------------------------------------------------------------------\u001b[0m",
      "\u001b[0;31mIndexError\u001b[0m                                Traceback (most recent call last)",
      "Input \u001b[0;32mIn [38]\u001b[0m, in \u001b[0;36m<cell line: 1>\u001b[0;34m()\u001b[0m\n\u001b[0;32m----> 1\u001b[0m \u001b[43msoup\u001b[49m\u001b[38;5;241;43m.\u001b[39;49m\u001b[43mfind_all\u001b[49m\u001b[43m(\u001b[49m\u001b[38;5;124;43m'\u001b[39;49m\u001b[38;5;124;43mp\u001b[39;49m\u001b[38;5;124;43m'\u001b[39;49m\u001b[43m)\u001b[49m\u001b[43m[\u001b[49m\u001b[38;5;241;43m3\u001b[39;49m\u001b[43m]\u001b[49m\n",
      "\u001b[0;31mIndexError\u001b[0m: list index out of range"
     ]
    }
   ],
   "source": [
    "soup.find_all('p')[3] # there is no p tag after this"
   ]
  },
  {
   "cell_type": "markdown",
   "id": "3d39d525",
   "metadata": {},
   "source": [
    "# To read the file as html file"
   ]
  },
  {
   "cell_type": "code",
   "execution_count": 39,
   "id": "9bbc2a4f",
   "metadata": {},
   "outputs": [
    {
     "name": "stdout",
     "output_type": "stream",
     "text": [
      "Requirement already satisfied: lxml in /Users/archanaqueen/opt/anaconda3/lib/python3.9/site-packages (4.7.1)\n",
      "Note: you may need to restart the kernel to use updated packages.\n"
     ]
    }
   ],
   "source": [
    "pip install lxml"
   ]
  },
  {
   "cell_type": "code",
   "execution_count": 40,
   "id": "21f0bc2b",
   "metadata": {},
   "outputs": [
    {
     "name": "stdout",
     "output_type": "stream",
     "text": [
      "<!DOCTYPE html>\n",
      "<html lang=\"en\">\n",
      " <head>\n",
      "  <meta charset=\"utf-8\"/>\n",
      "  <meta content=\"width=device-width, initial-scale=1, shrink-to-fit=no\" name=\"viewport\"/>\n",
      "  <link crossorigin=\"anonymous\" href=\"https://stackpath.bootstrapcdn.com/bootstrap/4.5.2/css/bootstrap.min.css\" integrity=\"sha384-JcKb8q3iqJ61gNV9KGb8thSsNjpSL0n8PARn9HuZOnIxN0hoP+VmmDGMN5t9UJ0Z\" rel=\"stylesheet\"/>\n",
      "  <title>\n",
      "   My Courses\n",
      "  </title>\n",
      " </head>\n",
      " <body>\n",
      "  <h1>\n",
      "   Hello, Start Learning!\n",
      "  </h1>\n",
      "  <div class=\"card\" id=\"card-python-for-beginners\">\n",
      "   <div class=\"card-header\">\n",
      "    Python\n",
      "   </div>\n",
      "   <div class=\"card-body\">\n",
      "    <h5 class=\"card-title\">\n",
      "     Python for beginners\n",
      "    </h5>\n",
      "    <p class=\"card-text\">\n",
      "     If you are new to Python, this is the course that you should buy!\n",
      "    </p>\n",
      "    <a class=\"btn btn-primary\" href=\"#\">\n",
      "     Start for 20$\n",
      "    </a>\n",
      "   </div>\n",
      "  </div>\n",
      "  <div class=\"card\" id=\"card-python-web-development\">\n",
      "   <div class=\"card-header\">\n",
      "    Python\n",
      "   </div>\n",
      "   <div class=\"card-body\">\n",
      "    <h5 class=\"card-title\">\n",
      "     Python Web Development\n",
      "    </h5>\n",
      "    <p class=\"card-text\">\n",
      "     If you feel enough confident with python, you are ready to learn how to create your own website!\n",
      "    </p>\n",
      "    <a class=\"btn btn-primary\" href=\"#\">\n",
      "     Start for 50$\n",
      "    </a>\n",
      "   </div>\n",
      "  </div>\n",
      "  <div class=\"card\" id=\"card-python-machine-learning\">\n",
      "   <div class=\"card-header\">\n",
      "    Python\n",
      "   </div>\n",
      "   <div class=\"card-body\">\n",
      "    <h5 class=\"card-title\">\n",
      "     Python Machine Learning\n",
      "    </h5>\n",
      "    <p class=\"card-text\">\n",
      "     Become a Python Machine Learning master!\n",
      "    </p>\n",
      "    <a class=\"btn btn-primary\" href=\"#\">\n",
      "     Start for 100$\n",
      "    </a>\n",
      "   </div>\n",
      "  </div>\n",
      " </body>\n",
      "</html>\n",
      "\n"
     ]
    }
   ],
   "source": [
    "from bs4 import BeautifulSoup\n",
    "\n",
    "with open('web.html', 'r') as html_file:\n",
    "    content = html_file.read()\n",
    "    \n",
    "    soup = BeautifulSoup(content, 'lxml')\n",
    "    print(soup.prettify())"
   ]
  },
  {
   "cell_type": "code",
   "execution_count": 41,
   "id": "669cb7ca",
   "metadata": {},
   "outputs": [],
   "source": [
    "# find method - this will find and give only the first element found in the program"
   ]
  },
  {
   "cell_type": "code",
   "execution_count": 42,
   "id": "b88f5757",
   "metadata": {},
   "outputs": [],
   "source": [
    "tags = soup.find('h5')"
   ]
  },
  {
   "cell_type": "code",
   "execution_count": 43,
   "id": "9fc57313",
   "metadata": {},
   "outputs": [
    {
     "data": {
      "text/plain": [
       "<h5 class=\"card-title\">Python for beginners</h5>"
      ]
     },
     "execution_count": 43,
     "metadata": {},
     "output_type": "execute_result"
    }
   ],
   "source": [
    "tags"
   ]
  },
  {
   "cell_type": "code",
   "execution_count": 44,
   "id": "57894617",
   "metadata": {},
   "outputs": [],
   "source": [
    "# find_all method - this will find and give all the elements found in the program"
   ]
  },
  {
   "cell_type": "code",
   "execution_count": 45,
   "id": "a05fbac5",
   "metadata": {},
   "outputs": [],
   "source": [
    "courses_html_tags = soup.find_all('h5')"
   ]
  },
  {
   "cell_type": "code",
   "execution_count": 46,
   "id": "f3d6cecf",
   "metadata": {},
   "outputs": [
    {
     "data": {
      "text/plain": [
       "[<h5 class=\"card-title\">Python for beginners</h5>,\n",
       " <h5 class=\"card-title\">Python Web Development</h5>,\n",
       " <h5 class=\"card-title\">Python Machine Learning</h5>]"
      ]
     },
     "execution_count": 46,
     "metadata": {},
     "output_type": "execute_result"
    }
   ],
   "source": [
    "courses_html_tags"
   ]
  },
  {
   "cell_type": "code",
   "execution_count": 47,
   "id": "c885fdc3",
   "metadata": {},
   "outputs": [],
   "source": [
    "# see above one displays in a list format. So we can do iterations"
   ]
  },
  {
   "cell_type": "code",
   "execution_count": 48,
   "id": "d900185e",
   "metadata": {},
   "outputs": [
    {
     "name": "stdout",
     "output_type": "stream",
     "text": [
      "Python for beginners\n",
      "Python Web Development\n",
      "Python Machine Learning\n"
     ]
    }
   ],
   "source": [
    "for course in courses_html_tags:\n",
    "    print(course.text)"
   ]
  },
  {
   "cell_type": "code",
   "execution_count": 49,
   "id": "47359aba",
   "metadata": {},
   "outputs": [],
   "source": [
    "# Now we will see the 'inspect' in the web page for this program"
   ]
  },
  {
   "cell_type": "code",
   "execution_count": 50,
   "id": "3b8fdbaa",
   "metadata": {},
   "outputs": [],
   "source": [
    "course_cards = soup.find_all('div', class_ = 'card')"
   ]
  },
  {
   "cell_type": "code",
   "execution_count": 51,
   "id": "ea1013b4",
   "metadata": {},
   "outputs": [
    {
     "data": {
      "text/plain": [
       "[<div class=\"card\" id=\"card-python-for-beginners\">\n",
       " <div class=\"card-header\">\n",
       "             Python\n",
       "          </div>\n",
       " <div class=\"card-body\">\n",
       " <h5 class=\"card-title\">Python for beginners</h5>\n",
       " <p class=\"card-text\">If you are new to Python, this is the course that you should buy!</p>\n",
       " <a class=\"btn btn-primary\" href=\"#\">Start for 20$</a>\n",
       " </div>\n",
       " </div>,\n",
       " <div class=\"card\" id=\"card-python-web-development\">\n",
       " <div class=\"card-header\">\n",
       "             Python\n",
       "          </div>\n",
       " <div class=\"card-body\">\n",
       " <h5 class=\"card-title\">Python Web Development</h5>\n",
       " <p class=\"card-text\">If you feel enough confident with python, you are ready to learn how to create your own website!</p>\n",
       " <a class=\"btn btn-primary\" href=\"#\">Start for 50$</a>\n",
       " </div>\n",
       " </div>,\n",
       " <div class=\"card\" id=\"card-python-machine-learning\">\n",
       " <div class=\"card-header\">\n",
       "             Python\n",
       "          </div>\n",
       " <div class=\"card-body\">\n",
       " <h5 class=\"card-title\">Python Machine Learning</h5>\n",
       " <p class=\"card-text\">Become a Python Machine Learning master!</p>\n",
       " <a class=\"btn btn-primary\" href=\"#\">Start for 100$</a>\n",
       " </div>\n",
       " </div>]"
      ]
     },
     "execution_count": 51,
     "metadata": {},
     "output_type": "execute_result"
    }
   ],
   "source": [
    "course_cards # see it prints all the tags inside div class"
   ]
  },
  {
   "cell_type": "code",
   "execution_count": 52,
   "id": "66f7823a",
   "metadata": {},
   "outputs": [
    {
     "name": "stdout",
     "output_type": "stream",
     "text": [
      "<h5 class=\"card-title\">Python for beginners</h5>\n",
      "<h5 class=\"card-title\">Python Web Development</h5>\n",
      "<h5 class=\"card-title\">Python Machine Learning</h5>\n"
     ]
    }
   ],
   "source": [
    "for course in course_cards:\n",
    "    print(course.h5)"
   ]
  },
  {
   "cell_type": "code",
   "execution_count": 53,
   "id": "b622e54c",
   "metadata": {},
   "outputs": [
    {
     "name": "stdout",
     "output_type": "stream",
     "text": [
      "<a class=\"btn btn-primary\" href=\"#\">Start for 20$</a>\n",
      "<a class=\"btn btn-primary\" href=\"#\">Start for 50$</a>\n",
      "<a class=\"btn btn-primary\" href=\"#\">Start for 100$</a>\n"
     ]
    }
   ],
   "source": [
    "for course in course_cards:\n",
    "    print(course.a)"
   ]
  },
  {
   "cell_type": "code",
   "execution_count": 54,
   "id": "8688320c",
   "metadata": {},
   "outputs": [
    {
     "name": "stdout",
     "output_type": "stream",
     "text": [
      "Python for beginners\n",
      "Start for 20$\n",
      "Python Web Development\n",
      "Start for 50$\n",
      "Python Machine Learning\n",
      "Start for 100$\n"
     ]
    }
   ],
   "source": [
    "for course in course_cards:\n",
    "    course_name = course.h5.text\n",
    "    course_price = course.a.text\n",
    "    \n",
    "    print(course_name)\n",
    "    print(course_price)"
   ]
  },
  {
   "cell_type": "code",
   "execution_count": 55,
   "id": "6c90b669",
   "metadata": {},
   "outputs": [
    {
     "name": "stdout",
     "output_type": "stream",
     "text": [
      "Python for beginners\n",
      "20$\n",
      "Python Web Development\n",
      "50$\n",
      "Python Machine Learning\n",
      "100$\n"
     ]
    }
   ],
   "source": [
    "for course in course_cards:\n",
    "    course_name = course.h5.text\n",
    "    course_price = course.a.text.split()[-1]\n",
    "    \n",
    "    print(course_name)\n",
    "    print(course_price)"
   ]
  },
  {
   "cell_type": "code",
   "execution_count": 56,
   "id": "aad918d3",
   "metadata": {},
   "outputs": [
    {
     "name": "stdout",
     "output_type": "stream",
     "text": [
      "Python for beginners costs 20$\n",
      "Python Web Development costs 50$\n",
      "Python Machine Learning costs 100$\n"
     ]
    }
   ],
   "source": [
    "for course in course_cards:\n",
    "    course_name = course.h5.text\n",
    "    course_price = course.a.text.split()[-1]\n",
    "    \n",
    "    print(f'{course_name} costs {course_price}')"
   ]
  },
  {
   "cell_type": "markdown",
   "id": "cc399d64",
   "metadata": {},
   "source": [
    "# Web Scrapring for Real website"
   ]
  },
  {
   "cell_type": "code",
   "execution_count": 57,
   "id": "06937be9",
   "metadata": {},
   "outputs": [],
   "source": [
    "import requests"
   ]
  },
  {
   "cell_type": "code",
   "execution_count": 58,
   "id": "b3b53a80",
   "metadata": {},
   "outputs": [],
   "source": [
    "html_text = requests.get(\"https://jobbuzz.timesjobs.com/jobs/all\")"
   ]
  },
  {
   "cell_type": "code",
   "execution_count": 59,
   "id": "4f094554",
   "metadata": {},
   "outputs": [
    {
     "data": {
      "text/plain": [
       "<Response [200]>"
      ]
     },
     "execution_count": 59,
     "metadata": {},
     "output_type": "execute_result"
    }
   ],
   "source": [
    "html_text"
   ]
  },
  {
   "cell_type": "code",
   "execution_count": 60,
   "id": "a3d35b87",
   "metadata": {},
   "outputs": [],
   "source": [
    "# To get text of that particular page"
   ]
  },
  {
   "cell_type": "code",
   "execution_count": 61,
   "id": "3d00791b",
   "metadata": {},
   "outputs": [],
   "source": [
    "html_text = requests.get(\"https://jobbuzz.timesjobs.com/jobs/all\").text"
   ]
  },
  {
   "cell_type": "code",
   "execution_count": 62,
   "id": "1f97860a",
   "metadata": {},
   "outputs": [
    {
     "data": {
      "text/plain": [
       "'\\n\\n\\n\\n<!DOCTYPE html>\\n<html data-ng-controller=\"parentctrl\" xmlns=\"http://www.w3.org/1999/xhtml\" xmlns:og=\"http://opengraphprotocol.org/schema/\" xmlns:fb=\"http://www.facebook.com/2008/fbml\" lang=\"en\"  data-ng-app=\"JobBuzz\">\\n\\n<head id=\"jobbuzzheadtag\">\\t\\n\\t<meta name=\"viewport\" content=\"width=device-width, initial-scale=1.0\" />\\n\\t<meta http-equiv=\"Content-Type\" content=\"text/html; charset=utf-8\" />\\n\\t<meta property=\"fb:admins\" content=\"100004522188237\" />\\n\\t<meta name=\"fragment\" content=\"!\">\\n\\t\\n<script type=\"text/javascript\">(window.NREUM||(NREUM={})).init={privacy:{cookies_enabled:true},ajax:{deny_list:[\"bam.nr-data.net\"]},distributed_tracing:{enabled:true}};(window.NREUM||(NREUM={})).loader_config={agentID:\"1834956831\",accountID:\"3252369\",trustKey:\"2223361\",xpid:\"VwQCU1VVARABXFFbBAACV1MI\",licenseKey:\"NRJS-155b87767dc9cc0075a\",applicationID:\"1809315179\"};;/*! For license information please see nr-loader-spa-1.237.1.min.js.LICENSE.txt */\\n(()=>{\"use strict\";var e,t,r={5763:(e,t,r)=>{r.d(t,{P_:()=>f,Mt:()=>g,C5:()=>s,DL:()=>v,OP:()=>T,lF:()=>j,Yu:()=>y,Dg:()=>h,CX:()=>c,GE:()=>b,sU:()=>_});var n=r(8632),i=r(9567);const o={beacon:n.ce.beacon,errorBeacon:n.ce.errorBeacon,licenseKey:void 0,applicationID:void 0,sa:void 0,queueTime:void 0,applicationTime:void 0,ttGuid:void 0,user:void 0,account:void 0,product:void 0,extra:void 0,jsAttributes:{},userAttributes:void 0,atts:void 0,transactionName:void 0,tNamePlain:void 0},a={};function s(e){if(!e)throw new Error(\"All info objects require an agent identifier!\");if(!a[e])throw new Error(\"Info for \".concat(e,\" was never set\"));return a[e]}function c(e,t){if(!e)throw new Error(\"All info objects require an agent identifier!\");a[e]=(0,i.D)(t,o),(0,n.Qy)(e,a[e],\"info\")}var d=r(7056);const u=()=>{const e={blockSelector:\"[data-nr-block]\",maskInputOptions:{password:!0}};return{allow_bfcache:!0,privacy:{cookies_enabled:!0},ajax:{deny_list:void 0,block_internal:!0,enabled:!0,harvestTimeSeconds:10},distributed_tracing:{enabled:void 0,exclude_newrelic_header:void 0,cors_use_newrelic_header:void 0,cors_use_tracecontext_headers:void 0,allowed_origins:void 0},session:{domain:void 0,expiresMs:d.oD,inactiveMs:d.Hb},ssl:void 0,obfuscate:void 0,jserrors:{enabled:!0,harvestTimeSeconds:10},metrics:{enabled:!0},page_action:{enabled:!0,harvestTimeSeconds:30},page_view_event:{enabled:!0},page_view_timing:{enabled:!0,harvestTimeSeconds:30,long_task:!1},session_trace:{enabled:!0,harvestTimeSeconds:10},harvest:{tooManyRequestsDelay:60},session_replay:{enabled:!1,harvestTimeSeconds:60,sampleRate:.1,errorSampleRate:.1,maskTextSelector:\"*\",maskAllInputs:!0,get blockClass(){return\"nr-block\"},get ignoreClass(){return\"nr-ignore\"},get maskTextClass(){return\"nr-mask\"},get blockSelector(){return e.blockSelector},set blockSelector(t){e.blockSelector+=\",\".concat(t)},get maskInputOptions(){return e.maskInputOptions},set maskInputOptions(t){e.maskInputOptions={...t,password:!0}}},spa:{enabled:!0,harvestTimeSeconds:10}}},l={};function f(e){if(!e)throw new Error(\"All configuration objects require an agent identifier!\");if(!l[e])throw new Error(\"Configuration for \".concat(e,\" was never set\"));return l[e]}function h(e,t){if(!e)throw new Error(\"All configuration objects require an agent identifier!\");l[e]=(0,i.D)(t,u()),(0,n.Qy)(e,l[e],\"config\")}function g(e,t){if(!e)throw new Error(\"All configuration objects require an agent identifier!\");var r=f(e);if(r){for(var n=t.split(\".\"),i=0;i<n.length-1;i++)if(\"object\"!=typeof(r=r[n[i]]))return;r=r[n[n.length-1]]}return r}const p={accountID:void 0,trustKey:void 0,agentID:void 0,licenseKey:void 0,applicationID:void 0,xpid:void 0},m={};function v(e){if(!e)throw new Error(\"All loader-config objects require an agent identifier!\");if(!m[e])throw new Error(\"LoaderConfig for \".concat(e,\" was never set\"));return m[e]}function b(e,t){if(!e)throw new Error(\"All loader-config objects require an agent identifier!\");m[e]=(0,i.D)(t,p),(0,n.Qy)(e,m[e],\"loader_config\")}const y=(0,n.mF)().o;var w=r(385),x=r(6818);const A={buildEnv:x.Re,bytesSent:{},queryBytesSent:{},customTransaction:void 0,disabled:!1,distMethod:x.gF,isolatedBacklog:!1,loaderType:void 0,maxBytes:3e4,offset:Math.floor(w._A?.performance?.timeOrigin||w._A?.performance?.timing?.navigationStart||Date.now()),onerror:void 0,origin:\"\"+w._A.location,ptid:void 0,releaseIds:{},session:void 0,xhrWrappable:\"function\"==typeof w._A.XMLHttpRequest?.prototype?.addEventListener,version:x.q4,denyList:void 0},E={};function T(e){if(!e)throw new Error(\"All runtime objects require an agent identifier!\");if(!E[e])throw new Error(\"Runtime for \".concat(e,\" was never set\"));return E[e]}function _(e,t){if(!e)throw new Error(\"All runtime objects require an agent identifier!\");E[e]=(0,i.D)(t,A),(0,n.Qy)(e,E[e],\"runtime\")}function j(e){return function(e){try{const t=s(e);return!!t.licenseKey&&!!t.errorBeacon&&!!t.applicationID}catch(e){return!1}}(e)}},9567:(e,t,r)=>{r.d(t,{D:()=>i});var n=r(50);function i(e,t){try{if(!e||\"object\"!=typeof e)return(0,n.Z)(\"Setting a Configurable requires an object as input\");if(!t||\"object\"!=typeof t)return(0,n.Z)(\"Setting a Configurable requires a model to set its initial properties\");const r=Object.create(Object.getPrototypeOf(t),Object.getOwnPropertyDescriptors(t)),o=0===Object.keys(r).length?e:r;for(let a in o)if(void 0!==e[a])try{\"object\"==typeof e[a]&&\"object\"==typeof t[a]?r[a]=i(e[a],t[a]):r[a]=e[a]}catch(e){(0,n.Z)(\"An error occurred while setting a property of a Configurable\",e)}return r}catch(e){(0,n.Z)(\"An error occured while setting a Configurable\",e)}}},6818:(e,t,r)=>{r.d(t,{Re:()=>i,gF:()=>o,q4:()=>n});const n=\"1.237.1\",i=\"PROD\",o=\"CDN\"},385:(e,t,r)=>{r.d(t,{FN:()=>a,IF:()=>d,Nk:()=>l,Tt:()=>s,_A:()=>o,il:()=>n,pL:()=>c,v6:()=>i,w1:()=>u});const n=\"undefined\"!=typeof window&&!!window.document,i=\"undefined\"!=typeof WorkerGlobalScope&&(\"undefined\"!=typeof self&&self instanceof WorkerGlobalScope&&self.navigator instanceof WorkerNavigator||\"undefined\"!=typeof globalThis&&globalThis instanceof WorkerGlobalScope&&globalThis.navigator instanceof WorkerNavigator),o=n?window:\"undefined\"!=typeof WorkerGlobalScope&&(\"undefined\"!=typeof self&&self instanceof WorkerGlobalScope&&self||\"undefined\"!=typeof globalThis&&globalThis instanceof WorkerGlobalScope&&globalThis),a=\"\"+o?.location,s=/iPad|iPhone|iPod/.test(navigator.userAgent),c=s&&\"undefined\"==typeof SharedWorker,d=(()=>{const e=navigator.userAgent.match(/Firefox[/\\\\s](\\\\d+\\\\.\\\\d+)/);return Array.isArray(e)&&e.length>=2?+e[1]:0})(),u=Boolean(n&&window.document.documentMode),l=!!navigator.sendBeacon},1117:(e,t,r)=>{r.d(t,{w:()=>o});var n=r(50);const i={agentIdentifier:\"\",ee:void 0};class o{constructor(e){try{if(\"object\"!=typeof e)return(0,n.Z)(\"shared context requires an object as input\");this.sharedContext={},Object.assign(this.sharedContext,i),Object.entries(e).forEach((e=>{let[t,r]=e;Object.keys(i).includes(t)&&(this.sharedContext[t]=r)}))}catch(e){(0,n.Z)(\"An error occured while setting SharedContext\",e)}}}},8e3:(e,t,r)=>{r.d(t,{L:()=>u,R:()=>c});var n=r(2177),i=r(1284),o=r(4322),a=r(3325);const s={};function c(e,t){const r={staged:!1,priority:a.p[t]||0};d(e),s[e].get(t)||s[e].set(t,r)}function d(e){e&&(s[e]||(s[e]=new Map))}function u(){let e=arguments.length>0&&void 0!==arguments[0]?arguments[0]:\"\",t=arguments.length>1&&void 0!==arguments[1]?arguments[1]:\"feature\";if(d(e),!e||!s[e].get(t))return a(t);s[e].get(t).staged=!0;const r=[...s[e]];function a(t){const r=e?n.ee.get(e):n.ee,a=o.X.handlers;if(r.backlog&&a){var s=r.backlog[t],c=a[t];if(c){for(var d=0;s&&d<s.length;++d)l(s[d],c);(0,i.D)(c,(function(e,t){(0,i.D)(t,(function(t,r){r[0].on(e,r[1])}))}))}delete a[t],r.backlog[t]=null,r.emit(\"drain-\"+t,[])}}r.every((e=>{let[t,r]=e;return r.staged}))&&(r.sort(((e,t)=>e[1].priority-t[1].priority)),r.forEach((e=>{let[t]=e;a(t)})))}function l(e,t){var r=e[1];(0,i.D)(t[r],(function(t,r){var n=e[0];if(r[0]===n){var i=r[1],o=e[3],a=e[2];i.apply(o,a)}}))}},2177:(e,t,r)=>{r.d(t,{c:()=>l,ee:()=>d});var n=r(8632),i=r(2210),o=r(1284),a=r(5763),s=\"nr@context\";let c=(0,n.fP)();var d;function u(){}function l(e){return(0,i.X)(e,s,f)}function f(){return new u}function h(){d.aborted=!0,d.backlog={}}c.ee?d=c.ee:(d=function e(t,r){var n={},c={},l={},g=!1;try{g=16===r.length&&(0,a.OP)(r).isolatedBacklog}catch(e){}var p={on:b,addEventListener:b,removeEventListener:y,emit:v,get:x,listeners:w,context:m,buffer:A,abort:h,aborted:!1,isBuffering:E,debugId:r,backlog:g?{}:t&&\"object\"==typeof t.backlog?t.backlog:{}};return p;function m(e){return e&&e instanceof u?e:e?(0,i.X)(e,s,f):f()}function v(e,r,n,i,o){if(!1!==o&&(o=!0),!d.aborted||i){t&&o&&t.emit(e,r,n);for(var a=m(n),s=w(e),u=s.length,l=0;l<u;l++)s[l].apply(a,r);var f=T()[c[e]];return f&&f.push([p,e,r,a]),a}}function b(e,t){n[e]=w(e).concat(t)}function y(e,t){var r=n[e];if(r)for(var i=0;i<r.length;i++)r[i]===t&&r.splice(i,1)}function w(e){return n[e]||[]}function x(t){return l[t]=l[t]||e(p,t)}function A(e,t){var r=T();p.aborted||(0,o.D)(e,(function(e,n){t=t||\"feature\",c[n]=t,t in r||(r[t]=[])}))}function E(e){return!!T()[c[e]]}function T(){return p.backlog}}(void 0,\"globalEE\"),c.ee=d)},5546:(e,t,r)=>{r.d(t,{E:()=>n,p:()=>i});var n=r(2177).ee.get(\"handle\");function i(e,t,r,i,o){o?(o.buffer([e],i),o.emit(e,t,r)):(n.buffer([e],i),n.emit(e,t,r))}},4322:(e,t,r)=>{r.d(t,{X:()=>o});var n=r(5546);o.on=a;var i=o.handlers={};function o(e,t,r,o){a(o||n.E,i,e,t,r)}function a(e,t,r,i,o){o||(o=\"feature\"),e||(e=n.E);var a=t[o]=t[o]||{};(a[r]=a[r]||[]).push([e,i])}},3239:(e,t,r)=>{r.d(t,{bP:()=>s,iz:()=>c,m$:()=>a});var n=r(385);let i=!1,o=!1;try{const e={get passive(){return i=!0,!1},get signal(){return o=!0,!1}};n._A.addEventListener(\"test\",null,e),n._A.removeEventListener(\"test\",null,e)}catch(e){}function a(e,t){return i||o?{capture:!!e,passive:i,signal:t}:!!e}function s(e,t){let r=arguments.length>2&&void 0!==arguments[2]&&arguments[2],n=arguments.length>3?arguments[3]:void 0;window.addEventListener(e,t,a(r,n))}function c(e,t){let r=arguments.length>2&&void 0!==arguments[2]&&arguments[2],n=arguments.length>3?arguments[3]:void 0;document.addEventListener(e,t,a(r,n))}},4402:(e,t,r)=>{r.d(t,{Ht:()=>d,M:()=>c,Rl:()=>a,ky:()=>s});var n=r(385);const i=\"xxxxxxxx-xxxx-4xxx-yxxx-xxxxxxxxxxxx\";function o(e,t){return e?15&e[t]:16*Math.random()|0}function a(){const e=n._A?.crypto||n._A?.msCrypto;let t,r=0;return e&&e.getRandomValues&&(t=e.getRandomValues(new Uint8Array(31))),i.split(\"\").map((e=>\"x\"===e?o(t,++r).toString(16):\"y\"===e?(3&o()|8).toString(16):e)).join(\"\")}function s(e){const t=n._A?.crypto||n._A?.msCrypto;let r,i=0;t&&t.getRandomValues&&(r=t.getRandomValues(new Uint8Array(31)));const a=[];for(var s=0;s<e;s++)a.push(o(r,++i).toString(16));return a.join(\"\")}function c(){return s(16)}function d(){return s(32)}},7056:(e,t,r)=>{r.d(t,{Bq:()=>n,Hb:()=>o,oD:()=>i});const n=\"NRBA\",i=144e5,o=18e5},7894:(e,t,r)=>{function n(){return Math.round(performance.now())}r.d(t,{z:()=>n})},7243:(e,t,r)=>{r.d(t,{e:()=>o});var n=r(385),i={};function o(e){if(e in i)return i[e];if(0===(e||\"\").indexOf(\"data:\"))return{protocol:\"data\"};let t;var r=n._A?.location,o={};if(n.il)t=document.createElement(\"a\"),t.href=e;else try{t=new URL(e,r.href)}catch(e){return o}o.port=t.port;var a=t.href.split(\"://\");!o.port&&a[1]&&(o.port=a[1].split(\"/\")[0].split(\"@\").pop().split(\":\")[1]),o.port&&\"0\"!==o.port||(o.port=\"https\"===a[0]?\"443\":\"80\"),o.hostname=t.hostname||r.hostname,o.pathname=t.pathname,o.protocol=a[0],\"/\"!==o.pathname.charAt(0)&&(o.pathname=\"/\"+o.pathname);var s=!t.protocol||\":\"===t.protocol||t.protocol===r.protocol,c=t.hostname===r.hostname&&t.port===r.port;return o.sameOrigin=s&&(!t.hostname||c),\"/\"===o.pathname&&(i[e]=o),o}},50:(e,t,r)=>{function n(e,t){\"function\"==typeof console.warn&&(console.warn(\"New Relic: \".concat(e)),t&&console.warn(t))}r.d(t,{Z:()=>n})},2587:(e,t,r)=>{r.d(t,{N:()=>c,T:()=>d});var n=r(2177),i=r(5546),o=r(8e3),a=r(3325);const s={stn:[a.D.sessionTrace],err:[a.D.jserrors,a.D.metrics],ins:[a.D.pageAction],spa:[a.D.spa],sr:[a.D.sessionReplay,a.D.sessionTrace]};function c(e,t){const r=n.ee.get(t);e&&\"object\"==typeof e&&(Object.entries(e).forEach((e=>{let[t,n]=e;void 0===d[t]&&(s[t]?s[t].forEach((e=>{n?(0,i.p)(\"feat-\"+t,[],void 0,e,r):(0,i.p)(\"block-\"+t,[],void 0,e,r),(0,i.p)(\"rumresp-\"+t,[Boolean(n)],void 0,e,r)})):n&&(0,i.p)(\"feat-\"+t,[],void 0,void 0,r),d[t]=Boolean(n))})),Object.keys(s).forEach((e=>{void 0===d[e]&&(s[e]?.forEach((t=>(0,i.p)(\"rumresp-\"+e,[!1],void 0,t,r))),d[e]=!1)})),(0,o.L)(t,a.D.pageViewEvent))}const d={}},2210:(e,t,r)=>{r.d(t,{X:()=>i});var n=Object.prototype.hasOwnProperty;function i(e,t,r){if(n.call(e,t))return e[t];var i=r();if(Object.defineProperty&&Object.keys)try{return Object.defineProperty(e,t,{value:i,writable:!0,enumerable:!1}),i}catch(e){}return e[t]=i,i}},1284:(e,t,r)=>{r.d(t,{D:()=>n});const n=(e,t)=>Object.entries(e||{}).map((e=>{let[r,n]=e;return t(r,n)}))},4351:(e,t,r)=>{r.d(t,{P:()=>o});var n=r(2177);const i=()=>{const e=new WeakSet;return(t,r)=>{if(\"object\"==typeof r&&null!==r){if(e.has(r))return;e.add(r)}return r}};function o(e){try{return JSON.stringify(e,i())}catch(e){try{n.ee.emit(\"internal-error\",[e])}catch(e){}}}},3960:(e,t,r)=>{r.d(t,{K:()=>a,b:()=>o});var n=r(3239);function i(){return\"undefined\"==typeof document||\"complete\"===document.readyState}function o(e,t){if(i())return e();(0,n.bP)(\"load\",e,t)}function a(e){if(i())return e();(0,n.iz)(\"DOMContentLoaded\",e)}},8632:(e,t,r)=>{r.d(t,{EZ:()=>d,Qy:()=>c,ce:()=>o,fP:()=>a,gG:()=>u,mF:()=>s});var n=r(7894),i=r(385);const o={beacon:\"bam.nr-data.net\",errorBeacon:\"bam.nr-data.net\"};function a(){return i._A.NREUM||(i._A.NREUM={}),void 0===i._A.newrelic&&(i._A.newrelic=i._A.NREUM),i._A.NREUM}function s(){let e=a();return e.o||(e.o={ST:i._A.setTimeout,SI:i._A.setImmediate,CT:i._A.clearTimeout,XHR:i._A.XMLHttpRequest,REQ:i._A.Request,EV:i._A.Event,PR:i._A.Promise,MO:i._A.MutationObserver,FETCH:i._A.fetch}),e}function c(e,t,r){let i=a();const o=i.initializedAgents||{},s=o[e]||{};return Object.keys(s).length||(s.initializedAt={ms:(0,n.z)(),date:new Date}),i.initializedAgents={...o,[e]:{...s,[r]:t}},i}function d(e,t){a()[e]=t}function u(){return function(){let e=a();const t=e.info||{};e.info={beacon:o.beacon,errorBeacon:o.errorBeacon,...t}}(),function(){let e=a();const t=e.init||{};e.init={...t}}(),s(),function(){let e=a();const t=e.loader_config||{};e.loader_config={...t}}(),a()}},7956:(e,t,r)=>{r.d(t,{N:()=>i});var n=r(3239);function i(e){let t=arguments.length>1&&void 0!==arguments[1]&&arguments[1],r=arguments.length>2?arguments[2]:void 0,i=arguments.length>3?arguments[3]:void 0;return void(0,n.iz)(\"visibilitychange\",(function(){if(t)return void(\"hidden\"==document.visibilityState&&e());e(document.visibilityState)}),r,i)}},1214:(e,t,r)=>{r.d(t,{em:()=>v,u5:()=>D,QU:()=>S,_L:()=>I,Gm:()=>z,Lg:()=>M,BV:()=>X,Kf:()=>K});var n=r(2177);const i=\"nr@original\";var o=Object.prototype.hasOwnProperty,a=!1;function s(e,t){return e||(e=n.ee),r.inPlace=function(e,t,n,i,o){n||(n=\"\");var a,s,c,d=\"-\"===n.charAt(0);for(c=0;c<t.length;c++)u(a=e[s=t[c]])||(e[s]=r(a,d?s+n:n,i,s,o))},r.flag=i,r;function r(t,r,n,a,s){return u(t)?t:(r||(r=\"\"),nrWrapper[i]=t,d(t,nrWrapper,e),nrWrapper);function nrWrapper(){var i,d,u,l;try{d=this,i=[...arguments],u=\"function\"==typeof n?n(i,d):n||{}}catch(t){c([t,\"\",[i,d,a],u],e)}o(r+\"start\",[i,d,a],u,s);try{return l=t.apply(d,i)}catch(e){throw o(r+\"err\",[i,d,e],u,s),e}finally{o(r+\"end\",[i,d,l],u,s)}}}function o(r,n,i,o){if(!a||t){var s=a;a=!0;try{e.emit(r,n,i,t,o)}catch(t){c([t,r,n,i],e)}a=s}}}function c(e,t){t||(t=n.ee);try{t.emit(\"internal-error\",e)}catch(e){}}function d(e,t,r){if(Object.defineProperty&&Object.keys)try{return Object.keys(e).forEach((function(r){Object.defineProperty(t,r,{get:function(){return e[r]},set:function(t){return e[r]=t,t}})})),t}catch(e){c([e],r)}for(var n in e)o.call(e,n)&&(t[n]=e[n]);return t}function u(e){return!(e&&e instanceof Function&&e.apply&&!e[i])}var l=r(2210),f=r(385);const h={},g=XMLHttpRequest,p=\"addEventListener\",m=\"removeEventListener\";function v(e){var t=function(e){return(e||n.ee).get(\"events\")}(e);if(h[t.debugId]++)return t;h[t.debugId]=1;var r=s(t,!0);function i(e){r.inPlace(e,[p,m],\"-\",o)}function o(e,t){return e[1]}return\"getPrototypeOf\"in Object&&(f.il&&b(document,i),b(f._A,i),b(g.prototype,i)),t.on(p+\"-start\",(function(e,t){var n=e[1];if(null!==n&&(\"function\"==typeof n||\"object\"==typeof n)){var i=(0,l.X)(n,\"nr@wrapped\",(function(){var e={object:function(){if(\"function\"!=typeof n.handleEvent)return;return n.handleEvent.apply(n,arguments)},function:n}[typeof n];return e?r(e,\"fn-\",null,e.name||\"anonymous\"):n}));this.wrapped=e[1]=i}})),t.on(m+\"-start\",(function(e){e[1]=this.wrapped||e[1]})),t}function b(e,t){let r=e;for(;\"object\"==typeof r&&!Object.prototype.hasOwnProperty.call(r,p);)r=Object.getPrototypeOf(r);for(var n=arguments.length,i=new Array(n>2?n-2:0),o=2;o<n;o++)i[o-2]=arguments[o];r&&t(r,...i)}var y=\"fetch-\",w=y+\"body-\",x=[\"arrayBuffer\",\"blob\",\"json\",\"text\",\"formData\"],A=f._A.Request,E=f._A.Response,T=\"prototype\",_=\"nr@context\";const j={};function D(e){const t=function(e){return(e||n.ee).get(\"fetch\")}(e);if(!(A&&E&&f._A.fetch))return t;if(j[t.debugId]++)return t;function r(e,r,n){var i=e[r];\"function\"==typeof i&&(e[r]=function(){var e,r=[...arguments],o={};t.emit(n+\"before-start\",[r],o),o[_]&&o[_].dt&&(e=o[_].dt);var a=i.apply(this,r);return t.emit(n+\"start\",[r,e],a),a.then((function(e){return t.emit(n+\"end\",[null,e],a),e}),(function(e){throw t.emit(n+\"end\",[e],a),e}))})}return j[t.debugId]=1,x.forEach((e=>{r(A[T],e,w),r(E[T],e,w)})),r(f._A,\"fetch\",y),t.on(y+\"end\",(function(e,r){var n=this;if(r){var i=r.headers.get(\"content-length\");null!==i&&(n.rxSize=i),t.emit(y+\"done\",[null,r],n)}else t.emit(y+\"done\",[e],n)})),t}const C={},N=[\"pushState\",\"replaceState\"];function S(e){const t=function(e){return(e||n.ee).get(\"history\")}(e);return!f.il||C[t.debugId]++||(C[t.debugId]=1,s(t).inPlace(window.history,N,\"-\")),t}var O=r(3239);const P={},R=[\"appendChild\",\"insertBefore\",\"replaceChild\"];function I(e){const t=function(e){return(e||n.ee).get(\"jsonp\")}(e);if(!f.il||P[t.debugId])return t;P[t.debugId]=!0;var r=s(t),i=/[?&](?:callback|cb)=([^&#]+)/,o=/(.*)\\\\.([^.]+)/,a=/^(\\\\w+)(\\\\.|$)(.*)$/;function c(e,t){if(!e)return t;const r=e.match(a),n=r[1];return c(r[3],t[n])}return r.inPlace(Node.prototype,R,\"dom-\"),t.on(\"dom-start\",(function(e){!function(e){if(!e||\"string\"!=typeof e.nodeName||\"script\"!==e.nodeName.toLowerCase())return;if(\"function\"!=typeof e.addEventListener)return;var n=(a=e.src,s=a.match(i),s?s[1]:null);var a,s;if(!n)return;var d=function(e){var t=e.match(o);if(t&&t.length>=3)return{key:t[2],parent:c(t[1],window)};return{key:e,parent:window}}(n);if(\"function\"!=typeof d.parent[d.key])return;var u={};function l(){t.emit(\"jsonp-end\",[],u),e.removeEventListener(\"load\",l,(0,O.m$)(!1)),e.removeEventListener(\"error\",f,(0,O.m$)(!1))}function f(){t.emit(\"jsonp-error\",[],u),t.emit(\"jsonp-end\",[],u),e.removeEventListener(\"load\",l,(0,O.m$)(!1)),e.removeEventListener(\"error\",f,(0,O.m$)(!1))}r.inPlace(d.parent,[d.key],\"cb-\",u),e.addEventListener(\"load\",l,(0,O.m$)(!1)),e.addEventListener(\"error\",f,(0,O.m$)(!1)),t.emit(\"new-jsonp\",[e.src],u)}(e[0])})),t}var k=r(5763);const H={};function z(e){const t=function(e){return(e||n.ee).get(\"mutation\")}(e);if(!f.il||H[t.debugId])return t;H[t.debugId]=!0;var r=s(t),i=k.Yu.MO;return i&&(window.MutationObserver=function(e){return this instanceof i?new i(r(e,\"fn-\")):i.apply(this,arguments)},MutationObserver.prototype=i.prototype),t}const L={};function M(e){const t=function(e){return(e||n.ee).get(\"promise\")}(e);if(L[t.debugId])return t;L[t.debugId]=!0;var r=n.c,o=s(t),a=k.Yu.PR;return a&&function(){function e(r){var n=t.context(),i=o(r,\"executor-\",n,null,!1);const s=Reflect.construct(a,[i],e);return t.context(s).getCtx=function(){return n},s}f._A.Promise=e,Object.defineProperty(e,\"name\",{value:\"Promise\"}),e.toString=function(){return a.toString()},Object.setPrototypeOf(e,a),[\"all\",\"race\"].forEach((function(r){const n=a[r];e[r]=function(e){let i=!1;[...e||[]].forEach((e=>{this.resolve(e).then(a(\"all\"===r),a(!1))}));const o=n.apply(this,arguments);return o;function a(e){return function(){t.emit(\"propagate\",[null,!i],o,!1,!1),i=i||!e}}}})),[\"resolve\",\"reject\"].forEach((function(r){const n=a[r];e[r]=function(e){const r=n.apply(this,arguments);return e!==r&&t.emit(\"propagate\",[e,!0],r,!1,!1),r}})),e.prototype=a.prototype;const n=a.prototype.then;a.prototype.then=function(){var e=this,i=r(e);i.promise=e;for(var a=arguments.length,s=new Array(a),c=0;c<a;c++)s[c]=arguments[c];s[0]=o(s[0],\"cb-\",i,null,!1),s[1]=o(s[1],\"cb-\",i,null,!1);const d=n.apply(this,s);return i.nextPromise=d,t.emit(\"propagate\",[e,!0],d,!1,!1),d},a.prototype.then[i]=n,t.on(\"executor-start\",(function(e){e[0]=o(e[0],\"resolve-\",this,null,!1),e[1]=o(e[1],\"resolve-\",this,null,!1)})),t.on(\"executor-err\",(function(e,t,r){e[1](r)})),t.on(\"cb-end\",(function(e,r,n){t.emit(\"propagate\",[n,!0],this.nextPromise,!1,!1)})),t.on(\"propagate\",(function(e,r,n){this.getCtx&&!r||(this.getCtx=function(){if(e instanceof Promise)var r=t.context(e);return r&&r.getCtx?r.getCtx():this})}))}(),t}const B={},F=\"setTimeout\",U=\"setInterval\",q=\"clearTimeout\",Z=\"-start\",G=\"-\",V=[F,\"setImmediate\",U,q,\"clearImmediate\"];function X(e){const t=function(e){return(e||n.ee).get(\"timer\")}(e);if(B[t.debugId]++)return t;B[t.debugId]=1;var r=s(t);return r.inPlace(f._A,V.slice(0,2),F+G),r.inPlace(f._A,V.slice(2,3),U+G),r.inPlace(f._A,V.slice(3),q+G),t.on(U+Z,(function(e,t,n){e[0]=r(e[0],\"fn-\",null,n)})),t.on(F+Z,(function(e,t,n){this.method=n,this.timerDuration=isNaN(e[1])?0:+e[1],e[0]=r(e[0],\"fn-\",this,n)})),t}var W=r(50);const Y={},Q=[\"open\",\"send\"];function K(e){var t=e||n.ee;const r=function(e){return(e||n.ee).get(\"xhr\")}(t);if(Y[r.debugId]++)return r;Y[r.debugId]=1,v(t);var i=s(r),o=k.Yu.XHR,a=k.Yu.MO,c=k.Yu.PR,d=k.Yu.SI,u=\"readystatechange\",l=[\"onload\",\"onerror\",\"onabort\",\"onloadstart\",\"onloadend\",\"onprogress\",\"ontimeout\"],h=[],g=f._A.XMLHttpRequest.listeners,p=f._A.XMLHttpRequest=function(e){var t=new o(e);function n(){try{r.emit(\"new-xhr\",[t],t),t.addEventListener(u,b,(0,O.m$)(!1))}catch(e){(0,W.Z)(\"An error occured while intercepting XHR\",e);try{r.emit(\"internal-error\",[e])}catch(e){}}}return this.listeners=g?[...g,n]:[n],this.listeners.forEach((e=>e())),t};function m(e,t){i.inPlace(t,[\"onreadystatechange\"],\"fn-\",E)}function b(){var e=this,t=r.context(e);e.readyState>3&&!t.resolved&&(t.resolved=!0,r.emit(\"xhr-resolved\",[],e)),i.inPlace(e,l,\"fn-\",E)}if(function(e,t){for(var r in e)t[r]=e[r]}(o,p),p.prototype=o.prototype,i.inPlace(p.prototype,Q,\"-xhr-\",E),r.on(\"send-xhr-start\",(function(e,t){m(e,t),function(e){h.push(e),a&&(y?y.then(A):d?d(A):(w=-w,x.data=w))}(t)})),r.on(\"open-xhr-start\",m),a){var y=c&&c.resolve();if(!d&&!c){var w=1,x=document.createTextNode(w);new a(A).observe(x,{characterData:!0})}}else t.on(\"fn-end\",(function(e){e[0]&&e[0].type===u||A()}));function A(){for(var e=0;e<h.length;e++)m(0,h[e]);h.length&&(h=[])}function E(e,t){return t}return r}},7825:(e,t,r)=>{r.d(t,{t:()=>n});const n=r(3325).D.ajax},6660:(e,t,r)=>{r.d(t,{t:()=>n});const n=r(3325).D.jserrors},3081:(e,t,r)=>{r.d(t,{gF:()=>o,mY:()=>i,t9:()=>n,vz:()=>s,xS:()=>a});const n=r(3325).D.metrics,i=\"sm\",o=\"cm\",a=\"storeSupportabilityMetrics\",s=\"storeEventMetrics\"},4649:(e,t,r)=>{r.d(t,{t:()=>n});const n=r(3325).D.pageAction},7633:(e,t,r)=>{r.d(t,{Dz:()=>i,OJ:()=>a,qw:()=>o,t9:()=>n});const n=r(3325).D.pageViewEvent,i=\"firstbyte\",o=\"domcontent\",a=\"windowload\"},9251:(e,t,r)=>{r.d(t,{t:()=>n});const n=r(3325).D.pageViewTiming},3614:(e,t,r)=>{r.d(t,{BST_RESOURCE:()=>i,END:()=>s,FEATURE_NAME:()=>n,FN_END:()=>d,FN_START:()=>c,PUSH_STATE:()=>u,RESOURCE:()=>o,START:()=>a});const n=r(3325).D.sessionTrace,i=\"bstResource\",o=\"resource\",a=\"-start\",s=\"-end\",c=\"fn\"+a,d=\"fn\"+s,u=\"pushState\"},7836:(e,t,r)=>{r.d(t,{BODY:()=>A,CB_END:()=>E,CB_START:()=>d,END:()=>x,FEATURE_NAME:()=>i,FETCH:()=>_,FETCH_BODY:()=>v,FETCH_DONE:()=>m,FETCH_START:()=>p,FN_END:()=>c,FN_START:()=>s,INTERACTION:()=>f,INTERACTION_API:()=>u,INTERACTION_EVENTS:()=>o,JSONP_END:()=>b,JSONP_NODE:()=>g,JS_TIME:()=>T,MAX_TIMER_BUDGET:()=>a,REMAINING:()=>l,SPA_NODE:()=>h,START:()=>w,originalSetTimeout:()=>y});var n=r(5763);const i=r(3325).D.spa,o=[\"click\",\"submit\",\"keypress\",\"keydown\",\"keyup\",\"change\"],a=999,s=\"fn-start\",c=\"fn-end\",d=\"cb-start\",u=\"api-ixn-\",l=\"remaining\",f=\"interaction\",h=\"spaNode\",g=\"jsonpNode\",p=\"fetch-start\",m=\"fetch-done\",v=\"fetch-body-\",b=\"jsonp-end\",y=n.Yu.ST,w=\"-start\",x=\"-end\",A=\"-body\",E=\"cb\"+x,T=\"jsTime\",_=\"fetch\"},5938:(e,t,r)=>{r.d(t,{W:()=>o});var n=r(5763),i=r(2177);class o{constructor(e,t,r){this.agentIdentifier=e,this.aggregator=t,this.ee=i.ee.get(e,(0,n.OP)(this.agentIdentifier).isolatedBacklog),this.featureName=r,this.blocked=!1}}},9144:(e,t,r)=>{r.d(t,{j:()=>m});var n=r(3325),i=r(5763),o=r(5546),a=r(2177),s=r(7894),c=r(8e3),d=r(3960),u=r(385),l=r(50),f=r(3081),h=r(8632);function g(){const e=(0,h.gG)();[\"setErrorHandler\",\"finished\",\"addToTrace\",\"inlineHit\",\"addRelease\",\"addPageAction\",\"setCurrentRouteName\",\"setPageViewName\",\"setCustomAttribute\",\"interaction\",\"noticeError\",\"setUserId\"].forEach((t=>{e[t]=function(){for(var r=arguments.length,n=new Array(r),i=0;i<r;i++)n[i]=arguments[i];return function(t){for(var r=arguments.length,n=new Array(r>1?r-1:0),i=1;i<r;i++)n[i-1]=arguments[i];let o=[];return Object.values(e.initializedAgents).forEach((e=>{e.exposed&&e.api[t]&&o.push(e.api[t](...n))})),o.length>1?o:o[0]}(t,...n)}}))}var p=r(2587);function m(e){let t=arguments.length>1&&void 0!==arguments[1]?arguments[1]:{},m=arguments.length>2?arguments[2]:void 0,v=arguments.length>3?arguments[3]:void 0,{init:b,info:y,loader_config:w,runtime:x={loaderType:m},exposed:A=!0}=t;const E=(0,h.gG)();y||(b=E.init,y=E.info,w=E.loader_config),(0,i.Dg)(e,b||{}),(0,i.GE)(e,w||{}),y.jsAttributes??={},u.v6&&(y.jsAttributes.isWorker=!0),(0,i.CX)(e,y);const T=(0,i.P_)(e);x.denyList=[...T.ajax?.deny_list||[],...T.ajax?.block_internal?[y.beacon,y.errorBeacon]:[]],(0,i.sU)(e,x),g();const _=function(e,t){t||(0,c.R)(e,\"api\");const h={};var g=a.ee.get(e),p=g.get(\"tracer\"),m=\"api-\",v=m+\"ixn-\";function b(t,r,n,o){const a=(0,i.C5)(e);return null===r?delete a.jsAttributes[t]:(0,i.CX)(e,{...a,jsAttributes:{...a.jsAttributes,[t]:r}}),x(m,n,!0,o||null===r?\"session\":void 0)(t,r)}function y(){}[\"setErrorHandler\",\"finished\",\"addToTrace\",\"inlineHit\",\"addRelease\"].forEach((e=>h[e]=x(m,e,!0,\"api\"))),h.addPageAction=x(m,\"addPageAction\",!0,n.D.pageAction),h.setCurrentRouteName=x(m,\"routeName\",!0,n.D.spa),h.setPageViewName=function(t,r){if(\"string\"==typeof t)return\"/\"!==t.charAt(0)&&(t=\"/\"+t),(0,i.OP)(e).customTransaction=(r||\"http://custom.transaction\")+t,x(m,\"setPageViewName\",!0)()},h.setCustomAttribute=function(e,t){let r=arguments.length>2&&void 0!==arguments[2]&&arguments[2];if(\"string\"==typeof e){if([\"string\",\"number\"].includes(typeof t)||null===t)return b(e,t,\"setCustomAttribute\",r);(0,l.Z)(\"Failed to execute setCustomAttribute.\\\\nNon-null value must be a string or number type, but a type of <\".concat(typeof t,\"> was provided.\"))}else(0,l.Z)(\"Failed to execute setCustomAttribute.\\\\nName must be a string type, but a type of <\".concat(typeof e,\"> was provided.\"))},h.setUserId=function(e){if(\"string\"==typeof e||null===e)return b(\"enduser.id\",e,\"setUserId\",!0);(0,l.Z)(\"Failed to execute setUserId.\\\\nNon-null value must be a string type, but a type of <\".concat(typeof e,\"> was provided.\"))},h.interaction=function(){return(new y).get()};var w=y.prototype={createTracer:function(e,t){var r={},i=this,a=\"function\"==typeof t;return(0,o.p)(v+\"tracer\",[(0,s.z)(),e,r],i,n.D.spa,g),function(){if(p.emit((a?\"\":\"no-\")+\"fn-start\",[(0,s.z)(),i,a],r),a)try{return t.apply(this,arguments)}catch(e){throw p.emit(\"fn-err\",[arguments,this,e],r),e}finally{p.emit(\"fn-end\",[(0,s.z)()],r)}}}};function x(e,t,r,i){return function(){return(0,o.p)(f.xS,[\"API/\"+t+\"/called\"],void 0,n.D.metrics,g),i&&(0,o.p)(e+t,[(0,s.z)(),...arguments],r?null:this,i,g),r?void 0:this}}function A(){r.e(439).then(r.bind(r,7438)).then((t=>{let{setAPI:r}=t;r(e),(0,c.L)(e,\"api\")})).catch((()=>(0,l.Z)(\"Downloading runtime APIs failed...\")))}return[\"actionText\",\"setName\",\"setAttribute\",\"save\",\"ignore\",\"onEnd\",\"getContext\",\"end\",\"get\"].forEach((e=>{w[e]=x(v,e,void 0,n.D.spa)})),h.noticeError=function(e,t){\"string\"==typeof e&&(e=new Error(e)),(0,o.p)(f.xS,[\"API/noticeError/called\"],void 0,n.D.metrics,g),(0,o.p)(\"err\",[e,(0,s.z)(),!1,t],void 0,n.D.jserrors,g)},u.il?(0,d.b)((()=>A()),!0):A(),h}(e,v);return(0,h.Qy)(e,_,\"api\"),(0,h.Qy)(e,A,\"exposed\"),(0,h.EZ)(\"activatedFeatures\",p.T),_}},3325:(e,t,r)=>{r.d(t,{D:()=>n,p:()=>i});const n={ajax:\"ajax\",jserrors:\"jserrors\",metrics:\"metrics\",pageAction:\"page_action\",pageViewEvent:\"page_view_event\",pageViewTiming:\"page_view_timing\",sessionReplay:\"session_replay\",sessionTrace:\"session_trace\",spa:\"spa\"},i={[n.pageViewEvent]:1,[n.pageViewTiming]:2,[n.metrics]:3,[n.jserrors]:4,[n.ajax]:5,[n.sessionTrace]:6,[n.pageAction]:7,[n.spa]:8,[n.sessionReplay]:9}}},n={};function i(e){var t=n[e];if(void 0!==t)return t.exports;var o=n[e]={exports:{}};return r[e](o,o.exports,i),o.exports}i.m=r,i.d=(e,t)=>{for(var r in t)i.o(t,r)&&!i.o(e,r)&&Object.defineProperty(e,r,{enumerable:!0,get:t[r]})},i.f={},i.e=e=>Promise.all(Object.keys(i.f).reduce(((t,r)=>(i.f[r](e,t),t)),[])),i.u=e=>(({78:\"page_action-aggregate\",147:\"metrics-aggregate\",193:\"session_trace-aggregate\",242:\"session-manager\",317:\"jserrors-aggregate\",348:\"page_view_timing-aggregate\",412:\"lazy-feature-loader\",439:\"async-api\",538:\"recorder\",590:\"session_replay-aggregate\",675:\"compressor\",786:\"page_view_event-aggregate\",873:\"spa-aggregate\",898:\"ajax-aggregate\"}[e]||e)+\".\"+{78:\"467f8594\",147:\"b86cefcf\",193:\"ac30a1f3\",242:\"d080e4cc\",317:\"319b8300\",348:\"7b2a53ee\",412:\"c1052c27\",439:\"e9f77430\",538:\"9c5c1546\",590:\"8b420469\",646:\"9e7a6b8d\",675:\"9614fd62\",786:\"4988d952\",860:\"95a91211\",873:\"550eec7b\",898:\"d95c640e\"}[e]+\"-1.237.1.min.js\"),i.o=(e,t)=>Object.prototype.hasOwnProperty.call(e,t),e={},t=\"NRBA:\",i.l=(r,n,o,a)=>{if(e[r])e[r].push(n);else{var s,c;if(void 0!==o)for(var d=document.getElementsByTagName(\"script\"),u=0;u<d.length;u++){var l=d[u];if(l.getAttribute(\"src\")==r||l.getAttribute(\"data-webpack\")==t+o){s=l;break}}s||(c=!0,(s=document.createElement(\"script\")).charset=\"utf-8\",s.timeout=120,i.nc&&s.setAttribute(\"nonce\",i.nc),s.setAttribute(\"data-webpack\",t+o),s.src=r),e[r]=[n];var f=(t,n)=>{s.onerror=s.onload=null,clearTimeout(h);var i=e[r];if(delete e[r],s.parentNode&&s.parentNode.removeChild(s),i&&i.forEach((e=>e(n))),t)return t(n)},h=setTimeout(f.bind(null,void 0,{type:\"timeout\",target:s}),12e4);s.onerror=f.bind(null,s.onerror),s.onload=f.bind(null,s.onload),c&&document.head.appendChild(s)}},i.r=e=>{\"undefined\"!=typeof Symbol&&Symbol.toStringTag&&Object.defineProperty(e,Symbol.toStringTag,{value:\"Module\"}),Object.defineProperty(e,\"__esModule\",{value:!0})},i.j=635,i.p=\"https://js-agent.newrelic.com/\",(()=>{var e={635:0,249:0};i.f.j=(t,r)=>{var n=i.o(e,t)?e[t]:void 0;if(0!==n)if(n)r.push(n[2]);else{var o=new Promise(((r,i)=>n=e[t]=[r,i]));r.push(n[2]=o);var a=i.p+i.u(t),s=new Error;i.l(a,(r=>{if(i.o(e,t)&&(0!==(n=e[t])&&(e[t]=void 0),n)){var o=r&&(\"load\"===r.type?\"missing\":r.type),a=r&&r.target&&r.target.src;s.message=\"Loading chunk \"+t+\" failed.\\\\n(\"+o+\": \"+a+\")\",s.name=\"ChunkLoadError\",s.type=o,s.request=a,n[1](s)}}),\"chunk-\"+t,t)}};var t=(t,r)=>{var n,o,[a,s,c]=r,d=0;if(a.some((t=>0!==e[t]))){for(n in s)i.o(s,n)&&(i.m[n]=s[n]);if(c)c(i)}for(t&&t(r);d<a.length;d++)o=a[d],i.o(e,o)&&e[o]&&e[o][0](),e[o]=0},r=window.webpackChunkNRBA=window.webpackChunkNRBA||[];r.forEach(t.bind(null,0)),r.push=t.bind(null,r.push.bind(r))})();var o={};(()=>{i.r(o);var e=i(50);class t{addPageAction(t,r){(0,e.Z)(\"Call to agent api addPageAction failed. The session trace feature is not currently initialized.\")}setPageViewName(t,r){(0,e.Z)(\"Call to agent api setPageViewName failed. The page view feature is not currently initialized.\")}setCustomAttribute(t,r,n){(0,e.Z)(\"Call to agent api setCustomAttribute failed. The js errors feature is not currently initialized.\")}noticeError(t,r){(0,e.Z)(\"Call to agent api noticeError failed. The js errors feature is not currently initialized.\")}setUserId(t){(0,e.Z)(\"Call to agent api setUserId failed. The js errors feature is not currently initialized.\")}setErrorHandler(t){(0,e.Z)(\"Call to agent api setErrorHandler failed. The js errors feature is not currently initialized.\")}finished(t){(0,e.Z)(\"Call to agent api finished failed. The page action feature is not currently initialized.\")}addRelease(t,r){(0,e.Z)(\"Call to agent api addRelease failed. The agent is not currently initialized.\")}}var r=i(3325),n=i(5763);const a=Object.values(r.D);function s(e){const t={};return a.forEach((r=>{t[r]=function(e,t){return!1!==(0,n.Mt)(t,\"\".concat(e,\".enabled\"))}(r,e)})),t}var c=i(9144);var d=i(5546),u=i(385),l=i(8e3),f=i(5938),h=i(3960);class g extends f.W{constructor(e,t,r){let n=!(arguments.length>3&&void 0!==arguments[3])||arguments[3];super(e,t,r),this.auto=n,this.abortHandler,this.featAggregate,this.onAggregateImported,n&&(0,l.R)(e,r)}importAggregator(){let t=arguments.length>0&&void 0!==arguments[0]?arguments[0]:{};if(this.featAggregate||!this.auto)return;const r=u.il&&!0===(0,n.Mt)(this.agentIdentifier,\"privacy.cookies_enabled\");let o;this.onAggregateImported=new Promise((e=>{o=e}));const a=async()=>{let n;try{if(r){const{setupAgentSession:e}=await Promise.all([i.e(860),i.e(242)]).then(i.bind(i,3228));n=e(this.agentIdentifier)}}catch(t){(0,e.Z)(\"A problem occurred when starting up session manager. This page will not start or extend any session.\",t)}try{if(!this.shouldImportAgg(this.featureName,n))return(0,l.L)(this.agentIdentifier,this.featureName),void o(!1);const{lazyFeatureLoader:e}=await i.e(412).then(i.bind(i,8582)),{Aggregate:r}=await e(this.featureName,\"aggregate\");this.featAggregate=new r(this.agentIdentifier,this.aggregator,t),o(!0)}catch(t){(0,e.Z)(\"Downloading and initializing \".concat(this.featureName,\" failed...\"),t),this.abortHandler?.(),o(!1)}};u.il?(0,h.b)((()=>a()),!0):a()}shouldImportAgg(e,t){return e!==r.D.sessionReplay||!!n.Yu.MO&&(!1!==(0,n.Mt)(this.agentIdentifier,\"session_trace.enabled\")&&(!!t?.isNew||!!t?.state.sessionReplay))}}var p=i(7633),m=i(7894);class v extends g{static featureName=p.t9;constructor(e,t){let i=!(arguments.length>2&&void 0!==arguments[2])||arguments[2];if(super(e,t,p.t9,i),(\"undefined\"==typeof PerformanceNavigationTiming||u.Tt)&&\"undefined\"!=typeof PerformanceTiming){const t=(0,n.OP)(e);t[p.Dz]=Math.max(Date.now()-t.offset,0),(0,h.K)((()=>t[p.qw]=Math.max((0,m.z)()-t[p.Dz],0))),(0,h.b)((()=>{const e=(0,m.z)();t[p.OJ]=Math.max(e-t[p.Dz],0),(0,d.p)(\"timing\",[\"load\",e],void 0,r.D.pageViewTiming,this.ee)}))}this.importAggregator()}}var b=i(1117),y=i(1284);class w extends b.w{constructor(e){super(e),this.aggregatedData={}}store(e,t,r,n,i){var o=this.getBucket(e,t,r,i);return o.metrics=function(e,t){t||(t={count:0});return t.count+=1,(0,y.D)(e,(function(e,r){t[e]=x(r,t[e])})),t}(n,o.metrics),o}merge(e,t,r,n,i){var o=this.getBucket(e,t,n,i);if(o.metrics){var a=o.metrics;a.count+=r.count,(0,y.D)(r,(function(e,t){if(\"count\"!==e){var n=a[e],i=r[e];i&&!i.c?a[e]=x(i.t,n):a[e]=function(e,t){if(!t)return e;t.c||(t=A(t.t));return t.min=Math.min(e.min,t.min),t.max=Math.max(e.max,t.max),t.t+=e.t,t.sos+=e.sos,t.c+=e.c,t}(i,a[e])}}))}else o.metrics=r}storeMetric(e,t,r,n){var i=this.getBucket(e,t,r);return i.stats=x(n,i.stats),i}getBucket(e,t,r,n){this.aggregatedData[e]||(this.aggregatedData[e]={});var i=this.aggregatedData[e][t];return i||(i=this.aggregatedData[e][t]={params:r||{}},n&&(i.custom=n)),i}get(e,t){return t?this.aggregatedData[e]&&this.aggregatedData[e][t]:this.aggregatedData[e]}take(e){for(var t={},r=\"\",n=!1,i=0;i<e.length;i++)t[r=e[i]]=E(this.aggregatedData[r]),t[r].length&&(n=!0),delete this.aggregatedData[r];return n?t:null}}function x(e,t){return null==e?function(e){e?e.c++:e={c:1};return e}(t):t?(t.c||(t=A(t.t)),t.c+=1,t.t+=e,t.sos+=e*e,e>t.max&&(t.max=e),e<t.min&&(t.min=e),t):{t:e}}function A(e){return{t:e,min:e,max:e,sos:e*e,c:1}}function E(e){return\"object\"!=typeof e?[]:(0,y.D)(e,T)}function T(e,t){return t}var _=i(8632),j=i(4402),D=i(4351);var C=i(7956),N=i(3239),S=i(9251);class O extends g{static featureName=S.t;constructor(e,t){let r=!(arguments.length>2&&void 0!==arguments[2])||arguments[2];super(e,t,S.t,r),u.il&&((0,n.OP)(e).initHidden=Boolean(\"hidden\"===document.visibilityState),(0,C.N)((()=>(0,d.p)(\"docHidden\",[(0,m.z)()],void 0,S.t,this.ee)),!0),(0,N.bP)(\"pagehide\",(()=>(0,d.p)(\"winPagehide\",[(0,m.z)()],void 0,S.t,this.ee))),this.importAggregator())}}var P=i(3081);class R extends g{static featureName=P.t9;constructor(e,t){let r=!(arguments.length>2&&void 0!==arguments[2])||arguments[2];super(e,t,P.t9,r),this.importAggregator()}}var I=i(6660);class k{constructor(e,t,r,n){this.name=\"UncaughtError\",this.message=e,this.sourceURL=t,this.line=r,this.column=n}}class H extends g{static featureName=I.t;#e=new Set;constructor(e,t){let n=!(arguments.length>2&&void 0!==arguments[2])||arguments[2];super(e,t,I.t,n);try{this.removeOnAbort=new AbortController}catch(e){}this.ee.on(\"fn-err\",((e,t,n)=>{this.abortHandler&&!this.#e.has(n)&&(this.#e.add(n),(0,d.p)(\"err\",[this.#t(n),(0,m.z)()],void 0,r.D.jserrors,this.ee))})),this.ee.on(\"internal-error\",(e=>{this.abortHandler&&(0,d.p)(\"ierr\",[this.#t(e),(0,m.z)(),!0],void 0,r.D.jserrors,this.ee)})),u._A.addEventListener(\"unhandledrejection\",(e=>{this.abortHandler&&(0,d.p)(\"err\",[this.#r(e),(0,m.z)(),!1,{unhandledPromiseRejection:1}],void 0,r.D.jserrors,this.ee)}),(0,N.m$)(!1,this.removeOnAbort?.signal)),u._A.addEventListener(\"error\",(e=>{this.abortHandler&&(this.#e.has(e.error)?this.#e.delete(e.error):(0,d.p)(\"err\",[this.#n(e),(0,m.z)()],void 0,r.D.jserrors,this.ee))}),(0,N.m$)(!1,this.removeOnAbort?.signal)),this.abortHandler=this.#i,this.importAggregator()}#i(){this.removeOnAbort?.abort(),this.#e.clear(),this.abortHandler=void 0}#t(e){return e instanceof Error?e:void 0!==e?.message?new k(e.message,e.filename||e.sourceURL,e.lineno||e.line,e.colno||e.col):new k(\"string\"==typeof e?e:(0,D.P)(e))}#r(e){let t=\"Unhandled Promise Rejection: \";if(e?.reason instanceof Error)try{return e.reason.message=t+e.reason.message,e.reason}catch(t){return e.reason}if(void 0===e.reason)return new k(t);const r=this.#t(e.reason);return r.message=t+r.message,r}#n(e){return e.error instanceof Error?e.error:new k(e.message,e.filename,e.lineno,e.colno)}}var z=i(2210);let L=1;const M=\"nr@id\";function B(e){const t=typeof e;return!e||\"object\"!==t&&\"function\"!==t?-1:e===u._A?0:(0,z.X)(e,M,(function(){return L++}))}function F(e){if(\"string\"==typeof e&&e.length)return e.length;if(\"object\"==typeof e){if(\"undefined\"!=typeof ArrayBuffer&&e instanceof ArrayBuffer&&e.byteLength)return e.byteLength;if(\"undefined\"!=typeof Blob&&e instanceof Blob&&e.size)return e.size;if(!(\"undefined\"!=typeof FormData&&e instanceof FormData))try{return(0,D.P)(e).length}catch(e){return}}}var U=i(1214),q=i(7243);class Z{constructor(e){this.agentIdentifier=e,this.generateTracePayload=this.generateTracePayload.bind(this),this.shouldGenerateTrace=this.shouldGenerateTrace.bind(this)}generateTracePayload(e){if(!this.shouldGenerateTrace(e))return null;var t=(0,n.DL)(this.agentIdentifier);if(!t)return null;var r=(t.accountID||\"\").toString()||null,i=(t.agentID||\"\").toString()||null,o=(t.trustKey||\"\").toString()||null;if(!r||!i)return null;var a=(0,j.M)(),s=(0,j.Ht)(),c=Date.now(),d={spanId:a,traceId:s,timestamp:c};return(e.sameOrigin||this.isAllowedOrigin(e)&&this.useTraceContextHeadersForCors())&&(d.traceContextParentHeader=this.generateTraceContextParentHeader(a,s),d.traceContextStateHeader=this.generateTraceContextStateHeader(a,c,r,i,o)),(e.sameOrigin&&!this.excludeNewrelicHeader()||!e.sameOrigin&&this.isAllowedOrigin(e)&&this.useNewrelicHeaderForCors())&&(d.newrelicHeader=this.generateTraceHeader(a,s,c,r,i,o)),d}generateTraceContextParentHeader(e,t){return\"00-\"+t+\"-\"+e+\"-01\"}generateTraceContextStateHeader(e,t,r,n,i){return i+\"@nr=0-1-\"+r+\"-\"+n+\"-\"+e+\"----\"+t}generateTraceHeader(e,t,r,n,i,o){if(!(\"function\"==typeof u._A?.btoa))return null;var a={v:[0,1],d:{ty:\"Browser\",ac:n,ap:i,id:e,tr:t,ti:r}};return o&&n!==o&&(a.d.tk=o),btoa((0,D.P)(a))}shouldGenerateTrace(e){return this.isDtEnabled()&&this.isAllowedOrigin(e)}isAllowedOrigin(e){var t=!1,r={};if((0,n.Mt)(this.agentIdentifier,\"distributed_tracing\")&&(r=(0,n.P_)(this.agentIdentifier).distributed_tracing),e.sameOrigin)t=!0;else if(r.allowed_origins instanceof Array)for(var i=0;i<r.allowed_origins.length;i++){var o=(0,q.e)(r.allowed_origins[i]);if(e.hostname===o.hostname&&e.protocol===o.protocol&&e.port===o.port){t=!0;break}}return t}isDtEnabled(){var e=(0,n.Mt)(this.agentIdentifier,\"distributed_tracing\");return!!e&&!!e.enabled}excludeNewrelicHeader(){var e=(0,n.Mt)(this.agentIdentifier,\"distributed_tracing\");return!!e&&!!e.exclude_newrelic_header}useNewrelicHeaderForCors(){var e=(0,n.Mt)(this.agentIdentifier,\"distributed_tracing\");return!!e&&!1!==e.cors_use_newrelic_header}useTraceContextHeadersForCors(){var e=(0,n.Mt)(this.agentIdentifier,\"distributed_tracing\");return!!e&&!!e.cors_use_tracecontext_headers}}var G=i(7825),V=[\"load\",\"error\",\"abort\",\"timeout\"],X=V.length,W=n.Yu.REQ,Y=u._A.XMLHttpRequest;class Q extends g{static featureName=G.t;constructor(e,t){let i=!(arguments.length>2&&void 0!==arguments[2])||arguments[2];super(e,t,G.t,i),(0,n.OP)(e).xhrWrappable&&(this.dt=new Z(e),this.handler=(e,t,r,n)=>(0,d.p)(e,t,r,n,this.ee),(0,U.u5)(this.ee),(0,U.Kf)(this.ee),function(e,t,i,o){function a(e){var t=this;t.totalCbs=0,t.called=0,t.cbTime=0,t.end=E,t.ended=!1,t.xhrGuids={},t.lastSize=null,t.loadCaptureCalled=!1,t.params=this.params||{},t.metrics=this.metrics||{},e.addEventListener(\"load\",(function(r){_(t,e)}),(0,N.m$)(!1)),u.IF||e.addEventListener(\"progress\",(function(e){t.lastSize=e.loaded}),(0,N.m$)(!1))}function s(e){this.params={method:e[0]},T(this,e[1]),this.metrics={}}function c(t,r){var i=(0,n.DL)(e);i.xpid&&this.sameOrigin&&r.setRequestHeader(\"X-NewRelic-ID\",i.xpid);var a=o.generateTracePayload(this.parsedOrigin);if(a){var s=!1;a.newrelicHeader&&(r.setRequestHeader(\"newrelic\",a.newrelicHeader),s=!0),a.traceContextParentHeader&&(r.setRequestHeader(\"traceparent\",a.traceContextParentHeader),a.traceContextStateHeader&&r.setRequestHeader(\"tracestate\",a.traceContextStateHeader),s=!0),s&&(this.dt=a)}}function d(e,r){var n=this.metrics,i=e[0],o=this;if(n&&i){var a=F(i);a&&(n.txSize=a)}this.startTime=(0,m.z)(),this.listener=function(e){try{\"abort\"!==e.type||o.loadCaptureCalled||(o.params.aborted=!0),(\"load\"!==e.type||o.called===o.totalCbs&&(o.onloadCalled||\"function\"!=typeof r.onload)&&\"function\"==typeof o.end)&&o.end(r)}catch(e){try{t.emit(\"internal-error\",[e])}catch(e){}}};for(var s=0;s<X;s++)r.addEventListener(V[s],this.listener,(0,N.m$)(!1))}function l(e,t,r){this.cbTime+=e,t?this.onloadCalled=!0:this.called+=1,this.called!==this.totalCbs||!this.onloadCalled&&\"function\"==typeof r.onload||\"function\"!=typeof this.end||this.end(r)}function f(e,t){var r=\"\"+B(e)+!!t;this.xhrGuids&&!this.xhrGuids[r]&&(this.xhrGuids[r]=!0,this.totalCbs+=1)}function h(e,t){var r=\"\"+B(e)+!!t;this.xhrGuids&&this.xhrGuids[r]&&(delete this.xhrGuids[r],this.totalCbs-=1)}function g(){this.endTime=(0,m.z)()}function p(e,r){r instanceof Y&&\"load\"===e[0]&&t.emit(\"xhr-load-added\",[e[1],e[2]],r)}function v(e,r){r instanceof Y&&\"load\"===e[0]&&t.emit(\"xhr-load-removed\",[e[1],e[2]],r)}function b(e,t,r){t instanceof Y&&(\"onload\"===r&&(this.onload=!0),(\"load\"===(e[0]&&e[0].type)||this.onload)&&(this.xhrCbStart=(0,m.z)()))}function y(e,r){this.xhrCbStart&&t.emit(\"xhr-cb-time\",[(0,m.z)()-this.xhrCbStart,this.onload,r],r)}function w(e){var t,r=e[1]||{};\"string\"==typeof e[0]?t=e[0]:e[0]&&e[0].url?t=e[0].url:u._A?.URL&&e[0]&&e[0]instanceof URL&&(t=e[0].href),t&&(this.parsedOrigin=(0,q.e)(t),this.sameOrigin=this.parsedOrigin.sameOrigin);var n=o.generateTracePayload(this.parsedOrigin);if(n&&(n.newrelicHeader||n.traceContextParentHeader))if(\"string\"==typeof e[0]||u._A?.URL&&e[0]&&e[0]instanceof URL){var i={};for(var a in r)i[a]=r[a];i.headers=new Headers(r.headers||{}),s(i.headers,n)&&(this.dt=n),e.length>1?e[1]=i:e.push(i)}else e[0]&&e[0].headers&&s(e[0].headers,n)&&(this.dt=n);function s(e,t){var r=!1;return t.newrelicHeader&&(e.set(\"newrelic\",t.newrelicHeader),r=!0),t.traceContextParentHeader&&(e.set(\"traceparent\",t.traceContextParentHeader),t.traceContextStateHeader&&e.set(\"tracestate\",t.traceContextStateHeader),r=!0),r}}function x(e,t){this.params={},this.metrics={},this.startTime=(0,m.z)(),this.dt=t,e.length>=1&&(this.target=e[0]),e.length>=2&&(this.opts=e[1]);var r,n=this.opts||{},i=this.target;\"string\"==typeof i?r=i:\"object\"==typeof i&&i instanceof W?r=i.url:u._A?.URL&&\"object\"==typeof i&&i instanceof URL&&(r=i.href),T(this,r);var o=(\"\"+(i&&i instanceof W&&i.method||n.method||\"GET\")).toUpperCase();this.params.method=o,this.txSize=F(n.body)||0}function A(e,t){var n;this.endTime=(0,m.z)(),this.params||(this.params={}),this.params.status=t?t.status:0,\"string\"==typeof this.rxSize&&this.rxSize.length>0&&(n=+this.rxSize);var o={txSize:this.txSize,rxSize:n,duration:(0,m.z)()-this.startTime};i(\"xhr\",[this.params,o,this.startTime,this.endTime,\"fetch\"],this,r.D.ajax)}function E(e){var t=this.params,n=this.metrics;if(!this.ended){this.ended=!0;for(var o=0;o<X;o++)e.removeEventListener(V[o],this.listener,!1);t.aborted||(n.duration=(0,m.z)()-this.startTime,this.loadCaptureCalled||4!==e.readyState?null==t.status&&(t.status=0):_(this,e),n.cbTime=this.cbTime,i(\"xhr\",[t,n,this.startTime,this.endTime,\"xhr\"],this,r.D.ajax))}}function T(e,t){var r=(0,q.e)(t),n=e.params;n.hostname=r.hostname,n.port=r.port,n.protocol=r.protocol,n.host=r.hostname+\":\"+r.port,n.pathname=r.pathname,e.parsedOrigin=r,e.sameOrigin=r.sameOrigin}function _(e,t){e.params.status=t.status;var r=function(e,t){var r=e.responseType;return\"json\"===r&&null!==t?t:\"arraybuffer\"===r||\"blob\"===r||\"json\"===r?F(e.response):\"text\"===r||\"\"===r||void 0===r?F(e.responseText):void 0}(t,e.lastSize);if(r&&(e.metrics.rxSize=r),e.sameOrigin){var n=t.getResponseHeader(\"X-NewRelic-App-Data\");n&&(e.params.cat=n.split(\", \").pop())}e.loadCaptureCalled=!0}t.on(\"new-xhr\",a),t.on(\"open-xhr-start\",s),t.on(\"open-xhr-end\",c),t.on(\"send-xhr-start\",d),t.on(\"xhr-cb-time\",l),t.on(\"xhr-load-added\",f),t.on(\"xhr-load-removed\",h),t.on(\"xhr-resolved\",g),t.on(\"addEventListener-end\",p),t.on(\"removeEventListener-end\",v),t.on(\"fn-end\",y),t.on(\"fetch-before-start\",w),t.on(\"fetch-start\",x),t.on(\"fn-start\",b),t.on(\"fetch-done\",A)}(e,this.ee,this.handler,this.dt),this.importAggregator())}}var K=i(3614);const{BST_RESOURCE:J,RESOURCE:ee,START:te,END:re,FEATURE_NAME:ne,FN_END:ie,FN_START:oe,PUSH_STATE:ae}=K;var se=i(7836);const{FEATURE_NAME:ce,START:de,END:ue,BODY:le,CB_END:fe,JS_TIME:he,FETCH:ge,FN_START:pe,CB_START:me,FN_END:ve}=se;var be=i(4649);class ye extends g{static featureName=be.t;constructor(e,t){let r=!(arguments.length>2&&void 0!==arguments[2])||arguments[2];super(e,t,be.t,r),this.importAggregator()}}new class extends t{constructor(t){let r=arguments.length>1&&void 0!==arguments[1]?arguments[1]:(0,j.ky)(16);super(),u._A?(this.agentIdentifier=r,this.sharedAggregator=new w({agentIdentifier:this.agentIdentifier}),this.features={},this.desiredFeatures=new Set(t.features||[]),this.desiredFeatures.add(v),Object.assign(this,(0,c.j)(this.agentIdentifier,t,t.loaderType||\"agent\")),this.start()):(0,e.Z)(\"Failed to initial the agent. Could not determine the runtime environment.\")}get config(){return{info:(0,n.C5)(this.agentIdentifier),init:(0,n.P_)(this.agentIdentifier),loader_config:(0,n.DL)(this.agentIdentifier),runtime:(0,n.OP)(this.agentIdentifier)}}start(){const t=\"features\";try{const n=s(this.agentIdentifier),i=[...this.desiredFeatures];i.sort(((e,t)=>r.p[e.featureName]-r.p[t.featureName])),i.forEach((t=>{if(n[t.featureName]||t.featureName===r.D.pageViewEvent){const i=function(e){switch(e){case r.D.ajax:return[r.D.jserrors];case r.D.sessionTrace:return[r.D.ajax,r.D.pageViewEvent];case r.D.sessionReplay:return[r.D.sessionTrace];case r.D.pageViewTiming:return[r.D.pageViewEvent];default:return[]}}(t.featureName);i.every((e=>n[e]))||(0,e.Z)(\"\".concat(t.featureName,\" is enabled but one or more dependent features has been disabled (\").concat((0,D.P)(i),\"). This may cause unintended consequences or missing data...\")),this.features[t.featureName]=new t(this.agentIdentifier,this.sharedAggregator)}})),(0,_.Qy)(this.agentIdentifier,this.features,t)}catch(r){(0,e.Z)(\"Failed to initialize all enabled instrument classes (agent aborted) -\",r);for(const e in this.features)this.features[e].abortHandler?.();const n=(0,_.fP)();return delete n.initializedAgents[this.agentIdentifier]?.api,delete n.initializedAgents[this.agentIdentifier]?.[t],delete this.sharedAggregator,n.ee?.abort(),delete n.ee?.get(this.agentIdentifier),!1}}addToTrace(t){(0,e.Z)(\"Call to agent api addToTrace failed. The page action feature is not currently initialized.\")}setCurrentRouteName(t){(0,e.Z)(\"Call to agent api setCurrentRouteName failed. The spa feature is not currently initialized.\")}interaction(){(0,e.Z)(\"Call to agent api interaction failed. The spa feature is not currently initialized.\")}}({features:[Q,v,O,class extends g{static featureName=ne;constructor(e,t){if(super(e,t,ne,!(arguments.length>2&&void 0!==arguments[2])||arguments[2]),!u.il)return;const n=this.ee;let i;(0,U.QU)(n),this.eventsEE=(0,U.em)(n),this.eventsEE.on(oe,(function(e,t){this.bstStart=(0,m.z)()})),this.eventsEE.on(ie,(function(e,t){(0,d.p)(\"bst\",[e[0],t,this.bstStart,(0,m.z)()],void 0,r.D.sessionTrace,n)})),n.on(ae+te,(function(e){this.time=(0,m.z)(),this.startPath=location.pathname+location.hash})),n.on(ae+re,(function(e){(0,d.p)(\"bstHist\",[location.pathname+location.hash,this.startPath,this.time],void 0,r.D.sessionTrace,n)}));try{i=new PerformanceObserver((e=>{const t=e.getEntries();(0,d.p)(J,[t],void 0,r.D.sessionTrace,n)})),i.observe({type:ee,buffered:!0})}catch(e){}this.importAggregator({resourceObserver:i})}},R,ye,H,class extends g{static featureName=ce;constructor(e,t){if(super(e,t,ce,!(arguments.length>2&&void 0!==arguments[2])||arguments[2]),!u.il)return;if(!(0,n.OP)(e).xhrWrappable)return;try{this.removeOnAbort=new AbortController}catch(e){}let r,i=0;const o=this.ee.get(\"tracer\"),a=(0,U._L)(this.ee),s=(0,U.Lg)(this.ee),c=(0,U.BV)(this.ee),d=(0,U.Kf)(this.ee),l=this.ee.get(\"events\"),f=(0,U.u5)(this.ee),h=(0,U.QU)(this.ee),g=(0,U.Gm)(this.ee);function p(e,t){h.emit(\"newURL\",[\"\"+window.location,t])}function v(){i++,r=window.location.hash,this[pe]=(0,m.z)()}function b(){i--,window.location.hash!==r&&p(0,!0);var e=(0,m.z)();this[he]=~~this[he]+e-this[pe],this[ve]=e}function y(e,t){e.on(t,(function(){this[t]=(0,m.z)()}))}this.ee.on(pe,v),s.on(me,v),a.on(me,v),this.ee.on(ve,b),s.on(fe,b),a.on(fe,b),this.ee.buffer([pe,ve,\"xhr-resolved\"],this.featureName),l.buffer([pe],this.featureName),c.buffer([\"setTimeout\"+ue,\"clearTimeout\"+de,pe],this.featureName),d.buffer([pe,\"new-xhr\",\"send-xhr\"+de],this.featureName),f.buffer([ge+de,ge+\"-done\",ge+le+de,ge+le+ue],this.featureName),h.buffer([\"newURL\"],this.featureName),g.buffer([pe],this.featureName),s.buffer([\"propagate\",me,fe,\"executor-err\",\"resolve\"+de],this.featureName),o.buffer([pe,\"no-\"+pe],this.featureName),a.buffer([\"new-jsonp\",\"cb-start\",\"jsonp-error\",\"jsonp-end\"],this.featureName),y(f,ge+de),y(f,ge+\"-done\"),y(a,\"new-jsonp\"),y(a,\"jsonp-end\"),y(a,\"cb-start\"),h.on(\"pushState-end\",p),h.on(\"replaceState-end\",p),window.addEventListener(\"hashchange\",p,(0,N.m$)(!0,this.removeOnAbort?.signal)),window.addEventListener(\"load\",p,(0,N.m$)(!0,this.removeOnAbort?.signal)),window.addEventListener(\"popstate\",(function(){p(0,i>1)}),(0,N.m$)(!0,this.removeOnAbort?.signal)),this.abortHandler=this.#i,this.importAggregator()}#i(){this.removeOnAbort?.abort(),this.abortHandler=void 0}}],loaderType:\"spa\"})})(),window.NRBA=o})();</script><title data-ng-init=\"pageTitle=\\'Career Decision Making Online | Career Guidance | JobBuzz\\'\" data-ng-bind=\"pageTitle\"></title>\\n\\t<meta name=\"keywords\" data-ng-init=\"pagekeyword=\\'career decision making online, career guidance, make intelligent careers, career decision\\'\" content=\"{{pagekeyword}}\" />\\n\\t<meta name=\"description\" data-ng-init=\"pagedescription=\\'JobBuzz helps you take smarter career decisions based on the most authentic data online. Interview questions, company review, salary data & Jobs on JobBuzz\\'\" content=\"{{pagedescription}}\" />\\n\\t<link rel=\"shortcut icon\" type=\"image/ico\" href=\"https://jbstatic.timesjobs.com/images/favicon.ico\"/>\\n\\t<link rel=\"canonical\" data-ng-href=\"{{canonicalURL}}\" />\\n\\t<script src=\"https://static.clmbtech.com/ase/2320/739/aa.js\" type=\"text/javascript\"></script>\\n\\t\\n\\t\\n\\t\\t\\n\\t\\t\\n\\t\\t\\t<meta property=\"og:title\" content={{pageTitle}}/> \\n\\t\\t\\n\\t\\n\\t\\n\\t\\t\\n\\t\\t\\n\\t\\t\\t<meta property=\"og:description\" content=\"\"/> \\n\\t\\t\\n\\t\\n\\t\\n\\t\\t\\n\\t\\t\\n\\t\\t\\t<meta property=\"og:image\" content=\"https://jbstatic.timesjobs.com/images/jb-logo.jpg\"/> \\n\\t\\t\\n\\t\\n\\t\\n\\t\\t\\n\\t\\t\\n\\t\\t\\t<meta property=\"og:url\" content=\"\"/> \\n\\t\\t\\n\\t\\n\\t\\n\\t\\t\\n\\t\\t\\n\\t\\t\\t<meta property=\"og:type\" content=\"article\"/>\\n\\t\\t\\n\\t\\n\\t\\n\\t<meta name=\"Author\" content=\" https://jobbuzz.timesjobs.com/\"/>\\n\\t<meta name=\"copyright\" content=\"http://www.tbsl.in/\"/>\\n\\t<meta name=\"robots\" content=\\'index, follow\\'/>\\n\\t<meta name=\"rating\" content=\"safe for kids\"/>\\n\\t<meta name=\"googlebot\" content=\\'index, follow\\'/>\\n\\t<meta name=\"yahooSeeker\" content=\\'index, follow\\'/>\\n\\t<meta name=\"msnbot\" content=\\'index, follow\\'/>\\n\\t<meta name=\"reply-to\" content=\"jobbuzz@timesjobs.com\"/>\\n\\t<meta name=\"allow-search\" content=\"yes\"/>\\n\\t<meta name=\"revisit-after\" content=\"daily\"/>\\n\\t<meta name=\"distribution\" content=\"global\"/>\\n\\t<meta name=\"Rating\" content=\"General\"/>\\n\\t<meta name=\"expires\" content=\"never\"/>\\n\\t<meta name=\"language\" content=\"english\"/>\\n\\t<!--  Columbia Ads -->\\n\\t<!-- <script type=\"text/javascript\" id=\"_colombiaads\">\\t\\t\\n\\t\\tif(typeof colombia == \\'undefined\\')\\n\\t\\t{\\n\\t\\t\\tvar colombia = colombia || {};\\n\\t\\t\\tcolombia.fns = colombia.fns || [];\\n\\t\\t\\t(function() {\\n\\t\\t\\t\\t  var cads = document.createElement(\"script\");\\n\\t\\t\\t\\t  cads.async = true;\\n\\t\\t\\t\\t  cads.type = \"text/javascript\";\\n\\t\\t\\t\\t  cads.src = \"//static.clmbtech.com/ctn/commons/js/colombia_v2.js\";\\n\\t\\t\\t\\t  var node = document.getElementsByTagName(\"script\")[0];\\n\\t\\t\\t\\t  node.parentNode.insertBefore(cads, node);\\n\\t\\t\\t})();\\n\\t\\t}\\n\\t</script> -->\\n\\t\\n\\t<!-- Google tag (gtag.js) ga4 code  -->\\n\\t<script async src=\"https://www.googletagmanager.com/gtag/js?id=G-4J5CTWQC9X\"></script>\\n\\t<script>\\n\\t  window.dataLayer = window.dataLayer || [];\\n\\t  function gtag(){dataLayer.push(arguments);}\\n\\t  gtag(\\'js\\', new Date());\\n\\t\\n\\t  gtag(\\'config\\', \\'G-4J5CTWQC9X\\');\\n\\t</script>\\n\\t\\n\\t<!-- #################### GA Universal ######################## -->\\n\\t\\n\\t<script>\\n\\t  (function(i,s,o,g,r,a,m){i[\\'GoogleAnalyticsObject\\']=r;i[r]=i[r]||function(){\\n\\t  (i[r].q=i[r].q||[]).push(arguments)},i[r].l=1*new Date();a=s.createElement(o),\\n\\t  m=s.getElementsByTagName(o)[0];a.async=1;a.src=g;m.parentNode.insertBefore(a,m)\\n\\t  })(window,document,\\'script\\',\\'//www.google-analytics.com/analytics.js\\',\\'ga\\');\\n\\t\\n\\t  ga(\\'create\\', \\'UA-46012303-1\\', \\'timesjobs.com\\');\\n\\t  ga(\\'send\\', \\'pageview\\');\\n\\t\\n\\t</script>\\n\\t\\n\\t<!-- Google Tag Manager -->\\n\\t<script>(function(w,d,s,l,i){w[l]=w[l]||[];w[l].push({\\'gtm.start\\':\\n\\tnew Date().getTime(),event:\\'gtm.js\\'});var f=d.getElementsByTagName(s)[0],\\n\\tj=d.createElement(s),dl=l!=\\'dataLayer\\'?\\'&l=\\'+l:\\'\\';j.async=true;j.src=\\n\\t\\'https://www.googletagmanager.com/gtm.js?id=\\'+i+dl;f.parentNode.insertBefore(j,f);\\n\\t})(window,document,\\'script\\',\\'dataLayer\\',\\'GTM-5SFB6V\\');</script>\\n\\t<!-- End Google Tag Manager -->\\n\\t\\n\\t<!-- #################### GA Google Classic ######################## -->\\n\\t<script>\\n\\t  (function(i,s,o,g,r,a,m){i[\\'GoogleAnalyticsObject\\']=r;i[r]=i[r]||function(){\\n\\t  (i[r].q=i[r].q||[]).push(arguments)},i[r].l=1*new Date();a=s.createElement(o),\\n\\t  m=s.getElementsByTagName(o)[0];a.async=1;a.src=g;m.parentNode.insertBefore(a,m)\\n\\t  })(window,document,\\'script\\',\\'//www.google-analytics.com/analytics.js\\',\\'ga\\');\\n\\t\\n\\t  ga(\\'create\\', \\'UA-1688637-28\\', \\'auto\\', {\\'name\\': \\'oldGa\\'});\\n\\t  ga(\\'oldGa.send\\', \\'pageview\\');\\n\\t</script>\\n\\t<!-- <link rel=\"prev\" href=\"https://jobbuzz.timesjobs.com/review?page=1\"/>\\n\\t<link rel=\"next\" href=\"https://jobbuzz.timesjobs.com/review?page=3\"/> -->\\n\\t<!-- #################### Comscore ######################## -->\\n\\t<!-- <script>\\n    document.write(unescape(\"%3Cscript src=\\'\" + (document.location.protocol == \"https:\" ? \"https://sb\" : \"http://b\") + \".scorecardresearch.com/beacon.js\\' %3E%3C/script%3E\"));\\n\\t</script>\\n\\t<script>\\n\\t    COMSCORE.beacon({\\n\\t        c1: \"2\",\\n\\t        c2: \"6036484\"\\n\\t    });\\n\\t</script> -->\\n\\t<!-- #################### Crazy Egg ######################## -->\\n\\t<!-- <script type=\"text/javascript\">\\n\\tsetTimeout(function()\\n\\t{var a=document.createElement(\"script\"); var b=document.getElementsByTagName(\"script\")[0]; a.src=document.location.protocol+\"//script.crazyegg.com/pages/scripts/0017/9386.js?\"+Math.floor(new Date().getTime()/3600000); a.async=true;a.type=\"text/javascript\";b.parentNode.insertBefore(a,b)} \\n\\t, 1);\\n\\t</script> -->\\n\\t<script type=\"text/javascript\" src=\"//script.crazyegg.com/pages/scripts/0066/1644.js\" async=\"async\"></script>\\n\\t\\n<!-- #################### GA Code Ends ######################## -->\\n\\t<!--<script src=\"//cdn.optimizely.com/js/3190321215.js\"></script>\\n #################### AB Testing Ends ######################## -->\\n\\t<!-- combine and minify -->\\t\\n\\t\\n\\t\\t\\n\\t\\t\\t<script src=\"https://jbstatic.timesjobs.com/js/all.js?version=aa694bbdda60b40aabd782f4er49ffafc330157\" type=\"text/javascript\"></script>\\n\\t\\t\\t<link rel=\"stylesheet\" type=\"text/css\" href=\"https://jbstatic.timesjobs.com/css/all.min.css?version=aa694bbdda60b40aabd782f4er49ffafc330157\" />\\n\\t\\t\\n\\t\\t\\n\\t\\n\\t\\n\\t\\n<noscript><iframe src=\"//www.googletagmanager.com/ns.html?id=GTM-WLCZMK\" height=\"0\" width=\"0\" style=\"display:none;visibility:hidden\"></iframe></noscript>\\n<script>(function(w,d,s,l,i){w[l]=w[l]||[];w[l].push({\\'gtm.start\\':new Date().getTime(),event:\\'gtm.js\\'});var f=d.getElementsByTagName(s)[0],j=d.createElement(s),dl=l!=\\'dataLayer\\'?\\'&l=\\'+l:\\'\\';j.async=true;j.src=\\'//www.googletagmanager.com/gtm.js?id=\\'+i+dl;f.parentNode.insertBefore(j,f);})(window,document,\\'script\\',\\'dataLayer\\',\\'GTM-WLCZMK\\');</script>\\n\\t\\n\\t\\n\\t\\n\\n\\n\\n\\n<div data-ng-init=\"userdetail={firstName:\\'\\',loginId:\\'\\',emailId:\\'\\',profilePic:\\'\\',lastName:\\' \\',showReviewPopup:\\'false\\',reviewNotDate:\\'\\',showSRP:\\'false\\',showDashboard:\\'false\\'}\"></div>\\t\\t\\n</head>\\n\\n<body data-ng-cloak=\"\" data-ng-click=\"visibleOption(false); mobileSearchvisible(false)\">\\n\\t<!-- <noscript> <img src=\"https://sb.scorecardresearch.com/p?c1=2&c2=6036484&c3=&c4=&c5=&c6=&c15=&cj=1\" /> </noscript> -->\\n\\t\\n\\t<div class=\"slidemenu\">\\n\\t<div>\\n\\t\\t\\n\\n\\n\\n\\n\\n\\n\\n\\n\\n\\n\\t<div class=\"hidden-xs topheader universal-header\"> \\n\\t    <div class=\"container-fluid\">\\n\\t\\t\\t<!--Top Navigation-->\\n\\t\\t\\t<div class=\"row\">\\n\\t\\t\\t\\t<nav class=\"navbar-collapse collapse topnavbar\">\\n\\t\\t\\t\\t\\t<ul class=\"nav navbar-nav\">\\n\\t\\t\\t\\t\\t  <li><a href=\"http://www.timesjobs.com/\" target=\"_blank\">TimesJobs</a></li>\\n\\t\\t\\t\\t\\t  <li><a href=\"https://jobbuzz.timesjobs.com/\" class=\"active\">JobBuzz</a></li>\\n\\t\\t\\t\\t\\t  <li><a href=\"https://www.techgig.com/\" target=\"_blank\">Techgig</a></li>\\n\\t\\t\\t\\t\\t  <li><a href=\"http://content.timesjobs.com/\" target=\"_blank\">Career Insight</a></li>\\n\\t\\t\\t\\t\\t</ul>\\n\\t\\t\\t\\t\\t<ul class=\"nav navbar-nav pull-right\">\\n\\t\\t\\t\\t\\t  <li><a href=\"javascript:void(0)\" class=\"employerconnect\">For Employer</a></li>\\n\\t\\t\\t\\t\\t</ul>\\n\\t\\t\\t\\t</nav>\\n\\t\\t\\t</div>\\n\\t\\t\\t<!--  Top Navigation  --> \\n\\t    </div>\\n\\t  </div>\\n\\t  <div class=\"header-wrap-cont\">\\n\\t  <header id=\"fixedNavigation\" class=\"clearfix mposition\">\\n\\t  \\t<div class=\"clearfix z1\" id=\"fixed\">\\n\\t\\t\\t<div class=\"xs-headerl\" data-ng-class=\"{\\'innerheader\\':!isHomePage}\" data-ng-hide=\"isBack\">\\n\\t\\t\\t\\t  <button type=\"button\" class=\"navbar-toggle mobilemnubtn\" id=\"navbar-toggle\">\\n\\t\\t\\t\\t\\t<span>\\n\\t\\t\\t\\t\\t\\t<span class=\"sr-only\">Toggle navigation</span>\\n\\t\\t\\t\\t\\t\\t<span class=\"icon-bar\"></span>\\n\\t\\t\\t\\t\\t\\t<span class=\"icon-bar\"></span>\\n\\t\\t\\t\\t\\t\\t<span class=\"icon-bar\"></span>\\n\\t\\t\\t\\t\\t</span>\\n\\t\\t\\t\\t  </button>\\n\\t\\t\\t</div>\\n\\t\\t\\t  <span class=\"logo home_logo\"><a href=\"https://jobbuzz.timesjobs.com/\"><img src=\"https://jbstatic.timesjobs.com/images/jb-logo.svg\" alt=\"Make Smarter Career Decisions\" /></a></span>\\n\\t\\t\\t<a href=\"javascript:void(0);\" data-ng-if=\"!isHomePage\" class=\"visible-xs pull-right mobile-searchico {{search.innerSearchSec == \\'1\\' ? \\'search-active\\' : \\'\\'}}\" data-ng-click=\"search.innerSearchSec == \\'0\\' ? search.innerSearchSec = \\'1\\' : search.innerSearchSec = \\'0\\'\" data-hideangulardropdown=\"resetInner()\" data-ng-show=\"!isHomePage\"><img src=\"https://jbstatic.timesjobs.com/images/spacer.gif\" class=\"cus-icon cus-homesearch\" /></a>\\n\\t\\t\\t\\t\\n\\t\\t\\t<div class=\"xs-headerl bckbtn\" data-ng-hide=\"!isBack\" data-ng-click=\"backToList(false)\"> \\n\\t\\t\\t\\t <button type=\"button\" class=\"navbar-toggle\">\\n\\t\\t\\t\\t\\t<img src=\"https://jbstatic.timesjobs.com/images/spacer.gif\" class=\"cus-icon-nw cus-icon-back\" />\\n\\t\\t\\t\\t  </button>\\n\\t\\t\\t</div>\\n\\t\\t\\t<nav class=\"main-mnu\" id=\"navbar-collapse1\">\\n\\t\\t\\t\\t<ul class=\"nav navbar-nav\">\\n\\t\\t\\t\\t\\t<li class=\"user-detail-login visible-xs\">\\n\\t\\t\\t\\t\\t\\t<div data-ng-if=\"(isLoginInfo.loginId == null || isLoginInfo.loginId == \\'\\')\">\\n\\t\\t\\t\\t\\t\\t\\t<div class=\"media\">\\n\\t\\t\\t\\t\\t\\t\\t\\t<img class=\"pull-left cus-icon-nw mob-profile\" data-ng-src=\"https://jbstatic.timesjobs.com/images/spacer.gif\" />\\n\\t\\t\\t\\t\\t\\t\\t\\t<div class=\"media-body\">Welcome to JobBuzz</div>\\n\\t\\t\\t\\t\\t\\t\\t</div>\\n\\t\\t\\t\\t\\t\\t\\t<div class=\"row text-center\">\\n\\t\\t\\t\\t\\t\\t\\t\\t<div class=\"col-xs-6\"><a href=\"javascript:checkLogin();openmodal(\\'loginCtrl\\');\">sign in</a></div>\\n\\t\\t\\t\\t\\t\\t\\t\\t<div class=\"col-xs-6\"><a href=\"javascript:checkLogin();openmodal(\\'signUpctrl\\');\">register</a></div>\\n\\t\\t\\t\\t\\t\\t\\t</div>\\n\\t\\t\\t\\t\\t\\t</div>\\n\\t\\t\\t\\t\\t\\t<div data-ng-if=\"!(isLoginInfo.loginId == null || isLoginInfo.loginId == \\'\\')\">\\n\\t\\t\\t\\t\\t\\t\\t\\n\\t\\t\\t\\t\\t\\t\\t<div class=\"media mnu-media\">\\n\\t\\t\\t\\t\\t\\t\\t\\t<div class=\"pull-left\"><img class=\"profile\" data-ng-src=\"{{isLoginInfo.profilePic}}\" alt=\"{{isLoginInfo.firstName}}\" data-errsrc=\"circle\" data-font=\"35\" data-width=\"60\"  /></div>\\n\\t\\t\\t\\t\\t\\t\\t\\t<div class=\"media-body\">\\n\\t\\t\\t\\t\\t\\t\\t\\t\\t<div data-ng-bind=\"isLoginInfo.firstName\"></div>\\n\\t\\t\\t\\t\\t\\t\\t\\t\\t<span class=\"font12\">Edit profile</span>\\n\\t\\t\\t\\t\\t\\t\\t\\t</div>\\n\\t\\t\\t\\t\\t\\t\\t</div>\\n\\t\\t\\t\\t\\t\\t\\t<a href=\"/jobbuzz/profile-overview.html\" class=\"centerimg\"></a>\\n\\t\\t\\t\\t\\t\\t</div>\\n\\t\\t\\t\\t\\t</li>\\n\\t\\t\\t\\t\\t<li class=\"mnuicon home\"><a href=\"https://jobbuzz.timesjobs.com/\">Home</a></li>\\n\\t\\t\\t\\t\\t<li class=\"mnuicon\"><a href=\"https://jobbuzz.timesjobs.com/review\">Company Reviews</a></li>\\n\\t\\t\\t\\t\\t<li class=\"mnuicon\"><a href=\"https://jobbuzz.timesjobs.com/salary\">Salaries</a></li>\\n\\t\\t\\t\\t\\t<li class=\"mnuicon\"><a href=\"https://jobbuzz.timesjobs.com/interview\">Interviews</a></li>\\n\\t\\t\\t\\t\\t<li class=\"mnuicon\"><a href=\"https://jobbuzz.timesjobs.com/jobs/all\">Jobs</a></li>\\n\\t\\t\\t\\t\\t<li class=\"mnuicon\"><a href=\"https://jobbuzz.timesjobs.com/webinar\">Webinars</a></li>\\n\\t\\t\\t\\t\\t<li class=\"mnuicon\"><a href=\"https://jobbuzz.timesjobs.com/workplace2025\" target=\"_blank\">Workplace 2025</a></li>\\n\\t\\t\\t\\t\\t\\n\\t\\t\\t\\t\\t<li class=\"mnuicon divider-bar hidden-xs navbtn\" data-ng-show=\"(isLoginInfo.loginId == null || isLoginInfo.loginId == \\'\\')\" data-ng-if=\"(isLoginInfo.loginId == null || isLoginInfo.loginId == \\'\\')\"><a href=\"javascript:checkLogin();openmodal(\\'loginCtrl\\');\">Sign in</a></li>\\n\\t\\t\\t\\t\\t<li class=\"mnuicon hidden-xs navbtn\" data-ng-show=\"(isLoginInfo.loginId == null || isLoginInfo.loginId == \\'\\')\" data-ng-if=\"(isLoginInfo.loginId == null || isLoginInfo.loginId == \\'\\')\"><a href=\"javascript:checkLogin();openmodal(\\'signUpctrl\\')\">Register</a></li>\\n\\t\\t\\t\\t\\t<li class=\"mnuicon hidden-xs ng-hide divider-bar\" data-ng-show=\"(isLoginInfo.loginId != null && isLoginInfo.loginId != \\'\\') && !isMobileSearch\">\\n\\t\\t\\t\\t\\t\\t<a href=\"javascript:;\" id=\"accsetting\" data-toggle=\"dropdown\" aria-haspopup=\"true\" role=\"button\" aria-expanded=\"false\">\\n\\t\\t\\t\\t\\t\\t\\t<!-- <span class=\"mnu\" data-ng-if=\"isLoginInfo.profilePic != null && isLoginInfo.profilePic != \\'\\'\"><img class=\"tblecell\" data-ng-if=\"isLoginInfo.profilePic != null && isLoginInfo.profilePic != \\'\\'\" data-ng-src=\"{{isLoginInfo.profilePic}}\" style=\"width:32px;\" /></span> -->\\n\\t\\t\\t\\t\\t\\t\\t<strong data-ng-if=\"isLoginInfo.profilePic == null || isLoginInfo.profilePic == \\'\\'\" data-firstletter=\"{{isLoginInfo.firstName}}\" data-test=\"{{isLoginInfo.firstName}}\" class=\"profilepic position\" data-type=\"circle\" data-font=\"14\"></strong>\\n\\t\\t\\t\\t\\t\\t\\t{{isLoginInfo.firstName}} <span class=\"caret\"></span>\\n\\t\\t\\t\\t\\t\\t</a>\\n\\t\\t\\t\\t\\t  <ul class=\"dropdown-menu\" role=\"menu\" aria-labelledby=\"accsetting\">\\n\\t\\t\\t\\t\\t\\t<li><a href=\"javascript:void(0)\">Hello, <strong data-ng-bind=\"isLoginInfo.firstName\"></strong></a></li>\\n\\t\\t\\t\\t\\t\\t<li><a href=\"/jobbuzz/profile-overview.html\">Your Profile</a></li>\\n\\t\\t\\t\\t\\t\\t<li><a href=\"/jobbuzz/notification/activity-overview.html\">Your Activity</a></li>\\n\\t\\t\\t\\t\\t\\t<li class=\"divider\" data-ng-if=\"isLoginInfo.showDashboard == true || isLoginInfo.showDashboard == \\'true\\'\"></li>\\n\\t\\t\\t\\t\\t\\t<li data-ng-if=\"isLoginInfo.showDashboard == true || isLoginInfo.showDashboard == \\'true\\'\"><a href=\"/jobbuzz/referral/dashboard.html\">Dashboard</a></li>\\n\\t\\t\\t\\t\\t\\t<li data-ng-if=\"isLoginInfo.showSRP == true || isLoginInfo.showSRP == \\'true\\'\"><a href=\"/jobbuzz/referral/myreferrals.html\">Refer Requests</a></li>\\n\\t\\t\\t\\t\\t\\t<li><a href=\"javascript:void(0)\" data-ng-click=\"signOut()\">Sign Out <i class=\"glyphicon glyphicon-log-out\"></i></a></li>\\t\\t\\t\\t\\t\\t\\n\\t\\t\\t\\t\\t  </ul>\\n\\t\\t\\t\\t\\t\\t\\n\\t\\t\\t\\t\\t</li>\\n\\t\\t\\t\\t\\t<li class=\"visible-xs mobile-nav-contribution\">\\n\\t\\t\\t\\t\\t\\t<ul>\\n\\t\\t\\t\\t\\t\\t\\t<li><a href=\"https://jobbuzz.timesjobs.com/jobbuzz/review.html\"><img src=\"https://jbstatic.timesjobs.com/images/spacer.gif\" class=\"cus-icon-nw cus-icon-wr-review\" alt=\"Write a review\" /> WRITE A REVIEW</a></li>\\n\\t\\t\\t\\t\\t\\t\\t<li><a href=\"https://jobbuzz.timesjobs.com/jobbuzz/post-interview-page.html\"><img src=\"https://jbstatic.timesjobs.com/images/spacer.gif\" class=\"cus-icon-nw cus-icon-wr-interview\" alt=\"Post An Interview\" /> Post An Interview</a></li>\\n\\t\\t\\t\\t\\t\\t\\t<li><a href=\"https://jobbuzz.timesjobs.com/compare-companies\"><img src=\"https://jbstatic.timesjobs.com/images/spacer.gif\" class=\"cus-icon-nw cus-icon-wr-company\" alt=\"Compare Companies\" /> Compare Companies </a></li>\\n\\t\\t\\t\\t\\t\\t</ul>\\n\\t\\t\\t\\t\\t</li>\\n\\t\\t\\t\\t\\t<li class=\"visible-xs mobile-nav-contribution\" data-ng-if=\"(isLoginInfo.loginId != null && isLoginInfo.loginId != \\'\\')\">\\n\\t\\t\\t\\t\\t\\t<ul>\\n\\t\\t\\t\\t\\t\\t\\t<li><a href=\"/jobbuzz/notification/activity-overview.html\"><img src=\"https://jbstatic.timesjobs.com/images/spacer.gif\" class=\"cus-icon-nw cus-icon-wr-activity\" alt=\"Write a review\" /> Your Activity</a></li>\\n\\t\\t\\t\\t\\t\\t\\t<li data-ng-if=\"isLoginInfo.showDashboard == true || isLoginInfo.showDashboard == \\'true\\'\"><a href=\"/jobbuzz/referral/dashboard.html\"><img src=\"https://jbstatic.timesjobs.com/images/spacer.gif\" class=\"cus-icon-nw cus-icon-wr-dashboard\" alt=\"Post An Interview\" /> My Dashboard</a></li>\\n\\t\\t\\t\\t\\t\\t\\t<li data-ng-if=\"isLoginInfo.showSRP == true || isLoginInfo.showSRP == \\'true\\'\"><a href=\"/jobbuzz/referral/myreferrals.html\"><img src=\"https://jbstatic.timesjobs.com/images/spacer.gif\" class=\"cus-icon-nw cus-icon-wr-refferal\" alt=\"Compare Companies\" /> My Referral</a></li>\\n\\t\\t\\t\\t\\t\\t\\t<li><a href=\"javascript:void(0)\" data-ng-click=\"signOut()\"><img src=\"https://jbstatic.timesjobs.com/images/spacer.gif\" class=\"cus-icon-nw cus-icon-wr-logout\" alt=\"Compare Companies\" /> Logout</a></li>\\n\\t\\t\\t\\t\\t\\t</ul>\\n\\t\\t\\t\\t\\t</li>\\n\\t\\t\\t\\t</ul>\\n\\t\\t\\t\\t<div class=\"clearfix visible-sm\"></div>\\n\\t\\t\\t</nav>\\n\\t\\t\\t\\n\\t\\t\\t\\n\\t\\t</div>\\n\\t</header>\\n\\t<div data-ng-if=\"!isHomePage\" class=\"inner-page-search\" data-ng-class=\"{\\'inner-active\\':search.innerSearchSec == 2, \\'mobile-active\\':search.innerSearchSec == 1}\">\\n\\t\\t\\t\\t\\t<div class=\"clearfix inner-block\" data-ng-click=\"$event.stopPropagation();\">\\n\\t\\t\\t\\t\\t\\t<div class=\"margincenter col-md-7 col-xs-12 inner-serachbanner\">\\n\\t\\t\\t\\t\\t\\t<form data-ng-click=\"homesearch.autocomplete == 2 ? homesearch.autocomplete = 0 : null \" \\n\\t\\t\\t\\t\\t\\t\\taction=\"/jobbuzz/search.html\" id=\"searchForm\" method=\"post\" autocomplete=\"off\">\\n\\t\\t\\t\\t\\t\\t\\t\\t<div class=\"input-group homepage-search\" id=\"home-search\">\\n\\t\\t\\t\\t\\t\\t\\t\\t  \\t<div class=\"input-group-addon position\">\\n\\t\\t\\t\\t\\t\\t\\t\\t  \\t\\t<div class=\"home-search-txt\" data-ng-click=\"setBackup(search.searchBy); search.searchBy != 0 ? search.searchBy = 0 :resetSearch();\" data-hideangulardropdown=\"resetSearch()\">\\n\\t\\t\\t\\t\\t\\t\\t\\t  \\t\\t\\t<img src=\"https://jbstatic.timesjobs.com/images/spacer.gif\" class=\"cus-icon-nw cus-icon-ser-{{selectedOpt.class}}\" alt=\"{{selectedOpt.name}}\" />\\n\\t\\t\\t\\t\\t\\t\\t\\t  \\t\\t\\t<span data-ng-bind=\"selectedOpt.name\" class=\"hidden-xs\"></span>\\n\\t\\t\\t\\t\\t\\t\\t\\t  \\t\\t</div>\\n\\t\\t\\t\\t\\t\\t\\t\\t  \\t\\t<ul class=\"home-search-option\" data-ng-show=\"search.searchBy == 0\">\\n\\t\\t\\t\\t\\t\\t\\t\\t  \\t\\t\\t<li data-ng-click=\"$event.stopPropagation(); mainSearchsubmenu(option.value,\\'companies\\', option);\" data-ng-repeat=\"option in searchOptions\" data-ng-if=\"option.value != currentsel.backup\">\\n\\t\\t\\t\\t\\t\\t\\t\\t  \\t\\t\\t\\t<img src=\"https://jbstatic.timesjobs.com/images/spacer.gif\" class=\"cus-icon-nw cus-icon-ser-{{option.class}}\" alt=\"{{option.name}}\" />\\n\\t\\t\\t\\t\\t\\t\\t\\t  \\t\\t\\t\\t<span>{{option.name}}</span>\\n\\t\\t\\t\\t\\t\\t\\t\\t  \\t\\t\\t</li>\\n\\t\\t\\t\\t\\t\\t\\t\\t  \\t\\t</ul>\\n\\t\\t\\t\\t\\t\\t\\t\\t  \\t</div>\\n\\t\\t\\t\\t\\t    \\t\\t\\t<input\\tclass=\"form-control serachctrl\" data-ng-if=\"search.searchBy == 2 && currentsel.isVisible == false\"  \\t\\n\\t\\t\\t\\t\\t\\t    \\t\\t\\ttype=\"text\"\\tid=\"compamySearchText\"\\tname=\"compamySearchText\" data-ng-model=\"search.compamySearchTextH\"  placeholder=\"Enter company name e.g. Google\" \\n\\t\\t\\t\\t\\t\\t\\t  \\t\\t\\tdata-typeahead-on-select=\\'onSelectMainSearch($item, $model, $label)\\' \\n\\t\\t\\t\\t\\t\\t\\t  \\t\\t\\tdata-ng-pattern=\"/^[a-zA-Z0-9]/\"   maxlength=\"100\"\\n\\t\\t\\t\\t\\t\\t\\t  \\t\\t\\tdata-typeahead=\"suggestion.companyName for suggestion in loadCompanies($viewValue) | limitTo:5\" \\n\\t\\t\\t\\t\\t\\t\\t  \\t\\t\\tdata-typeahead-min-length=\"3\"\\tclass=\"form-control\"\\t aria-describedby=\"basic-companies\" \\n\\t\\t\\t\\t\\t\\t\\t  \\t\\t\\tdata-ng-keyup=\"$event.keyCode == 13 || $event.keyCode == 186 ? headerSearchSubmitCompany(search.compamySearchTextH) : null\" />\\n\\t\\t\\t\\t\\t\\t\\t  \\t\\t\\t\\n\\t\\t\\t\\t\\t\\t\\t  \\t\\t\\t\\n\\t\\t\\t\\t\\t\\t\\t\\t\\t<input class=\"form-control serachctrl\" data-ng-if=\"search.searchBy == 1 && currentsel.isVisible == false\"\\n\\t\\t\\t\\t\\t\\t    \\t\\t\\ttype=\"text\"\\tid=\"interviewSearchText\"\\tname=\"interviewSearchText\" data-ng-model=\"search.interviewSearchTextH\"  placeholder=\"Enter Skill, Company or Role\" \\n\\t\\t\\t\\t\\t\\t\\t  \\t\\t\\tdata-typeahead-on-select=\\'onSelectMainSearch($item, $model, $label)\\'\\n\\t\\t\\t\\t\\t\\t\\t  \\t\\t\\tdata-ng-pattern=\"/^[a-zA-Z0-9]/\" maxlength=\"100\"\\n\\t\\t\\t\\t\\t\\t\\t  \\t\\t\\tdata-typeahead=\"suggestion.skillName for suggestion in loadInterviews($viewValue) | limitTo:5\" \\n\\t\\t\\t\\t\\t\\t\\t  \\t\\t\\tdata-typeahead-min-length=\"3\" class=\"form-control\" aria-describedby=\"basic-interview\" \\n\\t\\t\\t\\t\\t\\t\\t  \\t\\t\\tdata-ng-keyup=\"$event.keyCode == 13 || $event.keyCode == 186 ? headerSearchSubmitInterview(search.interviewSearchTextH) : null\"/>\\n\\t\\t\\t\\t\\t\\t\\t\\t  \\t\\t\\t\\n\\t\\t\\t\\t\\t\\t\\t\\t  \\t\\t\\t\\n\\t\\t\\t\\t\\t\\t    \\t\\t<input\\tclass=\"form-control serachctrl\" data-ng-if=\"search.searchBy == 3 && currentsel.isVisible == false\"\\n\\t\\t\\t\\t\\t\\t    \\t\\t\\ttype=\"text\"\\tid=\"jobsSearchText\"\\tname=\"jobsSearchText\" data-ng-model=\"search.jobsSearchTextH\"  placeholder=\"E.g. Java Developer 3-5 years Pune\" data-typeahead-on-select=\\'onSelectMainSearch($item, $model, $label)\\'\\n\\t\\t\\t\\t\\t\\t\\t  \\t\\t\\tdata-ng-pattern=\"/^[a-zA-Z0-9]/\"  maxlength=\"100\"\\n\\t\\t\\t\\t\\t\\t\\t  \\t\\t\\tdata-typeahead=\"suggestion for suggestion in loadJobs($viewValue) | limitTo:5\" \\n\\t\\t\\t\\t\\t\\t\\t  \\t\\t\\tdata-typeahead-min-length=\"3\" class=\"form-control\"\\taria-describedby=\"basic-job\" \\n\\t\\t\\t\\t\\t\\t\\t  \\t\\t\\tdata-ng-keyup=\"$event.keyCode == 13 || $event.keyCode == 186 ? headerSearchSubmitJob(search.jobsSearchTextH) : null\" />\\n\\t\\t\\t\\t\\t\\t\\t  \\t\\t\\t\\n\\t\\t\\t\\t\\t\\t\\t  \\t\\t\\t\\n\\t\\t\\t\\t\\t\\t    \\t\\t<input \\ttype=\"text\"\\tid=\"jobsSalaryText\" data-ng-if=\"search.searchBy == 4 && currentsel.isVisible == false\"\\n\\t\\t\\t\\t\\t\\t    \\t\\t\\tmaxlength=\"100\" data-ng-model=\"search.salarySearchText\" placeholder=\"Company name or Role\" \\n\\t\\t\\t\\t  \\t\\t\\t\\t\\t\\tdata-typeahead-on-select=\\'onSelectMainSearch($item, $model, $label)\\' data-ng-pattern=\"/^[a-zA-Z0-9]/\"  class=\"form-control serachctrl\"\\n\\t\\t\\t\\t  \\t\\t\\t\\t\\t\\tdata-typeahead=\"suggestion.companyName for suggestion in loadCompanies($viewValue) | limitTo:5\" data-typeahead-min-length=\"3\"\\n\\t\\t\\t\\t  \\t\\t\\t\\t\\t\\tdata-ng-keyup=\"$event.keyCode == 13 || $event.keyCode == 186  ? headerSearchSubmitSalary(search.salarySearchText) : null\"  aria-describedby=\"basic-companies\" />\\n\\t\\t\\t\\t\\t\\t\\t\\t\\t\\n\\t\\t\\t\\t\\t\\t\\t\\t\\t\\n\\t\\t\\t\\t\\t\\t\\t\\t\\t<input type=\"hidden\" id=\"searchBy\"\\tname=\"searchBy\"\\tvalue=\"\" data-ng-model=\"search.searchBy\" />\\n\\t\\t\\t\\t\\t\\t\\t\\t\\t<input type=\"hidden\" id=\"compId\"\\tname=\"compId\" value=\"\" data-ng-model=\"search.compId\" />\\n\\t\\t\\t\\t\\t\\t\\t\\t</div>\\n\\t\\t\\t\\t\\t\\t</form>\\n\\t\\t\\t\\t\\t\\t</div>\\n\\t\\t\\t\\t\\t</div>\\n\\t\\t\\t\\t\\t</div>\\n\\t\\t\\t\\t\\t</div>\\n\\n<div class=\"user-contribution shortlinks\" data-ng-show=\"!isHomePage\">\\n\\t<ul>\\n\\t\\t<li><a href=\"https://jobbuzz.timesjobs.com/jobbuzz/askaquestion.html\">Ask Your Questions<img src=\"https://jbstatic.timesjobs.com/images/spacer.gif\" class=\"cus-icon-nw cus-icon-wr-review\" alt=\"Write a review\" /></a></li>\\n\\t\\t<li><a href=\"https://jobbuzz.timesjobs.com/jobbuzz/review.html\">WRITE A REVIEW <img src=\"https://jbstatic.timesjobs.com/images/spacer.gif\" class=\"cus-icon-nw cus-icon-wr-review\" alt=\"Write a review\" /></a></li>\\n\\t\\t<li><a href=\"https://jobbuzz.timesjobs.com/jobbuzz/post-interview-page.html\">Post An Interview  <img src=\"https://jbstatic.timesjobs.com/images/spacer.gif\" class=\"cus-icon-nw cus-icon-wr-interview\" alt=\"Post An Interview\" /></a></li>\\n\\t\\t<li><a href=\"https://jobbuzz.timesjobs.com/compare-companies\">Compare Companies  <img src=\"https://jbstatic.timesjobs.com/images/spacer.gif\" class=\"cus-icon-nw cus-icon-wr-company\" alt=\"Compare Companies\" /></i></a></li>\\n\\t</ul>\\n\\t<span></span>\\n</div>\\n\\t</div>\\n\\t\\n\\t<div class=\"row\" id=\"staticmsg\" data-close=\"staticmsg\">\\n\\t\\t<div class=\"col-xs-10 z2new text-center col-md-8 alert alert-warning margincenter alert-dismissible\">\\n\\t\\t\\t<button type=\"button\" class=\"close close-btn\"><span>&times;</span><span class=\"sr-only\">Close</span></button>\\n\\t\\t\\t<span class=\"txtmsg\"></span>\\n\\t\\t</div>\\n\\t</div>\\n\\t\\n\\t\\n\\t\\t<div class=\"parentcont\">\\n\\t\\t\\t\\n\\n\\n\\n\\n\\n\\n\\n\\n\\n\\n\\n\\n\\n<div class=\"container-fluid offsetWrap\" id=\"navbar-collapse1Wrap\" data-ng-controller=\"jobLandingCTRL\" data-ng-init=\"requestParam=\\'datacenter=7&view=all\\'; txtCompId=\\'\\'; txtCompName=\\'\\'\" data-ng-click=\"closeFilter()\">\\n\\t<div class=\"row\">\\n\\n\\t\\t<!--##################### Company Graph Section  ######################-->\\n\\t\\t<div class=\"col-sm-12\" data-ng-if=\"companyIdFilter.length == 1 && moreJobs.length > 0\">\\n\\t\\t\\t<div class=\"row company-cus-banner\" data-company-banner=\"{{companyIdFilter[0]}}\" data-wrapclass=\"col-md-9 margincenter\" data-card-index=\"2\"></div>\\n\\t\\t</div>\\n\\t\\t<!--######################### Company Graph Section  #####################-->\\n\\n\\t\\t<!-- #################################### -->\\n\\t\\t<div class=\"container-fluid salarysearchbar\" id=\"innerhomepage\" data-ng-if=\"pgheading == \\'jobs\\'\" data-ng-show=\"filterData.length == 0\">\\n\\t\\t<div class=\"col-sm-9 col-xs-11 margincenter position homepagesearch\">\\n\\t\\t\\t<div class=\"row text-center\">\\n\\t\\t\\t\\t<div class=\"input-group homepage-search\" id=\"home-search\">\\n\\t\\t\\t\\t\\t<div class=\"input-group-addon position\">\\n\\t\\t\\t\\t\\t\\t<div class=\"home-search-txt\">\\n\\t\\t\\t\\t\\t\\t\\t<img src=\"https://jbstatic.timesjobs.com/images/spacer.gif\" class=\"cus-icon-nw cus-icon-ser-job\" alt=\"Jobs\" /> \\n\\t\\t\\t\\t\\t\\t\\t<span class=\"hidden-xs\">Jobs</span>\\n\\t\\t\\t\\t\\t\\t</div>\\n\\t\\t\\t\\t\\t</div>\\n\\t\\t\\t\\t\\t<input\\tclass=\"form-control serachctrl\" autofocus=\"\"\\n\\t\\t    \\t\\t\\ttype=\"text\"\\tid=\"jobsSearchText\"\\tname=\"jobsSearchText\" data-ng-model=\"search.jobsSearchTextH\"  placeholder=\"E.g. Java Developer 3-5 years Pune\" data-typeahead-on-select=\\'onSelectMainSearch($item, $model, $label)\\'\\n\\t\\t\\t  \\t\\t\\tdata-ng-pattern=\"/^[a-zA-Z0-9]/\"  maxlength=\"100\" data-typeahead=\"suggestion for suggestion in loadJobs($viewValue) | limitTo:5\" \\n\\t\\t\\t  \\t\\t\\tdata-typeahead-min-length=\"3\" class=\"form-control\"\\taria-describedby=\"basic-job\" \\n\\t\\t\\t  \\t\\t\\tdata-ng-keyup=\"$event.keyCode == 13 || $event.keyCode == 186 ? headerSearchSubmitJob(search.jobsSearchTextH) : null\" />\\n\\t\\t\\t\\t</div>\\n\\t\\t\\t</div>\\n\\t\\t</div>\\n\\t\\t</div>\\n\\t\\t<!-- #################################### -->\\n\\t\\n\\t\\t<!--######## Main Container Start Here ###########-->\\n\\t\\t<div class=\"col-sm-12\">\\n\\t\\t\\t<div class=\"row\">\\n\\t\\t\\t\\t<ol class=\"breadcrumb\" itemscope itemtype=\"http://schema.org/BreadcrumbList\">\\n\\t\\t\\t\\t\\t<li itemprop=\"itemListElement\" itemscope itemtype=\"http://schema.org/ListItem\">\\n\\t\\t\\t\\t\\t\\t<a href=\"/\" itemprop=\"item\">\\n\\t\\t\\t\\t\\t\\t\\t<img itemprop=\"name\" src=\"https://jbstatic.timesjobs.com/images/spacer.gif\" class=\"cus-icon cus-home-small\" alt=\"home\" />\\n\\t\\t\\t\\t\\t\\t</a>\\n\\t\\t\\t\\t\\t\\t<meta itemprop=\"position\" content=\"1\" />\\n\\t\\t\\t\\t\\t</li>\\n\\t\\t\\t\\t\\t\\n\\t\\t\\t\\t\\t<li class=\"active\">Jobs</li>\\n\\t\\t\\t\\t</ol>\\n\\t\\t\\t</div>\\n\\t\\t\\t\\n\\t\\t\\t<h4 class=\"notifyRow notopmargin font16\" data-ng-init=\"pgheading = \\'jobs\\'\" data-ng-show=\"pgheading != \\'jobs\\'\">\\n\\t\\t\\t \\t<span>Showing Results for: <i class=\"redcolor\" data-escape-char=\"\">jobs</i> &nbsp;|</span> {{jobsCount}} jobs found \\n\\t\\t\\t</h4>\\n\\t\\t\\t\\n\\t\\t\\t<h1 class=\"notifyRow notopmargin font16\" data-ng-show=\"pgheading == \\'jobs\\'\">Search Jobs</h1> \\n\\t\\t\\t<div class=\"clearfix\">\\n\\t\\t\\t\\t\\n<!--##### Filler Section Start here ######-->\\n<div class=\"row filterbar m_b10 position\" data-ng-init=\"scope={name:\\'\\',value:0}\">\\n\\t<div class=\"col-sm-8 filter\">\\n\\t\\t<div class=\"row\">\\n\\t\\t\\t<div class=\"col-xs-4 size16 col-sm-2\">\\n\\t\\t\\t\\t<img src=\"https://jbstatic.timesjobs.com/images/spacer.gif\" class=\"cus-icon  cus-filter\" alt=\"\"> Filters\\n\\t\\t\\t</div>\\n\\t\\t\\t<div class=\"col-xs-3\">\\n\\t\\t\\t\\t<div class=\"z1 flcompany\">\\n\\t\\t\\t\\t\\t<img src=\"https://jbstatic.timesjobs.com/images/spacer.gif\" class=\"cus-icon cus-cmp\" alt=\"\"> <label class=\"hidden-xs\">company <span>+</span></label>\\n\\t\\t\\t\\t\\t<a href=\"javascript:void(0)\" class=\"anchorWrap\" data-ng-click=\"scope.value === 3? scope.value = 0 :scope.value=3; $event.stopPropagation();\"></a>\\n\\t\\t\\t\\t</div>\\n\\t\\t\\t</div>\\n\\t\\t\\t<div class=\"col-xs-2 col-sm-3 sharev\">\\n\\t\\t\\t\\t<div class=\"z1 flskill\">\\n\\t\\t\\t\\t\\t<img src=\"https://jbstatic.timesjobs.com/images/spacer.gif\" class=\"cus-icon cus-jobf\" alt=\"\"> <label class=\"hidden-xs\">job function <span>+</span></label> \\n\\t\\t\\t\\t\\t<a href=\"javascript:void(0)\" class=\"anchorWrap\"\\n\\t\\t\\t\\t\\t\\tdata-ng-click=\"scope.value === 1? scope.value = 0 :scope.value=1; $event.stopPropagation();\"></a>\\n\\t\\t\\t\\t</div>\\n\\t\\t\\t</div>\\n\\t\\t\\t<div class=\"col-xs-3\">\\n\\t\\t\\t\\t<div class=\"z1 flrole\">\\n\\t\\t\\t\\t\\t<img src=\"https://jbstatic.timesjobs.com/images/spacer.gif\" class=\"cus-icon cus-location\" alt=\"\"> <label class=\"hidden-xs\">location <span>+</span></label>\\n\\t\\t\\t\\t\\t<a href=\"javascript:void(0)\" class=\"anchorWrap\" data-ng-click=\"scope.value === 2? scope.value = 0 :scope.value=2; $event.stopPropagation();\"></a>\\n\\t\\t\\t\\t</div>\\n\\t\\t\\t</div>\\n\\t\\t</div>\\n\\t</div>\\n\\t<div class=\"col-sm-4 text-right hidden-xs\">\\n\\t\\t<div class=\"row\">\\n\\t\\t\\t<div class=\"col-xs-3 col-xs-offset-3 sortorder\">\\n\\t\\t\\t\\t<div class=\"row\">\\n\\t\\t\\t\\t\\t<img src=\"https://jbstatic.timesjobs.com/images/spacer.gif\" class=\"cus-icon cus-sort\" alt=\"Answer icon\"> sort\\n\\t\\t\\t\\t</div>\\n\\t\\t\\t</div>\\n\\t\\t\\t<div class=\"col-xs-6\">\\n\\t\\t\\t\\t<div class=\"selectwrapper simquesList z1\">\\n\\t\\t\\t\\t\\t<select data-ng-model=\"selectedSort\"  data-ng-change=\"sortChanged(selectedSort)\" class=\"sortordersel\">\\n\\t\\t\\t\\t\\t\\t<option value=\"I\" selected=\"selected\">relevance</option>\\n\\t\\t\\t\\t\\t\\t<option value=\"Y\">recency</option>\\n\\t\\t\\t\\t\\t</select> \\n\\t\\t\\t\\t</div>\\n\\t\\t\\t</div>\\n\\t\\t</div>\\n\\t</div>\\n\\t<div class=\"filterdata\" data-ng-repeat=\"(key,value) in clusterFinalMap\">\\n\\t\\t<div class=\"col-xs-12 col-sm-10 col-md-9\" data-ng-show=\"scope.value===3\"\\n\\tdata-ng-if=\"key===\\'companyName\\'\"\\n\\tdata-ng-click=\"$event.stopPropagation();\">\\n\\t<div class=\"z1 clearfix flitersearchblk container-blk\">\\n\\t\\t<div class=\"col-sm-4 selectedflt first-column\">\\n\\t\\t\\t<h3>Search by your company</h3>\\n\\t\\t\\t<div class=\"searchctrl position\">\\n\\t\\t\\t\\t<img src=\"https://jbstatic.timesjobs.com/images/spacer.gif\"\\n\\t\\t\\t\\t\\tclass=\"search\"> <input type=\"text\" class=\"form-control\"\\n\\t\\t\\t\\t\\tplaceholder=\"Search\"\\n\\t\\t\\t\\t\\ttypeahead-on-select=\"onAutoSelect($item,\\'company\\',$event)\"\\n\\t\\t\\t\\t\\tdata-ng-model=\"compselected\"\\n\\t\\t\\t\\t\\ttypeahead=\"compsel.companyName for compsel in autoSuggestService.getCompanies($viewValue)\"\\n\\t\\t\\t\\t\\ttypeahead-min-length=\"3\" />\\n\\n\\t\\t\\t</div>\\n\\t\\t\\t<div class=\"row notifyRow\">\\n\\t\\t\\t\\t<div class=\"col-xs-12\">\\n\\t\\t\\t\\t\\t<span class=\"label flcompany ellipsesingle\" title=\"{{filt.name}}\"\\n\\t\\t\\t\\t\\t\\tdata-ng-if=\"filt.class===\\'company\\'\"\\n\\t\\t\\t\\t\\t\\tdata-ng-repeat=\"filt in filterData\"> <a\\n\\t\\t\\t\\t\\t\\thref=\"javascript:void(0)\"\\n\\t\\t\\t\\t\\t\\tdata-ng-click=\"removeFilter($index,1,$event)\">X</a>&nbsp;&nbsp;\\n\\t\\t\\t\\t\\t\\t{{filt.name}}\\n\\n\\t\\t\\t\\t\\t</span>\\n\\t\\t\\t\\t</div>\\n\\t\\t\\t</div>\\n\\t\\t</div>\\n\\t\\t<div class=\"col-sm-8 second-column\">\\n\\t\\t\\t<h3>\\n\\t\\t\\t\\t<span class=\"ortext\">Or</span>Select from top companies\\n\\t\\t\\t</h3>\\n\\n\\t\\t\\t<div class=\"row m_t10 companylist\">\\n\\t\\t\\t\\t<div class=\"col-sm-4\"\\n\\t\\t\\t\\t\\tdata-ng-repeat=\"comp in value | orderBy:comp.count\"\\n\\t\\t\\t\\t\\tdata-ng-if=\"$index < 21\">\\n\\t\\t\\t\\t\\t<div data-ng-click=\"addFilterFunc(comp,\\'company\\',$event)\"\\n\\t\\t\\t\\t\\t\\tclass=\"checkedwrap media\">\\n\\t\\t\\t\\t\\t\\t<img\\n\\t\\t\\t\\t\\t\\t\\tdata-ng-class=\"{true: \\'cus-icon cus-check pull-left cus-checked\\', false: \\'cus-icon cus-check pull-left\\'}[comp.checked]\"\\n\\t\\t\\t\\t\\t\\t\\tdata-label=\"{{comp.name}}\" data-label-id=\"{{comp.name}}\"\\n\\t\\t\\t\\t\\t\\t\\tsrc=\"https://jbstatic.timesjobs.com/images/spacer.gif\"\\n\\t\\t\\t\\t\\t\\t\\talt=\"checkbox\" />\\n\\t\\t\\t\\t\\t\\t<div class=\"media-body position\" title=\"{{comp.name}}\">\\n\\t\\t\\t\\t\\t\\t\\t<span data-ng-bind=\"comp.name\"> </span> <span class=\"fltcount\">(<span\\n\\t\\t\\t\\t\\t\\t\\t\\tdata-ng-bind=\"comp.count\"> </span>)\\n\\t\\t\\t\\t\\t\\t\\t</span>\\n\\t\\t\\t\\t\\t\\t</div>\\n\\t\\t\\t\\t\\t</div>\\n\\t\\t\\t\\t</div>\\n\\t\\t\\t</div>\\n\\t\\t\\t<div class=\"row\">&nbsp;</div>\\n\\t\\t\\t<a href=\"javascript:void(0)\" data-ng-click=\"scope.value=0\"\\n\\t\\t\\t\\tclass=\"positionclose\">+</a>\\n\\t\\t</div>\\n\\t</div>\\n</div>\\n\\n\\t\\t\\n<div class=\"col-xs-12 col-sm-10 col-md-9\" data-ng-show=\"scope.value===1\" data-ng-if=\"key===\\'FunctionSpecialisation\\'\" data-ng-click=\"$event.stopPropagation();\">\\n\\t<div class=\"z1 clearfix flitersearchblk container-blk\">\\n\\t\\t<div class=\"col-xs-12 second-column\">\\n\\t\\t\\t<h3>Select from top Job Function</h3>\\n\\t\\t\\t<div class=\"row m_t10 falist\">\\n\\t\\t\\t\\t<div class=\"col-sm-3\"\\n\\t\\t\\t\\t\\tdata-ng-repeat=\"fa in value | orderBy:fa.count\"\\n\\t\\t\\t\\t\\tdata-ng-if=\"$index < 21\">\\n\\t\\t\\t\\t\\t<div data-ng-click=\"addFilterFunc(fa,\\'fa\\',$event)\"\\n\\t\\t\\t\\t\\t\\tclass=\"checkedwrap media\">\\n\\t\\t\\t\\t\\t\\t<img ng-class=\"{true: \\'cus-icon cus-check pull-left cus-checked\\', false: \\'cus-icon cus-check pull-left\\'}[fa.checked]\"\\n\\t\\t\\t\\t\\t\\t\\tdata-label=\"{{fa.name}}\" data-label-id=\"{{fa.name}}\"\\n\\t\\t\\t\\t\\t\\t\\tsrc=\"https://jbstatic.timesjobs.com/images/spacer.gif\"\\n\\t\\t\\t\\t\\t\\t\\talt=\"checkbox\" />\\n\\t\\t\\t\\t\\t\\t<div class=\"media-body position\" title=\"{{fa.name.split(\\'+\\').join(\\' \\')}}\">\\n\\t\\t\\t\\t\\t\\t\\t<span data-ng-bind=\"fa.name.split(\\'+\\').join(\\' \\')\"> </span> \\n\\t\\t\\t\\t\\t\\t\\t<span class=\"fltcount\">(<span data-ng-bind=\"fa.count\"> </span>)</span>\\n\\t\\t\\t\\t\\t\\t</div>\\n\\t\\t\\t\\t\\t</div>\\n\\t\\t\\t\\t</div>\\n\\t\\t\\t</div>\\n\\t\\t\\t<div class=\"row\">&nbsp;</div>\\n\\t\\t<a href=\"javascript:void(0)\" data-ng-click=\"scope.value=0\" class=\"positionclose\">+</a>\\n\\t\\t</div>\\n\\t</div>\\n</div>\\n\\n\\n\\n\\n\\t\\t\\t<div class=\"col-xs-12 col-sm-10 col-md-9\" data-ng-if=\"key===\\'Location\\'\" data-ng-show=\"scope.value===2\" data-ng-click=\"$event.stopPropagation();\">\\n\\t\\t\\t\\t\\t\\t\\t<div class=\"z1 clearfix flitersearchblk container-blk\">\\n\\t\\t\\t\\t\\t\\t\\t\\t<div class=\"col-sm-4 selectedflt first-column\">\\n\\t\\t\\t\\t\\t\\t\\t\\t\\t<h3>Search by Location</h3>\\n\\t\\t\\t\\t\\t\\t\\t\\t\\t<div class=\"searchctrl position\">\\n\\t\\t\\t\\t\\t\\t\\t\\t\\t\\t<img src=\"https://jbstatic.timesjobs.com/images/spacer.gif\" class=\"search\">\\n\\t\\t\\t\\t\\t\\t\\t\\t\\t\\t<input type=\"text\" class=\"form-control\" placeholder=\"Search\" data-ng-model=\"locationselected\" typeahead-on-select=\"onAutoSelect($item,\\'location\\',$event)\" typeahead=\"location.value for location in autoSuggestService.getLocationsPair($viewValue)\" typeahead-min-length=\"3\" />\\n\\t\\t\\t\\t\\t\\t\\t\\t\\t</div>\\n\\t\\t\\t\\t\\t\\t\\t\\t\\t<div class=\"row notifyRow\">\\n\\t\\t\\t\\t\\t\\t\\t\\t\\t\\t<div class=\"col-xs-12\">\\n\\t\\t\\t\\t\\t\\t\\t\\t\\t\\t\\t<span class=\"label flrole ellipsesingle\" title=\"{{filt.name}}\" data-ng-if=\"filt.class===\\'location\\'\" data-ng-repeat=\"filt in filterData\">\\n\\t\\t\\t\\t\\t\\t\\t\\t\\t\\t\\t\\t<a href=\"javascript:void(0)\" data-ng-click=\"removeFilter($index,1,$event)\">X</a>&nbsp;&nbsp;{{filt.name}}\\n\\t\\t\\t\\t\\t\\t\\t\\t\\t\\t\\t</span>\\n\\t\\t\\t\\t\\t\\t\\t\\t\\t\\t</div>\\n\\t\\t\\t\\t\\t\\t\\t\\t\\t</div>\\n\\t\\t\\t\\t\\t\\t\\t\\t\\t\\n\\t\\t\\t\\t\\t\\t\\t\\t</div>\\n\\t\\t\\t\\t\\t\\t\\t\\t<div class=\"col-sm-8 second-column\">\\n\\t\\t\\t\\t\\t\\t\\t\\t\\t<h3>\\n\\t\\t\\t\\t\\t\\t\\t\\t\\t\\t<span class=\"ortext\">Or</span>Select from top Location\\n\\t\\t\\t\\t\\t\\t\\t\\t\\t</h3>\\n\\t\\t\\t\\t\\t\\t\\t\\t\\t<div class=\"row m_t10 locationlist\">\\n\\t\\t\\t\\t\\t\\t\\t\\t\\t\\t<div class=\"col-sm-4\" data-ng-repeat=\"loc in value | orderBy:loc.count\" data-ng-if=\"$index < 21\">\\n\\t\\t\\t\\t\\t\\t\\t\\t\\t\\t\\t<div data-ng-click=\"addFilterFunc(loc,\\'location\\',$event)\" class=\"checkedwrap media\">\\n\\t\\t\\t\\t\\t\\t\\t\\t\\t\\t\\t\\t<img data-label=\"{{loc.name}}\" data-ng-class=\"{true: \\'cus-icon cus-check pull-left cus-checked\\', false: \\'cus-icon cus-check pull-left\\'}[loc.checked]\"\\n\\t\\t\\t\\t\\t\\t\\t\\t\\t\\t\\t\\tdata-label-id=\"{{loc.name}}\" src=\"https://jbstatic.timesjobs.com/images/spacer.gif\" alt=\"checkbox\" />\\n\\t\\t\\t\\t\\t\\t\\t\\t\\t\\t\\t\\t<div  class=\"media-body position\" title=\"{{loc.name}}\">\\n\\t\\t\\t\\t\\t\\t\\t\\t\\t\\t\\t\\t\\t<span data-ng-bind=\"loc.name\"> </span>\\n\\t\\t\\t\\t\\t\\t\\t\\t\\t\\t\\t\\t\\t<span class=\"fltcount\">(<span data-ng-bind=\"loc.count\"> </span>)</span>\\n\\t\\t\\t\\t\\t\\t\\t\\t\\t\\t\\t\\t</div>\\n\\t\\t\\t\\t\\t\\t\\t\\t\\t\\t\\t</div>\\n\\t\\t\\t\\t\\t\\t\\t\\t\\t\\t</div>\\n\\t\\t\\t\\t\\t\\t\\t\\t\\t</div>\\n\\t\\t\\t\\t\\t\\t\\t\\t\\t<div class=\"row\">&nbsp;</div>\\n\\t\\t\\t\\t\\t\\t\\t\\t<a href=\"javascript:void(0)\" data-ng-click=\"scope.value=0\" class=\"positionclose\">+</a>\\n\\t\\t\\t\\t\\t\\t\\t\\t</div>\\n\\t\\t\\t\\t\\t\\t\\t</div>\\n\\t\\t\\t\\t\\t\\t</div>\\n\\t\\t\\t\\t\\t\\n\\t\\t\\t\\t\\t\\t\\t\\t\\t\\t\\n\\t\\t\\t\\t\\t\\t\\t\\t\\t\\t\\n\\t\\n\\t</div>\\n\\t<!--##### Filler Section Ends here ######-->\\n</div>\\n<div class=\"row m_b10\">\\n\\t<div class=\"col-xs-12 filter-label\">\\n\\t\\t<div data-ng-hide=\"filterData.length===0\">\\n\\t\\t\\t<span class=\"label fl{{filter.class}}\"\\n\\t\\t\\t\\tdata-ng-repeat=\"filter in filterData\"> <a\\n\\t\\t\\t\\thref=\"javascript:void(0)\"\\n\\t\\t\\t\\tdata-ng-click=\"removeFilter($index,1,$event)\">X</a> {{filter.name}}\\n\\t\\t\\t</span>\\n\\t\\t\\t<a href=\"javascript:void(0)\" data-ng-click=\"clearFilter()\" class=\"clearbtn font12\">Clear All</a>\\n\\t\\t</div>\\n\\t</div>\\n</div>\\n\\n\\t\\t\\t\\t\\n\\t\\t\\t\\t<!-- SINGLE JOB STARTS HERE  -->\\n\\t\\t\\t\\t<div class=\"row\" id=\"jobsSection\">\\n\\t\\t\\t\\t\\t<div class=\"col-sm-4 col-md-4 col-lg-3 columnsize account-card interview-card\"></div>\\n\\t\\t\\t\\t\\t<!-- REPEAT JOB STARTS HERE  -->\\n\\t\\t\\t\\t\\t<div class=\"col-sm-4 col-md-4 col-lg-3 account-card item interview-card {{companyIdFilter.length == 1 ? \\'add-card-widget\\' : \\'fdd\\'}}\" data-card-type=\"3\" data-add-card=\"4\" data-ng-repeat=\"job in moreJobs track by $index\" isotopappend=\"jobsSection\">\\n\\t\\t\\t\\t\\t\\t<div class=\"clearfix card-heading\">\\n\\t\\t\\t\\t\\t\\t\\t<ul class=\"commands-btn\">\\n\\t\\t\\t\\t\\t\\t\\t\\t<li><a data-original-title=\"Help\" href=\"javascript:void(0)\"\\n\\t\\t\\t\\t\\t\\t\\t\\t\\tclass=\"tooltipShow\" data-toggle=\"tooltip\" data-placement=\"top\"\\n\\t\\t\\t\\t\\t\\t\\t\\t\\ttitle=\"\"> <img\\n\\t\\t\\t\\t\\t\\t\\t\\t\\t\\tsrc=\"https://jbstatic.timesjobs.com/images/spacer.gif\"\\n\\t\\t\\t\\t\\t\\t\\t\\t\\t\\tclass=\"cus-icon cus-help\" alt=\"help\">\\n\\t\\t\\t\\t\\t\\t\\t\\t</a></li>\\n\\t\\t\\t\\t\\t\\t\\t</ul>\\n\\t\\t\\t\\t\\t\\t</div>\\n\\t\\t\\t\\t\\t\\t<div class=\"story-wrap z2new\">\\n\\t\\t\\t\\t\\t\\t\\t<div class=\"social-share\">\\n\\t\\t\\t\\t\\t\\t\\t\\t<ul>\\n\\t\\t\\t\\t\\t\\t\\t\\t\\t<li class=\"social-list\"><a href=\"javascript:void(0)\">\\n\\t\\t\\t\\t\\t\\t\\t\\t\\t\\t<img alt=\"share\" src=\"https://jbstatic.timesjobs.com/images/spacer.gif\" class=\"cus-icon cus-soci-share\"></a>\\n\\t\\t\\t\\t\\t\\t\\t\\t \\t\\t\\t<div class=\"share_objnode\" data-sharelink=\"\" data-url=\"https://www.timesjobs.com/candidate/{{job.jdUrl}}\" data-title=\"{{job.title | removeHtmlTagsWithContentLength:0}}\" data-summary=\"&nbsp;\"></div>\\n\\t\\t\\t\\t\\t\\t\\t\\t \\t\\t\\n\\t\\t\\t\\t\\t\\t\\t\\t      </li>\\n\\t\\t\\t\\t\\t\\t\\t\\t</ul>\\n\\t\\t\\t\\t\\t\\t\\t</div>\\n\\t\\t\\t\\t\\t\\t\\t<div class=\"row m_t10 text-left\">\\n\\t\\t\\t\\t\\t\\t\\t\\t<h4 class=\"ellipsetext\">\\n\\t\\t\\t\\t\\t\\t\\t\\t\\t<a href=\"https://www.timesjobs.com/candidate/{{job.jdUrl}}\" target=\"_blank\"><strong>{{job.title | removeHtmlTagsWithContentLength:0}} ({{job.experience}} yrs.)</strong></a>\\n\\t\\t\\t\\t\\t\\t\\t\\t</h4>\\n\\t\\t\\t\\t\\t\\t\\t\\t<div class=\"clearfix\">\\n\\t\\t\\t\\t\\t\\t\\t\\t\\t<div class=\"media\">\\n\\t\\t\\t\\t\\t\\t\\t\\t\\t\\t<div class=\"cmplogo pull-left\" data-ng-show=\"job.companyName !== null && job.companyName !== \\'\\'\">\\n\\t\\t\\t\\t\\t\\t\\t\\t\\t\\t\\t<!-- <a href=\"{{job.companySeoUrl}}\"\\ttarget=\"_blank\"> -->\\n\\t\\t\\t\\t\\t\\t\\t\\t\\t\\t\\t\\t<span data-ng-if=\"job.companyLogo === null\">\\n\\t\\t\\t\\t\\t\\t\\t\\t\\t\\t\\t\\t\\t<span data-firstletter=\"{{job.companyName}}\"  class=\"width60 position\" data-type=\"round\" data-font=\"30\"></span>\\n\\t\\t\\t\\t\\t\\t\\t\\t\\t\\t\\t\\t</span>\\n\\t\\t\\t\\t\\t\\t\\t\\t\\t\\t\\t\\t<span data-ng-if=\"job.companyLogo !== null\" class=\"width60\">\\n\\t\\t\\t\\t\\t\\t\\t\\t\\t\\t\\t\\t\\t<img data-ng-src=\"https://jobbuzz.timesjobs.com/ndata_images/logos/{{job.companyLogo}}\" data-errsrc=\"round\" data-font=\"30\" data-width=\"60\" style=\"width:60px\" alt=\"{{job.companyName}}\" />\\n\\t\\t\\t\\t\\t\\t\\t\\t\\t\\t\\t\\t</span>\\t\\t\\t\\t\\t\\t\\t\\t\\t\\t\\t\\n\\t\\t\\t\\t\\t\\t\\t\\t\\t\\t\\t<!-- </a> -->\\n\\t\\t\\t\\t\\t\\t\\t\\t\\t\\t</div>\\n\\t\\t\\t\\t\\t\\t\\t\\t\\t\\t\\n\\t\\t\\t\\t\\t\\t\\t\\t\\t\\t<div class=\"media-body\">\\n\\t\\t\\t\\t\\t\\t\\t\\t\\t\\t\\t<h5 class=\"media-heading\"\\tng-show=\"job.companyName.toUpperCase()\"\\t>\\n\\t\\t\\t\\t\\t\\t\\t\\t\\t\\t\\t<span data-ng-if=\"job.companySeoUrl !== null\"><a href=\"{{job.companySeoUrl}}\"\\ttarget=\"_blank\">{{job.companyName}}</a></span>\\n\\t\\t\\t\\t\\t\\t\\t\\t\\t\\t\\t<span data-ng-if=\"job.companySeoUrl === null\" style=\"color: #cc3333;\">{{job.companyName}}</span>\\n\\t\\t\\t\\t\\t\\t\\t\\t\\t\\t\\t\\n\\t\\t\\t\\t\\t\\t\\t\\t\\t\\t\\t</h5>\\n\\t\\t\\t\\t\\t\\t\\t\\t\\t\\t\\t<span class=\"font12\" ng-show=\"job.Location.toUpperCase() != \\'OTHERS\\'\">{{job.Location}}</span>\\n\\t\\t\\t\\t\\t\\t\\t\\t\\t\\t</div>\\n\\t\\t\\t\\t\\t\\t\\t\\t\\t</div>\\n\\t\\t\\t\\t\\t\\t\\t\\t\\t<div class=\"ratting_star\"></div>\\n\\t\\t\\t\\t\\t\\t\\t\\t</div>\\n\\t\\t\\t\\t\\t\\t\\t\\t\\n\\t\\t\\t\\t\\t\\t\\t<div class=\"tag-list\" data-taglist=\"\">\\n\\t\\t\\t\\t\\t\\t\\t\\t<a data-ng-bind=\"skill\" title=\"{{skill}}\"\\thref=\"/jobbuzz/all-jobs.html?datacenter=7&view=all&txtKeywords={{skill.trim()}}\" class=\"tagitem color{{$index%4}}\" data-ng-if=\"$index < 8\" data-ng-repeat=\"skill in job.keySkills\" data-ng-show=\"skill.trim().length>0\" >\\n\\t\\t\\t\\t\\t\\t\\t\\t\\t</a>\\n\\t\\t\\t\\t\\t\\t\\t</div>\\n\\t\\t\\t\\t\\t\\t\\t\\t<h5>\\n\\t\\t\\t\\t\\t\\t\\t\\t\\t<strong>Job description:</strong>\\n\\t\\t\\t\\t\\t\\t\\t\\t</h5>\\n\\t\\t\\t\\t\\t\\t\\t\\t<p class=\"font12 ellipsetext\" data-ng-show=\"job.jobDesc.length > 250\">{{job.jobDesc  | removeHtmlTagsWithContentLength:249}} &nbsp;<a href=\"https://www.timesjobs.com/candidate/{{job.jdUrl}}\"\\n\\t\\t\\t\\t\\t\\t\\t\\t\\t\\tclass=\"showmore\" target=\"_blank\">read more</a>\\n\\t\\t\\t\\t\\t\\t\\t\\t</p>\\n\\t\\t\\t\\t\\t\\t\\t\\t<p class=\"font12\" data-ng-show=\"job.jobDesc.length <= 250\">\\n\\t\\t\\t\\t\\t\\t\\t\\t\\t{{job.jobDesc | removeHtmlTagsWithContentLength:0}}</p>\\n\\t\\t\\t\\t\\t\\t\\t\\t<div class=\"row m_b10\">\\n\\t\\t\\t\\t\\t\\t\\t\\t\\t<div class=\"col-xs-12 viewinsight\">\\n\\t\\t\\t\\t\\t\\t\\t\\t\\t\\t<div class=\"col-xs-12 ratting_star\"></div>\\n\\t\\t\\t\\t\\t\\t\\t\\t\\t\\t<a href=\"https://www.timesjobs.com/candidate/{{job.jdUrl}}\" class=\"btn btn-primary col-xs-5\"\\n\\t\\t\\t\\t\\t\\t\\t\\t\\t\\t\\ttarget=\"_blank\">APPLY</a>\\n\\t\\t\\t\\t\\t\\t\\t\\t\\t</div>\\n\\t\\t\\t\\t\\t\\t\\t\\t</div>\\n\\n\\t\\t\\t\\t\\t\\t\\t</div>\\n\\t\\t\\t\\t\\t\\t</div>\\n\\t\\t\\t\\t\\t</div>\\n\\t\\t\\t\\t<!--########### Company SEO Jobs Here ###########-->\\n\\t\\t\\t\\t \\n\\t\\t\\t\\t<!--########### Company SEO Jobs Here ###########-->\\n\\t\\t\\t\\t\\t<!-- REPEAT JOB ENDS HERE  -->\\n\\t\\t\\t\\t</div>\\n\\t\\t\\t\\t<div id=\"nextpg\" data-ng-if=\"nextpageclick!==true\" class=\"col-xs-12\">&nbsp;</div>\\n\\t\\t\\t\\t<div class=\" col-xs-2\" data-ng-if=\"nextpageclick !== true\">\\n\\t\\t\\t\\t\\t<a data-ng-if=\"(pagecount-1) > 0\" data-ng-href=\"https://jobbuzz.timesjobs.com/{{(pagecount-2) <= 0 ? seoURL.substring(0,seoURL.length-1) : seoURL+\\'page=\\' + (pagecount-2) }}\" rel=\"prev\" class=\"paginate pge-back\">Back</a>\\n\\t\\t\\t\\t</div>\\n\\t\\t\\t\\t<div data-ng-if=\"nextpageclick===true && !theend\" class=\"col-xs-12\">\\n\\t\\t\\t\\t\\t<div class=\"z2\" data-ng-show=\"nextpageclick\">\\n\\t\\t\\t\\t\\t\\t<a class=\"showmoreresult\" href=\"javascript:void(0);\" data-ng-click=\"pagetrue()\" rel=\"next\">Show More Jobs</a>\\n\\t\\t\\t\\t\\t</div>\\n\\t\\t\\t\\t</div>\\n\\t\\t\\t\\t<div class=\"pull-right col-xs-2\" data-ng-if=\"nextpageclick !== true\">\\n<a data-ng-if=\"(pagecount+1) < (totalCount/20)\" data-ng-href=\"https://jobbuzz.timesjobs.com/{{seoURL}}page={{pagecount}}\" class=\"paginate pull-right\" rel=\"next\">Next</a>\\n\\t\\t\\t\\t</div>\\n\\t\\t\\t\\t<div class=\"col-xs-12\" id=\"theend\" data-ng-if=\"theend\">\\n\\t\\t\\t\\t\\t<span class=\"showmoreresult\">The End</span>\\n\\t\\t\\t\\t</div>\\n\\t\\t\\t\\t\\n\\t\\t\\t</div>\\n\\t\\t</div>\\n\\t\\t<!--########### Main Container Ends Here ###########-->\\n\\t</div>\\n\\n\\n</div>\\n\\n\\t\\t<!-- ###### Script include code ############ -->\\n\\t\\t<script src=\"https://jbstatic.timesjobs.com/js/company/companyPage.js?version=aa694bbdda60b40aabd782f4er49ffafc330157\" type=\"text/javascript\"></script>\\n\\t\\t<script src=\"https://jbstatic.timesjobs.com/js/company/job-landing.js?version=aa694bbdda60b40aabd782f4er49ffafc330157\" type=\"text/javascript\"></script>\\n\\t\\t<!-- ###### Script include code ############ -->\\n\\n\\t\\t</div>\\n\\t\\n\\t\\t\\t<div class=\"container-fluid footer-info hidden-xs\" id=\"jbpgfooter\">\\n\\t\\t<div class=\"top-ratted-companies col-sm-12\">\\n\\t\\t\\t<span>Top Rated Companies:</span> \\n\\t\\t\\t<a href=\"https://jobbuzz.timesjobs.com/company/dr-reddys-laboratories-ltd?compids=347\">dr reddys laboratories ltd</a> | \\n\\t\\t\\t<a href=\"https://jobbuzz.timesjobs.com/company/bank-of-america?compids=229\">bank of america</a> | \\n\\t\\t\\t<a href=\"https://jobbuzz.timesjobs.com/company/amazon-india-pvt-ltd?compids=5660\">amazon india pvt ltd</a> | \\n\\t\\t\\t<a href=\"https://jobbuzz.timesjobs.com/company/hp-inc?compids=517\">hp inc</a> | \\n\\t\\t\\t<a href=\"https://jobbuzz.timesjobs.com/company/tata-communications-ltd?compids=782\">tata communications ltd</a> | \\n\\t\\t\\t<a href=\"https://jobbuzz.timesjobs.com/company/ultratech-cement-ltd?compids=786\">ultratech cement ltd</a> | \\n\\t\\t\\t<a href=\"https://jobbuzz.timesjobs.com/company/maruti-suzuki-india-ltd?compids=966\">maruti suzuki india ltd</a> | \\n\\t\\t\\t<a href=\"https://jobbuzz.timesjobs.com/company/tata-motors-ltd?compids=783\">tata motors ltd</a> | \\n\\t\\t\\t<a href=\"https://jobbuzz.timesjobs.com/company/ericsson-pvt-ltd?compids=394\">ericsson pvt ltd</a> | \\n\\t\\t\\t<a href=\"https://jobbuzz.timesjobs.com/company/mahindra-mahindra-ltd?compids=930\">mahindra mahindra ltd</a> | \\n\\t\\t\\t<a href=\"https://jobbuzz.timesjobs.com/company/cipla-ltd?compids=91\">cipla ltd</a> | \\n\\t\\t\\t<a href=\"https://jobbuzz.timesjobs.com/company/accenture-pvt-ltd?compids=34\">accenture</a> | \\n\\t\\t\\t<a href=\"https://jobbuzz.timesjobs.com/company/larsen-and-toubro-ltd?compids=732\">larsen and toubro ltd</a> | \\n\\t\\t\\t<a href=\"https://jobbuzz.timesjobs.com/company/cognizant-technology-solutions?compids=57\">cognizant technology solutions</a> | \\n\\t\\t\\t<a href=\"https://jobbuzz.timesjobs.com/company/bharti-airtel-ltd?compids=143\">bharti airtel ltd</a> | \\n\\t\\t\\t<a href=\"https://jobbuzz.timesjobs.com/company/dell-india?compids=2107\">dell india</a> |  \\n\\t\\t\\t<a href=\"https://jobbuzz.timesjobs.com/company/itc-ltd?compids=683\">itc ltd</a> | \\n\\t\\t\\t<a href=\"https://jobbuzz.timesjobs.com/company/ibm-india-pvt-ltd?compids=597\">ibm india pvt ltd</a> | \\n\\t\\t\\t<a href=\"https://jobbuzz.timesjobs.com/company/genpact-pvt-ltd?compids=452\">genpact india pvt ltd</a> | \\n\\t\\t\\t<a href=\"https://jobbuzz.timesjobs.com/company/icici-bank-ltd?compids=599\">icici bank ltd</a> | \\n\\t\\t\\t<a href=\"https://jobbuzz.timesjobs.com/company/oracle?compids=19605\">oracle</a> | \\n\\t\\t\\t<a href=\"https://jobbuzz.timesjobs.com/company/tata-consultancy-services-ltd?compids=741\">tata consultancy services ltd</a> | \\n\\t\\t\\t<a href=\"https://jobbuzz.timesjobs.com/company/axis-bank-ltd?compids=210\">axis bank ltd</a> | \\n\\t\\t\\t<a href=\"https://jobbuzz.timesjobs.com/company/infosys-technologies-ltd?compids=651\">infosys technologies ltd</a> | \\n\\t\\t\\t<a href=\"https://jobbuzz.timesjobs.com/company/mphasis-ltd?compids=733\">mphasis ltd</a> | \\n\\t\\t\\t<a href=\"https://jobbuzz.timesjobs.com/company/wipro-technologies-ltd?compids=745\">wipro technologies ltd</a> | \\n\\t\\t\\t<a href=\"https://jobbuzz.timesjobs.com/company/capgemini-india-pvt-ltd?compids=291\">capgemini india pvt ltd</a> | \\n\\t\\t\\t<a href=\"https://jobbuzz.timesjobs.com/company/hcl-technologies-ltd?compids=515\">hcl technologies ltd</a> | \\n\\t\\t\\t<a href=\"https://jobbuzz.timesjobs.com/company/kotak-mahindra-bank?compids=731\">kotak mahindra bank</a> \\n\\t\\t</div>\\n\\t\\t<div class=\"col-sm-4\">\\n\\t\\t\\t<div class=\"row\">\\n\\t\\t\\t\\t<dl class=\"col-sm-6\">\\n\\t\\t\\t\\t\\t<dt>Useful links</dt>\\n\\t\\t\\t\\t\\t<dd><a href=\"/review\">Company Reviews</a></dd>\\n\\t\\t\\t\\t\\t<dd><a href=\"/jobbuzz/review.html\">Write a Review</a></dd>\\n\\t\\t\\t\\t\\t<dd><a href=\"/salary\">Salaries</a></dd>\\n\\t\\t\\t\\t\\t<dd><a href=\"/interview\">Interview Questions</a></dd>\\n\\t\\t\\t\\t\\t<dd><a href=\"/jobbuzz/post-interview-page.html\">Post an interview</a></dd>\\n\\t\\t\\t\\t\\t<dd><a href=\"/compare-companies\">Compare Companies</a></dd>\\n\\t\\t\\t\\t\\t<dd><a href=\"/jobbuzz/profile-overview.html\">My Profile</a></dd>\\n\\t\\t\\t\\t</dl>\\n\\t\\t\\t\\t<dl class=\"col-sm-6\">\\n\\t\\t\\t\\t\\t<dt>&nbsp;</dt>\\n\\t\\t\\t\\t\\t\\t<!--<dd><a href=\"\">Featured Companies</a></dd>-->\\n\\t\\t\\t\\t\\t\\t<dd><a href=\"https://jobbuzz.timesjobs.com/workplace2025\" target=\"_blank\">Workplace 2025</a></dd>\\n\\t\\t\\t\\t\\t\\t<dd><a href=\"https://content.timesjobs.com/\" target=\"_blank\">Blog</a></dd>\\n\\t\\t\\t\\t\\t\\t<!--<dd><a href=\"\" target=\"_blank\">JobBuzz Plus</a></dd>-->\\n\\t\\t\\t\\t\\t\\t<dd>\\r\\n\\r\\n\\r\\n\\r\\n</dd>\\n\\t\\t\\t\\t</dl>\\n\\t\\t\\t</div>\\n\\t\\t</div>\\n\\t\\t<div class=\"col-sm-2\">\\n\\t\\t\\t<div class=\"row\">\\n\\t\\t\\t\\t<dl class=\"col-sm-12\">\\n\\t\\t\\t\\t\\t<dt>Jobbuzz</dt>\\n\\t\\t\\t\\t\\t<dd><a href=\"mailto:feedback.jobbuzz@timesjobs.com?Subject=feedback&body=\">Feedback</a></dd>\\n\\t\\t\\t\\t\\t<dd><a href=\"/jobbuzz/contact-us.html\">Contact us</a></dd>\\n\\t\\t\\t\\t\\t<dd><a href=\"https://www.youtube.com/watch?v=SODMFtuP4NM\" target=\"_blank\">Jobbuzz for Employers</a></dd>\\t\\t\\t\\t\\n\\t\\t\\t\\t</dl>\\n\\t\\t\\t</div>\\n\\t\\t</div>\\n\\t\\t<div class=\"col-sm-2\">\\n\\t\\t\\t<div class=\"row\">\\n\\t\\t\\t\\t<dl class=\"col-sm-12\">\\n\\t\\t\\t\\t\\t<dt>Get a Employer Account</dt>\\n\\t\\t\\t\\t\\t<dd><a href=\"javascript:void(0)\" class=\"employerconnect\">Employer Centre</a></dd>\\n\\t\\t\\t\\t\\t<dd><a href=\"/images/pdf/JobBuzz_2017.pdf\">Talent pool</a></dd>\\n\\t\\t\\t\\t\\t<dd><a href=\"/images/pdf/employer_branding.pdf\">Branding Opportunities</a></dd>\\n\\t\\t\\t\\t\\t<dd><a href=\"/images/pdf/jb_plus.pdf\" target=\"_blank\">Inside Edge Report</a></dd>\\n\\t\\t\\t\\t</dl>\\n\\t\\t\\t</div>\\n\\t\\t</div>\\n\\n\\t\\t\\n\\t\\t<div class=\"col-sm-2\">\\n\\t\\t\\t<div class=\"row\">\\n\\t\\t\\t\\t<dl class=\"col-sm-12\">\\n\\t\\t\\t\\t\\t<dt>Help Centre</dt>\\n\\t\\t\\t\\t\\t<dd><a href=\"/jobbuzz/jobuzz-faq.html\">FAQs</a></dd>\\n\\t\\t\\t\\t\\t<dd><a href=\"/jobbuzz/termsofuse.html\">Terms of Use</a></dd>\\n\\t\\t\\t\\t\\t<dd><a href=\"/jobbuzz/privacypolicy.html\">Privacy & Cookies</a></dd>\\n\\t\\t\\t\\t</dl>\\n\\t\\t\\t</div>\\n\\t\\t</div>\\n\\t\\t<div class=\"col-sm-2\">\\n\\t\\t\\t<div class=\"row\">\\n\\t\\t\\t\\t<dl class=\"col-sm-12\">\\n\\t\\t\\t\\t\\t<dt>Follow us on</dt>\\n\\t\\t\\t\\t\\t<dd class=\"social-links\">\\n\\t\\t\\t\\t\\t\\t<ul>\\n\\t\\t\\t\\t\\t\\t\\t<li><a href=\"https://www.facebook.com/JobBuzzFans/\" target=\"_blank\"><img src=\"https://jbstatic.timesjobs.com/images/spacer.gif\" class=\"cus-icon icon-fb-lg-share\" /></a></li>\\n\\t\\t\\t\\t\\t\\t\\t<li><a href=\"https://twitter.com/JobBuzzUpdates\" target=\"_blank\"><img src=\"https://jbstatic.timesjobs.com/images/spacer.gif\" class=\"cus-icon icon-tw-lg-share\" /></a></li>\\n\\t\\t\\t\\t\\t\\t</ul>\\n\\t\\t\\t\\t\\t</dd>\\n\\t\\t\\t\\t\\t<dd class=\"social-links m_b10\">\\n\\t\\t\\t\\t\\t\\t<ul>\\n\\t\\t\\t\\t\\t\\t\\t<li><a href=\"https://in.linkedin.com/company/jobbuzz\" target=\"_blank\"><img src=\"https://jbstatic.timesjobs.com/images/spacer.gif\" class=\"cus-icon icon-lk-lg-share\" /></a></li>\\n\\t\\t\\t\\t\\t\\t</ul>\\n\\t\\t\\t\\t\\t</dd>\\n\\t\\t\\t\\t\\t<dd class=\"hashid\"><a href=\"/jobbuzz/jobuzz-faq.html\"><strong>#Jobbuzz</strong></a></dd>\\n\\t\\t\\t\\t</dl>\\n\\t\\t\\t</div>\\n\\t\\t</div>\\n\\t</div>\\n\\t\\n\\t<div class=\"container-fluid footer-bottom\">\\n\\t\\t<div class=\"text-center size10\">\\n\\t\\t\\tCopyright &copy; Times Business Solutions (a Division of Times Internet Ltd.) <span data-set-currentyear=\"\"></span>. Indiatimes Classified Network.\\n\\t\\t</div>\\n\\t</div>\\n\\n\\t\\n<!-- ###### Login Popup code ############-->  \\n\\t<div class=\"modal fade loginCtrl\" id=\"loginpop\" tabindex=\"-1\" role=\"dialog\" aria-labelledby=\"myModalLabel\" aria-hidden=\"true\">\\n\\t  <div class=\"modal-dialog\" inputcontrol>\\n\\t \\t \\n<div class=\"modal-content\" data-ng-controller=\"loginCTRL\">\\n\\t<div class=\"modal-header textcenter modal-heading\">\\n\\t\\t<button type=\"button\" class=\"close\" data-dismiss=\"modal\"\\n\\t\\t\\tdata-ng-click=\"istj=false\">\\n\\t\\t\\t<span aria-hidden=\"true\">&times;</span><span class=\"sr-only\">Close</span>\\n\\t\\t</button>\\n\\t</div>\\n\\t<div class=\"modal-body clearfix\">\\n\\t\\t<div class=\"col-xs-12 margincenter\">\\n\\n\\t\\t\\t<div class=\"row\">\\n\\t\\t\\t\\t<div class=\"col-xs-12\">\\n\\t\\t\\t\\t\\t<div class=\"row singin\">\\n\\t\\t\\t\\t\\t\\t<div class=\"col-xs-3\" data-ng-class=\"istj===false && halfLogin == false? \\'sideborder\\' : \\'f\\'\">\\n\\t\\t\\t\\t\\t\\t\\t<strong>Sign In</strong>\\n\\t\\t\\t\\t\\t\\t</div>\\n\\t\\t\\t\\t\\t\\t<div class=\"col-xs-9\" data-ng-hide=\"istj || halfLogin\">\\n\\t\\t\\t\\t\\t\\t\\tDon\\'t have an account? <a\\n\\t\\t\\t\\t\\t\\t\\t\\thref=\"javascript:openmodal(\\'signUpctrl\\')\" class=\"secondLnk  pageview\" pageurl=\"register\">Register\\n\\t\\t\\t\\t\\t\\t\\t\\tnow</a>\\n\\t\\t\\t\\t\\t\\t</div>\\n\\n\\n\\t\\t\\t\\t\\t</div>\\n\\t\\t\\t\\t\\t<div class=\"row log-profile\" data-ng-hide=\"istj\">\\n\\t\\t\\t\\t\\t\\t<div class=\"col-sm-3 socialsign\">Sign In using</div>\\n\\t\\t\\t\\t\\t\\t<div class=\"col-sm-9 sharev\"> \\n\\t\\t\\t\\t\\t\\t\\t<div class=\"row\">\\n\\t\\t\\t\\t\\t\\t\\t\\t\\n\\t\\t\\t\\t\\t\\t\\t\\t<div class=\"col-xs-6 text-center\">\\n\\t\\t\\t\\t\\t\\t\\t\\t\\t<a href=\"javascript:void(0)\" data-ng-click=\"istj = true\" pageurl=\"signin\" class=\\'pagetrackevent\\' pageval=\"TJ\">\\n\\t\\t\\t\\t\\t\\t\\t\\t\\t\\t<img src=\"https://jbstatic.timesjobs.com/images/spacer.gif\" class=\"cus-icon login-btn cus-tjlogin\" alt=\"TimesJob login\" /></a>\\n\\t\\t\\t\\t\\t\\t\\t\\t</div>\\n\\t\\t\\t\\t\\t\\t\\t</div>\\n\\t\\t\\t\\t\\t\\t\\t<div class=\"row log-profile\">\\n\\t\\t\\t\\t\\t\\t\\t\\t \\n\\t\\t\\t\\t\\t\\t\\t</div>\\n\\t\\t\\t\\t\\t\\t</div>\\n\\t\\t\\t\\t\\t</div>\\n\\t\\t\\t\\t\\t<div class=\"clearfix existing log-profile\" data-ng-hide=\"!istj || !halfLogin\">\\n\\t\\t\\t\\t\\t\\t<strong>Already a user?</strong> Sign in to JobBuzz\\n\\t\\t\\t\\t\\t</div>\\n\\t\\t\\t\\t\\t<div class=\"clearfix existing log-profile\" data-ng-if=\"halfLogin\">\\n\\t\\t\\t\\t\\t\\tPlease enter your password to proceed further!\\n\\t\\t\\t\\t\\t</div>\\n\\t\\t\\t\\t\\t<div class=\"clearfix notifyRow swrap\" data-ng-if=\"istj\">\\n\\t\\t\\t\\t\\t\\t<img src=\"https://jbstatic.timesjobs.com/images/tjlogo.jpg\" />\\n\\t\\t\\t\\t\\t</div>\\n\\t\\t\\t\\t\\t<div class=\"col-sm-4 hidden-xs log-profile\">\\n\\t\\t\\t\\t\\t\\t<figure class=\"profile-img\">\\n\\t\\t\\t\\t\\t\\t\\t<img alt=\"profile\"\\n\\t\\t\\t\\t\\t\\t\\t\\tsrc=\"https://jbstatic.timesjobs.com/images/profile.jpg\">\\n\\t\\t\\t\\t\\t\\t</figure>\\n\\t\\t\\t\\t\\t</div>\\n\\t\\t\\t\\t\\t<form novalidate name=\"editDetail\" action=\"loginUser.html\"\\n\\t\\t\\t\\t\\t\\tmethod=\"post\" id=\"editDetail\">\\n\\t\\t\\t\\t\\t\\t<div class=\"col-sm-8\" accessibleform=\"\">\\n\\n\\t\\t\\t\\t\\t\\t\\t<div class=\"row\">\\n\\t\\t\\t\\t\\t\\t\\t\\t<div class=\"col-xs-12 notifyRow text-center\"\\n\\t\\t\\t\\t\\t\\t\\t\\t\\tdata-ng-hide=\"editDetail.userId.$dirty && editDetail.userId.$invalid && !isNotValid\">\\n\\t\\t\\t\\t\\t\\t\\t\\t\\t<span class=\"error\" data-ng-show=\"isNotValid\">invalid\\n\\t\\t\\t\\t\\t\\t\\t\\t\\t\\tcredentials!</span>\\n\\t\\t\\t\\t\\t\\t\\t\\t</div>\\n\\t\\t\\t\\t\\t\\t\\t</div>\\n\\t\\t\\t\\t\\t\\t\\t<div class=\"row\" data-ng-hide=\"halfLogin\">\\n\\t\\t\\t\\t\\t\\t\\t\\t<div class=\"clearfix\">\\n\\t\\t\\t\\t\\t\\t\\t\\t\\t<div class=\"input-block deactive\"\\n\\t\\t\\t\\t\\t\\t\\t\\t\\t\\tdata-ng-class=\"user.userName.length > 0? active : deactive\">\\n\\t\\t\\t\\t\\t\\t\\t\\t\\t\\t<span class=\"input\">\\n\\t\\t\\t\\t\\t\\t\\t\\t\\t\\t\\t<input type=\"text\" name=\"userId\" data-ng-model=\"user.userName\" data-ng-keyup=\"isNotValid=false\" required />\\n\\t\\t\\t\\t\\t\\t\\t\\t\\t\\t</span> <span class=\"msg\">Email / User ID</span>\\n\\t\\t\\t\\t\\t\\t\\t\\t\\t\\t<div class=\"error\" data-ng-show=\"editDetail.userId.$dirty && editDetail.userId.$invalid\">\\n\\t\\t\\t\\t\\t\\t\\t\\t\\t\\t\\t<span class=\"msgerror\" data-ng-show=\"editDetail.userId.$error.required\">mandatory!</span>\\n\\t\\t\\t\\t\\t\\t\\t\\t\\t\\t\\t<span class=\"msgerror\" data-ng-show=\"!editDetail.userId.$valid && !editDetail.userId.$error.required\">\\n\\t\\t\\t\\t\\t\\t\\t\\t\\t\\t\\t\\tPlease enter a valid email id. \\n\\t\\t\\t\\t\\t\\t\\t\\t\\t\\t\\t</span>\\n\\t\\t\\t\\t\\t\\t\\t\\t\\t\\t</div>\\n\\t\\t\\t\\t\\t\\t\\t\\t\\t\\t<div class=\"error\"\\n\\t\\t\\t\\t\\t\\t\\t\\t\\t\\t\\tdata-ng-hide=\"editDetail.userId.$dirty && editDetail.userId.$invalid && !isNotValid\">\\n\\t\\t\\t\\t\\t\\t\\t\\t\\t\\t\\t<span class=\"msgdesc\" data-ng-hide=\"isNotValid\">E.g.:\\n\\t\\t\\t\\t\\t\\t\\t\\t\\t\\t\\t\\txyz@gmail.com</span>\\n\\t\\t\\t\\t\\t\\t\\t\\t\\t\\t</div>\\n\\t\\t\\t\\t\\t\\t\\t\\t\\t</div>\\n\\t\\t\\t\\t\\t\\t\\t\\t</div>\\n\\t\\t\\t\\t\\t\\t\\t</div>\\n\\t\\t\\t\\t\\t\\t\\t<div class=\"row\" data-ng-show=\"halfLogin\">\\n\\t\\t\\t\\t\\t\\t\\t\\t<div class=\"clearfix\">\\n\\t\\t\\t\\t\\t\\t\\t\\t\\t<div class=\"input-block active\">\\n\\t\\t\\t\\t\\t\\t\\t\\t\\t\\t<span class=\"input\"> \\n\\t\\t\\t\\t\\t\\t\\t\\t\\t\\t\\t<input disabled=\"disabled\" type=\"text\" name=\"username\" data-ng-model=\"user.name\" />\\n\\t\\t\\t\\t\\t\\t\\t\\t\\t\\t</span>\\n\\t\\t\\t\\t\\t\\t\\t\\t\\t</div>\\n\\t\\t\\t\\t\\t\\t\\t\\t</div>\\n\\t\\t\\t\\t\\t\\t\\t</div>\\n\\t\\t\\t\\t\\t\\t\\t<div class=\"row\">\\n\\t\\t\\t\\t\\t\\t\\t\\t<div class=\"clearfix\">\\n\\t\\t\\t\\t\\t\\t\\t\\t\\t<div class=\"input-block deactive\"\\n\\t\\t\\t\\t\\t\\t\\t\\t\\t\\tdata-ng-class=\"user.userPass.length > 0 ? \\'active\\' : \\'deactive\\'\">\\n\\t\\t\\t\\t\\t\\t\\t\\t\\t\\t<span class=\"input\"> <input type=\"password\"\\n\\t\\t\\t\\t\\t\\t\\t\\t\\t\\t\\tname=\"password\" data-ng-keyup=\"isNotValid=false\"\\n\\t\\t\\t\\t\\t\\t\\t\\t\\t\\t\\tdata-ng-model=\"user.userPass\" data-ng-required />\\n\\t\\t\\t\\t\\t\\t\\t\\t\\t\\t</span> <span class=\"msg\">Password</span>\\n\\t\\t\\t\\t\\t\\t\\t\\t\\t\\t<div class=\"error\"\\n\\t\\t\\t\\t\\t\\t\\t\\t\\t\\t\\tdata-ng-show=\"editDetail.password.$dirty && editDetail.password.$invalid\">\\n\\t\\t\\t\\t\\t\\t\\t\\t\\t\\t\\t<span class=\"msgerror\"\\n\\t\\t\\t\\t\\t\\t\\t\\t\\t\\t\\t\\tdata-ng-show=\"editDetail.password.$error.required\">mandatory!</span>\\n\\t\\t\\t\\t\\t\\t\\t\\t\\t\\t</div>\\n\\t\\t\\t\\t\\t\\t\\t\\t\\t</div>\\n\\t\\t\\t\\t\\t\\t\\t\\t</div>\\n\\t\\t\\t\\t\\t\\t\\t</div>\\n\\n\\t\\t\\t\\t\\t\\t\\t<div class=\"row\">\\n\\t\\t\\t\\t\\t\\t\\t\\t<div class=\"clearfix\">\\n\\t\\t\\t\\t\\t\\t\\t\\t\\t<input type=\"hidden\" name=\"parentUrl\" value=\"\" onload=\"javascript:getParentPath()\"> \\n\\t\\t\\t\\t\\t\\t\\t\\t\\t<input type=\"button\" data-ng-click=\"loginMethod(user)\" class=\"btn btn-primary submitform pageview pagetrackevent\" pageurl=\"signin/{{user.userName}}\" pageval=\"JB\" value=\"Sign in\" /> \\n\\t\\t\\t\\t\\t\\t\\t\\t\\t<a data-ng-hide=\"halfLogin\" href=\"javascript:openmodal(\\'forgetctrl\\')\" class=\"secondLnk pageview\" pageurl=\"forgot-password\">Forgot password?</a>\\n\\t\\t\\t\\t\\t\\t\\t\\t\\t<a data-ng-show=\"halfLogin\" href=\"javascript:void(0)\" class=\"secondLnk pageview\" pageurl=\"forgot-password\" data-ng-click=\"signOut()\">Not you?</a>\\n\\t\\t\\t\\t\\t\\t\\t\\t</div>\\n\\t\\t\\t\\t\\t\\t\\t</div>\\n\\n\\n\\t\\t\\t\\t\\t\\t</div>\\n\\t\\t\\t\\t\\t</form>\\n\\t\\t\\t\\t</div>\\n\\t\\t\\t</div>\\n\\t\\t\\t<div class=\"row notifyRow m_t10\" data-ng-show=\"istj\">\\n\\t\\t\\t\\t<div class=\"ratting_star m_t10 clearfix\"></div>\\n\\t\\t\\t\\t<div class=\"col-sm-3 socialsign col-xs-12\">\\n\\t\\t\\t\\t\\t<div style=\"line-height: normal;padding: 26px 0;\">\\n\\t\\t\\t\\t\\t\\tNot using TJ? <strong class=\"display-blk\">Sign In using</strong>\\n\\t\\t\\t\\t\\t</div>\\n\\t\\t\\t\\t</div>\\n\\t\\t\\t\\t<div class=\"col-sm-9 sharev\">\\n\\t\\t\\t\\t\\t<div class=\"row\">\\n\\t\\t\\t\\t\\t\\t\\n\\t\\t\\t\\t\\t\\t<div class=\"col-xs-6 text-center\">\\n\\t\\t\\t\\t\\t\\t\\t<a href=\"javascript:void(0)\" data-ng-click=\"istj = false\" pageurl=\"signin\" class=\\'pagetrackevent\\' pageval=\"JB\"><img\\n\\t\\t\\t\\t\\t\\t\\t\\tclass=\"z1 img-responsive\" src=\"https://jbstatic.timesjobs.com/images/jblogin.png\"\\n\\t\\t\\t\\t\\t\\t\\t\\talt=\"JobBuzz login\"></a>\\n\\t\\t\\t\\t\\t\\t</div>\\n\\t\\t\\t\\t\\t</div>\\n\\t\\t\\t\\t\\t<div class=\"row log-profile\">\\n\\t\\t\\t\\t\\t\\t\\n\\t\\t\\t\\t\\t</div>\\n\\t\\t\\t\\t</div>\\n\\t\\t\\t</div>\\n\\t\\t\\t<div class=\"modal-footer textcenter\"></div>\\n\\n\\t\\t</div>\\n\\t</div>\\n</div>\\n\\n<script>\\n\\tfunction getParentPath() {\\n\\t\\tconsole.log(window.location.pathname);\\n\\t\\treturn window.location.pathname;\\n\\t}\\n</script>\\n\\n\\n\\t  </div>\\n\\t</div> \\n<!-- ###### Login Popup code ############ -->\\n\\n<!-- ###### SignUp Popup code ############ -->\\n<div class=\"modal fade signUpctrl\" id=\"jobbuzzRegistrationPagepop\" tabindex=\"-1\" role=\"dialog\" aria-labelledby=\"myModalLabel\" aria-hidden=\"true\">\\n\\t  <div class=\"modal-dialog\">\\n\\t  \\n\\n\\n\\n\\n\\n\\n\\n\\n\\n\\n\\n<div class=\"modal-content\" data-ng-controller=\"signUpCTRL\">\\n\\t<div class=\"modal-header textcenter modal-heading\">\\n\\t\\t<button type=\"button\" class=\"close\" data-dismiss=\"modal\">\\n\\t\\t\\t<span aria-hidden=\"true\">&times;</span><span class=\"sr-only\">Close</span>\\n\\t\\t</button>\\n\\t</div>\\n\\t<div class=\"modal-body clearfix\">\\n\\t\\t<div class=\"col-sm-12 sharev margincenter\">\\n\\n\\n\\t\\t\\t<div class=\"row\">\\n\\t\\t\\t\\t<div class=\"col-xs-12\">\\n\\t\\t\\t\\t\\t<div class=\"row singin\">\\n\\t\\t\\t\\t\\t\\t<div class=\"col-xs-6 col-sm-5 sideborder\">\\n\\t\\t\\t\\t\\t\\t\\t<strong>Create Account</strong>\\n\\t\\t\\t\\t\\t\\t</div>\\n\\t\\t\\t\\t\\t\\t<div class=\"col-xs-6 col-sm-7\">\\n\\t\\t\\t\\t\\t\\t\\tAlready a User? <a href=\"javascript:openmodal(\\'loginCtrl\\')\" class=\"secondLnk pageview\" pageurl=\"login\">Sign In</a>\\n\\t\\t\\t\\t\\t\\t</div>\\n\\n\\t\\t\\t\\t\\t</div>\\n\\t\\t\\t\\t\\t<div class=\"clearfix log-profile\">\\n\\t\\t\\t\\t\\t\\t<div class=\"col-sm-3 socialsign col-xs-12\">Sign up using</div>\\n\\t\\t\\t\\t\\t\\t<div class=\"col-sm-9 sharev\">\\n\\t\\t\\t\\t\\t\\t\\t<div class=\"row \">\\n\\t\\t\\t\\t\\t\\t\\t\\t\\n\\t\\t\\t\\t\\t\\t\\t\\t<div class=\"col-xs-6 text-center\">\\n\\t\\t\\t\\t\\t\\t\\t\\t\\t<a href=\"javascript:void(0);\" data-ng-click=\"istjfn()\">\\n\\t\\t\\t\\t\\t\\t\\t\\t\\t\\t<img src=\"https://jbstatic.timesjobs.com/images/spacer.gif\" class=\"cus-icon login-btn cus-tjlogin\" alt=\"TimesJob login\" /></a>\\n\\t\\t\\t\\t\\t\\t\\t\\t</div>\\n\\t\\t\\t\\t\\t\\t\\t</div>\\n\\t\\t\\t\\t\\t\\t\\t<div class=\"row log-profile\">\\n\\t\\t\\t\\t\\t\\t\\t\\t \\n\\t\\t\\t\\t\\t\\t\\t</div>\\n\\t\\t\\t\\t\\t\\t</div>\\n\\t\\t\\t\\t\\t</div>\\n\\t\\t\\t\\t\\t<div class=\"clearfix existing log-profile\">\\n\\t\\t\\t\\t\\t\\t<strong>Old Fashioned?</strong> Sign Up Using Email\\n\\t\\t\\t\\t\\t</div>\\n\\t\\t\\t\\t\\t<div class=\"col-sm-4 log-profile hidden-xs\">\\n\\t\\t\\t\\t\\t\\t<figure class=\"profile-img\">\\n\\t\\t\\t\\t\\t\\t\\t<img alt=\"Prateek\"\\n\\t\\t\\t\\t\\t\\t\\t\\tsrc=\"https://jbstatic.timesjobs.com/images/default-pic.png\">\\n\\t\\t\\t\\t\\t\\t</figure>\\n\\t\\t\\t\\t\\t\\t<!-- <div class=\"text-center\"><a href=\"#\" class=\"secondLnk\">Upload</a></div> -->\\n\\t\\t\\t\\t\\t</div>\\n\\t\\t\\t\\t\\t<form name=\"regUser\"\\n\\t\\t\\t\\t\\t\\tdata-ng-class=\"error===true ? \\'ng-invalid\\' : \\'ng-valid\\'\">\\n\\t\\t\\t\\t\\t\\t<div class=\"col-sm-8\" inputcontrol=\"\" accessibleform=\"\">\\n\\t\\t\\t\\t\\t\\t\\t<div class=\"row\">\\n\\t\\t\\t\\t\\t\\t\\t\\t<div class=\"clearfix\">\\n\\t\\t\\t\\t\\t\\t\\t\\t\\t<div class=\"input-block deactive\" data-ng-class=\"user.firstName.length > 0 ? active : deactive\">\\n\\t\\t\\t\\t\\t\\t\\t\\t\\t\\t<span class=\"input\"> <input type=\"text\"\\n\\t\\t\\t\\t\\t\\t\\t\\t\\t\\t\\tname=\"firstName\" data-ng-model=\"user.firstName\" required\\n\\t\\t\\t\\t\\t\\t\\t\\t\\t\\t\\tmaxlength=\"30\" />\\n\\t\\t\\t\\t\\t\\t\\t\\t\\t\\t</span> <span class=\"msg\">Display Name</span>\\n\\t\\t\\t\\t\\t\\t\\t\\t\\t\\t<div class=\"error\"\\n\\t\\t\\t\\t\\t\\t\\t\\t\\t\\t\\tdata-ng-show=\"regUser.firstName.$dirty && regUser.firstName.$invalid\">\\n\\t\\t\\t\\t\\t\\t\\t\\t\\t\\t\\t<span class=\"msgerror\"\\n\\t\\t\\t\\t\\t\\t\\t\\t\\t\\t\\t\\tdata-ng-show=\"regUser.firstName.$error.required\">mandatory!</span>\\n\\t\\t\\t\\t\\t\\t\\t\\t\\t\\t</div>\\n\\t\\t\\t\\t\\t\\t\\t\\t\\t\\t<div class=\"error\"\\n\\t\\t\\t\\t\\t\\t\\t\\t\\t\\t\\tdata-ng-hide=\"regUser.firstName.$dirty && regUser.firstName.$invalid\">\\n\\t\\t\\t\\t\\t\\t\\t\\t\\t\\t\\t<span class=\"msgdesc\"\\n\\t\\t\\t\\t\\t\\t\\t\\t\\t\\t\\t\\tdata-ng-show=\"regUser.firstName.$error.required\">E.g.:\\n\\t\\t\\t\\t\\t\\t\\t\\t\\t\\t\\t\\tJohn Pattrik</span>\\n\\t\\t\\t\\t\\t\\t\\t\\t\\t\\t</div>\\n\\t\\t\\t\\t\\t\\t\\t\\t\\t</div>\\n\\t\\t\\t\\t\\t\\t\\t\\t</div>\\n\\t\\t\\t\\t\\t\\t\\t</div>\\n\\t\\t\\t\\t\\t\\t\\t<div class=\"row\">\\n\\t\\t\\t\\t\\t\\t\\t\\t<div class=\"clearfix\">\\n\\t\\t\\t\\t\\t\\t\\t\\t\\t<div class=\"input-block deactive\"\\n\\t\\t\\t\\t\\t\\t\\t\\t\\t\\tdata-ng-class=\"(!regUser.email3.$error.required || regUser.email3.$invalid) ? \\'active\\' :\\'deactive\\'\">\\n\\t\\t\\t\\t\\t\\t\\t\\t\\t\\t<span class=\"input\"> <input type=\"text\" name=\"email3\"\\n\\t\\t\\t\\t\\t\\t\\t\\t\\t\\t\\tdata-ng-keyup=\"error=false\" autocomplete=\"off\"\\n\\t\\t\\t\\t\\t\\t\\t\\t\\t\\t\\tdata-ng-class=\"error===true ? \\'ng-invalid\\' : \\'ng-valid\\'\"\\n\\t\\t\\t\\t\\t\\t\\t\\t\\t\\t\\tdata-ng-pattern=\"/^([a-zA-Z0-9_\\\\.-]+)@([\\\\da-zA-Z\\\\.-]+)\\\\.([a-zA-Z\\\\.]{2,6})$/\"\\n\\t\\t\\t\\t\\t\\t\\t\\t\\t\\t\\tdata-ng-blur=\"checkExisting(null)\" data-ng-model=\"user.email3\"\\n\\t\\t\\t\\t\\t\\t\\t\\t\\t\\t\\trequired />\\n\\t\\t\\t\\t\\t\\t\\t\\t\\t\\t</span> <span class=\"msg\">Email</span>\\n\\t\\t\\t\\t\\t\\t\\t\\t\\t\\t<div class=\"error\"\\n\\t\\t\\t\\t\\t\\t\\t\\t\\t\\t\\tdata-ng-show=\"regUser.email3.$dirty && regUser.email3.$invalid\">\\n\\t\\t\\t\\t\\t\\t\\t\\t\\t\\t\\t<span class=\"msgerror\"\\n\\t\\t\\t\\t\\t\\t\\t\\t\\t\\t\\t\\tdata-ng-show=\"!regUser.email3.$valid && !regUser.email3.$error.required\">Please\\n\\t\\t\\t\\t\\t\\t\\t\\t\\t\\t\\t\\tenter a valid email id. <em style=\"color:#3366cc\">E.g.:\\n\\t\\t\\t\\t\\t\\t\\t\\t\\t\\t\\t\\t\\txyz@gmail.com</em>\\n\\t\\t\\t\\t\\t\\t\\t\\t\\t\\t\\t</span>\\n\\t\\t\\t\\t\\t\\t\\t\\t\\t\\t\\t<input style=\"display:none\">\\n\\t\\t\\t\\t\\t\\t\\t\\t\\t\\t</div>\\n\\t\\t\\t\\t\\t\\t\\t\\t\\t\\t<div class=\"error\"\\n\\t\\t\\t\\t\\t\\t\\t\\t\\t\\t\\tdata-ng-hide=\"regUser.email3.$dirty && regUser.email3.$invalid\">\\n\\t\\t\\t\\t\\t\\t\\t\\t\\t\\t\\t<span class=\"msgdesc\" data-ng-hide=\"error\">E.g.:\\n\\t\\t\\t\\t\\t\\t\\t\\t\\t\\t\\t\\txyz@gmail.com</span> <span class=\"msgerror\" data-ng-show=\"error\">email\\n\\t\\t\\t\\t\\t\\t\\t\\t\\t\\t\\t\\tid is already registered with us!</span>\\n\\t\\t\\t\\t\\t\\t\\t\\t\\t\\t</div>\\n\\t\\t\\t\\t\\t\\t\\t\\t\\t</div>\\n\\t\\t\\t\\t\\t\\t\\t\\t</div>\\n\\t\\t\\t\\t\\t\\t\\t</div>\\n\\t\\t\\t\\t\\t\\t\\t<div class=\"row\">\\n\\t\\t\\t\\t\\t\\t\\t\\t<div class=\"clearfix\">\\n\\t\\t\\t\\t\\t\\t\\t\\t\\t<div class=\"input-block deactive\"\\n\\t\\t\\t\\t\\t\\t\\t\\t\\t\\tdata-ng-class=\"{active : !regUser.password.$error.required}\">\\n\\t\\t\\t\\t\\t\\t\\t\\t\\t\\t<span class=\"input\"> <input type=\"password\" autocomplete=\"off\"\\n\\t\\t\\t\\t\\t\\t\\t\\t\\t\\t\\tname=\"password\" data-ng-model=\"user.password\" required\\n\\t\\t\\t\\t\\t\\t\\t\\t\\t\\t\\tdata-ng-trim=\"\" data-ng-minlength=\"6\" maxlength=\"20\" />\\n\\t\\t\\t\\t\\t\\t\\t\\t\\t\\t</span> <span class=\"msg\">Password</span>\\n\\t\\t\\t\\t\\t\\t\\t\\t\\t\\t<div class=\"error\"\\n\\t\\t\\t\\t\\t\\t\\t\\t\\t\\t\\tdata-ng-show=\"regUser.password.$dirty && regUser.password.$invalid\">\\n\\t\\t\\t\\t\\t\\t\\t\\t\\t\\t\\t<span class=\"msgerror\"\\n\\t\\t\\t\\t\\t\\t\\t\\t\\t\\t\\t\\tdata-ng-show=\"regUser.password.$error.required\">mandatory!</span>\\n\\t\\t\\t\\t\\t\\t\\t\\t\\t\\t\\t<span class=\"msgerror\"\\n\\t\\t\\t\\t\\t\\t\\t\\t\\t\\t\\t\\tdata-ng-show=\"regUser.password.$error.minlength\">At\\n\\t\\t\\t\\t\\t\\t\\t\\t\\t\\t\\t\\tleast 6 characters required</span>\\n\\t\\t\\t\\t\\t\\t\\t\\t\\t\\t</div>\\n\\t\\t\\t\\t\\t\\t\\t\\t\\t</div>\\n\\t\\t\\t\\t\\t\\t\\t\\t</div>\\n\\t\\t\\t\\t\\t\\t\\t</div>\\n\\t\\t\\t\\t\\t\\t\\t<div class=\"row\">\\n\\t\\t\\t\\t\\t\\t\\t\\t<div class=\"clearfix\">\\n\\t\\t\\t\\t\\t\\t\\t\\t\\t<input type=\"button\" class=\"btn btn-primary submitform pageview\" pageurl=\"register/{{user.email3}}\" value=\"Register\" data-ng-click=\"signUp(user,\\'regUser\\')\" />\\n\\t\\t\\t\\t\\t\\t\\t\\t</div>\\n\\t\\t\\t\\t\\t\\t\\t</div>\\n\\t\\t\\t\\t\\t\\t</div>\\n\\t\\t\\t\\t\\t</form>\\n\\t\\t\\t\\t</div>\\n\\t\\t\\t\\t<div class=\"modal-footer textcenter\"></div>\\n\\t\\t\\t</div>\\n\\n\\t\\t</div>\\n\\t</div>\\n</div>\\t\\n\\t  </div>\\n</div> \\n<!-- ###### SignUp Popup code ############ -->\\n\\n\\n<!-- ###### Forget Password Popup code ############ -->\\n<div class=\"modal fade forgetctrl\" id=\"forgetPasswordpop\" tabindex=\"-1\" role=\"dialog\" aria-labelledby=\"myModalLabel\" aria-hidden=\"true\">\\n\\t  <div class=\"modal-dialog\">\\n\\t  <div class=\"modal-content\">\\n\\t\\t  <div class=\"modal-header textcenter modal-heading\">\\n\\t\\t\\t<button type=\"button\" class=\"close\" data-dismiss=\"modal\"><span aria-hidden=\"true\">&times;</span><span class=\"sr-only\">Close</span></button>\\n\\t\\t  </div>\\n\\t\\t  \\n\\t\\t  <div class=\"modal-body clearfix\">\\n\\t\\t  <h2 class=\"text-center notopmargin\">Forgot Password</h2>\\n\\t\\t\\t<div class=\"col-xs-12 margincenter\" data-ng-controller=\"forgotCTRL\">\\n\\t\\t\\t\\t<div class=\"text-center\">\\n\\t\\t\\t\\t\\t<span data-ng-bind=\"successMsg\" data-ng-show=\"successMsg!=\\'\\'\" class=\"label label-success font12\"></span>\\n\\t\\t\\t\\t</div>\\n\\t\\t\\t\\t\\n\\t\\t\\t\\t\\n\\t\\t\\t\\t<form novalidate name=\"forgotPwd\" data-ng-show=\"successMsg==\\'\\'\" id=\"forgotPwd\">\\t\\t\\t\\t\\n\\t\\t\\t\\t\\t<div class=\"col-xs-12\" inputcontrol=\"\" accessibleform=\"\">\\n\\t\\t\\t\\t\\t\\t<div class=\"row\">\\n\\t\\t\\t\\t\\t\\t\\t<div class=\"col-xs-12\">\\n\\t\\t\\t\\t\\t\\t\\t\\t<div class=\"input-block deactive\">\\n\\t\\t\\t\\t\\t\\t\\t\\t\\t<span class=\"input\">\\n\\t\\t\\t\\t\\t\\t\\t\\t\\t<input type=\"text\" name=\"emailId\" data-ng-pattern=\"/^([a-zA-Z0-9_\\\\.-]+)@([\\\\da-zA-Z\\\\.-]+)\\\\.([a-zA-Z\\\\.]{2,6})$/\" data-ng-model=\"user.emailId\" data-ng-max-length=\"6\" required />\\n\\t\\t\\t\\t\\t\\t\\t\\t\\t</span>\\n\\t\\t\\t\\t\\t\\t\\t\\t\\t<span class=\"msg\">Type your email id here</span>\\n\\t\\t\\t\\t\\t\\t\\t\\t\\t <div class=\"error\" data-ng-show=\"forgotPwd.emailId.$dirty && forgotPwd.emailId.$invalid\">\\n\\t\\t\\t\\t\\t\\t\\t\\t\\t\\t<span class=\"msgerror\" data-ng-show=\"forgotPwd.emailId.$error.required\">mandatory!</span>\\n\\t\\t\\t\\t\\t\\t\\t\\t\\t\\t<span class=\"msgerror\" data-ng-show=\"!forgotPwd.emailId.$valid && !forgotPwd.emailId.$error.required\">Please enter a valid email id. <em style=\"color:#3366cc\">E.g.: xyz@gmail.com</em></span>\\t\\t\\t\\t\\t\\t\\t\\t\\t\\t\\t\\t\\t\\t\\t\\t \\n\\t        \\t\\t\\t\\t\\t\\t</div>\\n\\t\\t\\t\\t\\t\\t\\t\\t\\t<div class=\"error\" data-ng-hide=\"forgotPwd.emailId.$dirty && forgotPwd.emailId.$invalid && !isNotValid\">\\t\\n\\t\\t\\t\\t\\t\\t\\t\\t\\t\\t<span class=\"msgdesc\">E.g.: xyz@gmail.com</span>\\n\\t       \\t\\t\\t\\t\\t\\t\\t</div>\\t\\n\\t\\t\\t\\t\\t\\t\\t\\t</div>\\n\\t\\t\\t\\t\\t\\t\\t</div>\\n\\t\\t\\t\\t\\t\\t</div>\\n\\t\\t\\t\\t\\t\\t<div class=\"row\">\\n\\t\\t\\t\\t\\t\\t\\t<div class=\"col-xs-12 textcenter\">\\n\\t\\t\\t\\t\\t\\t\\t\\t<input type=\"button\" class=\"btn btn-primary submitform\" value=\"Send\" data-ng-click=\"forgotMethod(user,\\'forgotPwd\\')\"/>\\n\\t\\t\\t\\t\\t\\t\\t</div>\\n\\t\\t\\t\\t\\t\\t</div>\\n\\t\\t\\t\\t\\t</div>\\t\\t\\n\\t\\t\\t\\t</form>\\n\\t\\t\\t\\t\\t<div class=\"modal-footer \">\\n\\t\\t\\t\\t\\t\\t<div class=\"row\">\\n\\t\\t\\t\\t\\t\\t\\t<div class=\"col-xs-12 textcenter\">\\n\\t\\t\\t\\t\\t\\t\\t\\t&nbsp;\\n\\t\\t\\t\\t\\t\\t\\t</div>\\n\\t\\t\\t\\t\\t\\t</div>\\n\\t\\t\\t\\t\\t</div>\\n\\t\\t\\t\\t</div>\\t\\n\\t\\t\\t</div>\\n\\t\\t  </div>\\n\\t\\t</div>\\n\\t\\t\\n\\t  </div>\\n</div> \\n<!-- ###### Forget Password Popup code ############ -->\\n\\n<!-- ###### Change Password Popup code ############ -->\\n<div class=\"modal fade changectrl\" id=\"changePasswordpop\" tabindex=\"-1\" role=\"dialog\" aria-labelledby=\"myModalLabel\" aria-hidden=\"true\">\\n\\t  <div class=\"modal-dialog\">\\n\\t  <div class=\"modal-content\">\\n\\t\\t  <div class=\"modal-header textcenter modal-heading\">\\n\\t\\t\\t<button type=\"button\" class=\"close\" data-dismiss=\"modal\"><span aria-hidden=\"true\">&times;</span><span class=\"sr-only\">Close</span></button>\\n\\t\\t  </div>\\n\\t\\t  <div class=\"modal-body clearfix\">\\n\\t\\t  <h2 class=\"text-center notopmargin\">Change Password</h2>\\n\\t\\t\\t<div class=\"col-xs-12 margincenter\" data-ng-controller=\"chaangePwdCTRL\">\\n\\t\\t\\t\\t<form novalidate name=\"changePassword\" action=\"changeForgotPassword.html\" method=\"post\" data-ng-init=\"user.token=\\'\\'\">\\n\\t\\t\\t\\t\\n\\t\\t\\t\\t<div class=\"col-xs-12\"  inputcontrol=\"\" accessibleform=\"\">\\n\\t\\t\\t\\t\\t<div class=\"row\">\\n\\t\\t\\t\\t\\t\\t<div class=\"col-xs-12\">\\n\\t\\t\\t\\t\\t\\t\\t<div class=\"input-block deactive\" data-ng-class=\"(user.userPass.length > 0 || changePassword.password.$invalid) ? active : deactive\">\\n\\t\\t\\t\\t\\t\\t\\t\\t<span class=\"input\">\\n\\t\\t\\t\\t\\t\\t\\t\\t\\t<input type=\"password\" name=\"password\" data-ng-model=\"user.userPass\" data-ng-minlength=\"6\" maxlength=\"20\" data-ng-keyup=\"validPassword=false\" required />\\n\\t\\t\\t\\t\\t\\t\\t\\t</span>\\n\\t\\t\\t\\t\\t\\t\\t\\t<span class=\"msg\">Type your new password here</span>\\n\\t\\t\\t\\t\\t\\t\\t\\t<div class=\"error\" data-ng-show=\"changePassword.password.$dirty && changePassword.password.$invalid\">\\n\\t\\t\\t\\t\\t\\t\\t\\t\\t<span class=\"msgerror\" data-ng-show=\"changePassword.password.$error.required\">mandatory!</span>\\n\\t\\t\\t\\t\\t\\t\\t\\t\\t<span class=\"msgerror\" data-ng-show=\"changePassword.password.$error.minlength\">At least 6 characters required</span>\\n\\t\\t\\t\\t\\t\\t\\t\\t</div>\\n\\t\\t\\t\\t\\t\\t\\t</div>\\n\\t\\t\\t\\t\\t\\t</div>\\n\\t\\t\\t\\t\\t</div>\\n\\t\\t\\t\\t\\t<div class=\"row\">\\n\\t\\t\\t\\t\\t\\t<div class=\"col-xs-12\">\\n\\t\\t\\t\\t\\t\\t\\t<div class=\"input-block deactive\">\\n\\t\\t\\t\\t\\t\\t\\t\\t<span class=\"input\">\\n\\t\\t\\t\\t\\t\\t\\t\\t<input type=\"password\" name=\"passwordConfirm\" data-ng-keyup=\"validPassword=false\" data-ng-model=\"user.userPassConfirm\"  data-ng-class=\"(user.userPassConfirm === user.userPass) ? \\'d\\' : \\'ng-invalid\\'\" required />\\n\\t\\t\\t\\t\\t\\t\\t\\t</span>\\n\\t\\t\\t\\t\\t\\t\\t\\t<span class=\"msg\">Retype your new password here</span>\\n\\t\\t\\t\\t\\t\\t\\t\\t<div class=\"error\" data-ng-show=\"changePassword.passwordConfirm.$dirty && changePassword.passwordConfirm.$invalid\">\\n\\t\\t\\t\\t\\t\\t\\t\\t\\t<span class=\"msgerror\" data-ng-show=\"changePassword.passwordConfirm.$error.required\">mandatory!</span>\\n\\t\\t\\t\\t\\t\\t\\t\\t</div>\\n\\t\\t\\t\\t\\t\\t\\t\\t<div class=\"error\" data-ng-show=\"changePassword.passwordConfirm.$dirty || changePassword.$valid\">\\n\\t\\t\\t\\t\\t\\t\\t\\t\\t<span class=\"msgerror\" data-ng-hide=\"!validPassword\">password not matched!</span>\\n\\t\\t\\t\\t\\t\\t\\t\\t</div>\\n\\t\\t\\t\\t\\t\\t\\t</div>\\n\\t\\t\\t\\t\\t\\t</div>\\n\\t\\t\\t\\t\\t</div>\\n\\t\\t\\t\\t\\t<div class=\"row\">\\n\\t\\t\\t\\t\\t\\t<div class=\"col-xs-12 text-center\">\\n\\t\\t\\t\\t\\t<input type=\"button\" class=\"btn btn-primary submitform\" value=\"Change\" data-ng-click=\"changePwdMethod(user)\" />\\n\\t\\t\\t\\t\\t</div></div>\\n\\t\\t\\t\\t</div>\\n\\t\\t\\t\\t\\t\\t\\t\\n\\t\\t\\t\\t\\t<div class=\"modal-footer textcenter\">\\n\\t\\t\\t\\t\\t\\t\\n\\t\\t\\t\\t\\t</div>\\n\\t\\t\\t\\t</form>\\n\\t\\t\\t\\t</div>\\n\\t\\t\\t</div>\\n\\t\\t  </div>\\n\\t\\t\\n\\t  </div>\\n</div>\\n\\n<!-- ###### Non Loggedin Popup code ############ -->\\n<div class=\"modal fade nonlogCtrl\" id=\"nonlogCtrl\" role=\"dialog\" aria-labelledby=\"nonlogCtrl\">\\n\\t<!-- Add a review and help 80 Lakhs jobbuzz users to take better career decision-->\\n\\t<div class=\"modal-body\">\\n\\t<div class=\"_review-block\">\\n\\t\\t\\t<!-- <a href=\"javascript:void(0)\" data-dismiss=\"modal\">x</a> -->\\n\\t\\t\\t<button type=\"button\" data-dismiss=\"modal\" class=\"close reviewpopup-close _reviewpopup-close\">\\n\\t\\t\\t\\t<span aria-hidden=\"true\">×</span><span class=\"sr-only\">Close</span>\\n\\t\\t\\t</button>\\n\\t\\t\\t<div class=\"reviewpopuphi\"><strong>Hey!</strong></div>\\n\\t\\t\\t<div>\\n\\t\\t\\t\\t<h3>Welcome to JobBuzz.</h3>\\n\\t\\t\\t\\t<p class=\"font16\">Add a review and help 80 Lakhs JobBuzz users to take better career decision. The JB community would be thrilled if you add one and it won\\'t take more than a min.</p>\\n\\t\\t\\t</div>\\n\\t\\t\\t\\n\\t\\t\\t<div class=\"notifyRow m_t10 text-center\">\\n\\t\\t\\t\\t<a href=\"/jobbuzz/review.html\" class=\"btn btn-primary _reviewpopup-close pagetrackevent\" pageurl=\"popup review\">Post a Review</a> \\n\\t\\t\\t</div>\\t\\t\\t\\n\\t\\t</div>\\t\\n</div>\\n\\n\\n<!-- ###### post/view Popup code ############ -->\\n<div data-post-review-popup=\"\" userdetail=\"userdetail\"></div>\\n</div>\\n<!-- ###### Change Password Popup code ############ -->\\n<script type=\"text/ng-template\" id=\"postReviewPopup.html\" >\\n<div class=\"modal-body\">\\n\\t\\t<a href=\"javascript:void(0)\" data-ng-click=\"cancel()\" class=\"reviewpopup-close\">x</a>\\n\\t\\t\\t<div class=\"reviewpopuphi\"><strong>Hey!</strong></div>\\n\\t\\t\\t<div data-ng-if=\"userdetail.reviewNotDate >= 0 && userdetail.reviewNotDate < 7\">\\n\\t\\t\\t\\t<h3>Welcome to JobBuzz.</h3>\\n\\t\\t\\t\\t<p><em class=\"font16\">On JobBuzz you can read and share reviews and interviews of companies.</em></p>\\n\\t\\t\\t</div>\\n\\t\\t\\t<div data-ng-if=\"userdetail.reviewNotDate > 14\">\\n\\t\\t\\t\\t<h3>We noticed you haven\\'t added a Review yet</h3>\\n\\t\\t\\t\\t<p><em>The JB community would be thrilled if you add one and it won\\'t take more than a min.</em><br />\\n\\t\\t\\t\\t<strong>We promise!</strong></p>\\n\\t\\t\\t</div>\\n\\t\\t\\t<div data-ng-if=\"userdetail.reviewNotDate > 6 && userdetail.reviewNotDate < 15\">\\n\\t\\t\\t\\t<h3>We would like to know your experience of  your current or ex company.</h3>\\n\\t\\t\\t\\t<p><em>A lot of JB user will really benefit from the same.</em></p>\\n\\t\\t\\t</div>\\n\\t\\t\\t<div class=\"notifyRow\">\\n\\t\\t\\t\\t<div class=\"col-xs-12 m_t10\">&nbsp;</div>\\t\\n\\t\\t\\t\\t<a href=\"/jobbuzz/review.html\" class=\"btn btn-primary\">Post a Review</a> <a href=\"javascript:void(0)\" data-ng-click=\"cancel()\" class=\"secondLnk\" data-ng-if=\"userdetail.reviewNotDate > 6\">not now</a><a data-ng-if=\"userdetail.reviewNotDate >= 0 && userdetail.reviewNotDate < 7\" href=\"javascript:void(0);\" class=\"secondLnk colorfff\" data-ng-click=\"closeReviewPopup()\">continue reading</a>\\n\\t\\t\\t</div>\\t\\t\\t\\n\\t\\t</div>\\t\\n</script>\\n\\n<a href=\"javascript:void(0)\" class=\"gototop gototop_hide\"></a>\\n\\t\\n\\t<!-- close wrapper -->\\n\\t<div class=\"content-preloader\" id=\"preloader\">\\n\\t\\t<img src=\"https://jbstatic.timesjobs.com/images/small_loader.gif\" />\\n\\t</div>\\n\\t</div>\\n\\t<!-- Js Includes -->\\n<!-- ---------------------- Feedback Module -------------------------------------- -->\\n<script>\\nvar siteId=\\'1089\\';\\nvar stype = \\'jobbuzz.timesjobs.com\\';\\n</script>\\n<!-- <script type=\"text/javascript\" src=\"http://ceoconnect.in/feedback/scripts/\" async=\"async\"></script>\\t -->\\n<!-- ---------------------- Feedback Module -------------------------------------- -->\\n<!-- Google Tag Manager (noscript) -->\\n<noscript><iframe src=\"https://www.googletagmanager.com/ns.html?id=GTM-5SFB6V\"\\nheight=\"0\" width=\"0\" style=\"display:none;visibility:hidden\"></iframe></noscript>\\n<!-- End Google Tag Manager (noscript) -->\\n\\n<script type=\"text/javascript\">window.NREUM||(NREUM={});NREUM.info={\"applicationID\":\"1809315179\",\"applicationTime\":16,\"beacon\":\"bam.nr-data.net\",\"queueTime\":0,\"licenseKey\":\"NRJS-155b87767dc9cc0075a\",\"transactionName\":\"M1VaZkpSVkVXAhVfVwofa0JKWlZRdQ4PQkoLXFRXShxyeXQUG0x7C11IU1ZKfFNCAAhaFgxEVV4YG39zYkg=\",\"agent\":\"\",\"errorBeacon\":\"bam.nr-data.net\"}</script></body>\\n</html>'"
      ]
     },
     "execution_count": 62,
     "metadata": {},
     "output_type": "execute_result"
    }
   ],
   "source": [
    "html_text"
   ]
  },
  {
   "cell_type": "code",
   "execution_count": 63,
   "id": "a951a394",
   "metadata": {},
   "outputs": [],
   "source": [
    "soup = BeautifulSoup(html_text, 'lxml')"
   ]
  },
  {
   "cell_type": "code",
   "execution_count": 87,
   "id": "0ab8ce4e",
   "metadata": {},
   "outputs": [],
   "source": [
    "jobs = soup.find('div', class_ = \"story-wrap z2new\")"
   ]
  },
  {
   "cell_type": "code",
   "execution_count": 88,
   "id": "da96b9ba",
   "metadata": {},
   "outputs": [
    {
     "name": "stdout",
     "output_type": "stream",
     "text": [
      "<div class=\"story-wrap z2new\">\n",
      "<div class=\"social-share\">\n",
      "<ul>\n",
      "<li class=\"social-list\"><a href=\"javascript:void(0)\">\n",
      "<img alt=\"share\" class=\"cus-icon cus-soci-share\" src=\"https://jbstatic.timesjobs.com/images/spacer.gif\"/></a>\n",
      "<div class=\"share_objnode\" data-sharelink=\"\" data-summary=\" \" data-title=\"{{job.title | removeHtmlTagsWithContentLength:0}}\" data-url=\"https://www.timesjobs.com/candidate/{{job.jdUrl}}\"></div>\n",
      "</li>\n",
      "</ul>\n",
      "</div>\n",
      "<div class=\"row m_t10 text-left\">\n",
      "<h4 class=\"ellipsetext\">\n",
      "<a href=\"https://www.timesjobs.com/candidate/{{job.jdUrl}}\" target=\"_blank\"><strong>{{job.title | removeHtmlTagsWithContentLength:0}} ({{job.experience}} yrs.)</strong></a>\n",
      "</h4>\n",
      "<div class=\"clearfix\">\n",
      "<div class=\"media\">\n",
      "<div class=\"cmplogo pull-left\" data-ng-show=\"job.companyName !== null &amp;&amp; job.companyName !== ''\">\n",
      "<!-- <a href=\"{{job.companySeoUrl}}\"\ttarget=\"_blank\"> -->\n",
      "<span data-ng-if=\"job.companyLogo === null\">\n",
      "<span class=\"width60 position\" data-firstletter=\"{{job.companyName}}\" data-font=\"30\" data-type=\"round\"></span>\n",
      "</span>\n",
      "<span class=\"width60\" data-ng-if=\"job.companyLogo !== null\">\n",
      "<img alt=\"{{job.companyName}}\" data-errsrc=\"round\" data-font=\"30\" data-ng-src=\"https://jobbuzz.timesjobs.com/ndata_images/logos/{{job.companyLogo}}\" data-width=\"60\" style=\"width:60px\"/>\n",
      "</span>\n",
      "<!-- </a> -->\n",
      "</div>\n",
      "<div class=\"media-body\">\n",
      "<h5 class=\"media-heading\" ng-show=\"job.companyName.toUpperCase()\">\n",
      "<span data-ng-if=\"job.companySeoUrl !== null\"><a href=\"{{job.companySeoUrl}}\" target=\"_blank\">{{job.companyName}}</a></span>\n",
      "<span data-ng-if=\"job.companySeoUrl === null\" style=\"color: #cc3333;\">{{job.companyName}}</span>\n",
      "</h5>\n",
      "<span class=\"font12\" ng-show=\"job.Location.toUpperCase() != 'OTHERS'\">{{job.Location}}</span>\n",
      "</div>\n",
      "</div>\n",
      "<div class=\"ratting_star\"></div>\n",
      "</div>\n",
      "<div class=\"tag-list\" data-taglist=\"\">\n",
      "<a class=\"tagitem color{{$index%4}}\" data-ng-bind=\"skill\" data-ng-if=\"$index &lt; 8\" data-ng-repeat=\"skill in job.keySkills\" data-ng-show=\"skill.trim().length&gt;0\" href=\"/jobbuzz/all-jobs.html?datacenter=7&amp;view=all&amp;txtKeywords={{skill.trim()}}\" title=\"{{skill}}\">\n",
      "</a>\n",
      "</div>\n",
      "<h5>\n",
      "<strong>Job description:</strong>\n",
      "</h5>\n",
      "<p class=\"font12 ellipsetext\" data-ng-show=\"job.jobDesc.length &gt; 250\">{{job.jobDesc  | removeHtmlTagsWithContentLength:249}}  <a class=\"showmore\" href=\"https://www.timesjobs.com/candidate/{{job.jdUrl}}\" target=\"_blank\">read more</a>\n",
      "</p>\n",
      "<p class=\"font12\" data-ng-show=\"job.jobDesc.length &lt;= 250\">\n",
      "\t\t\t\t\t\t\t\t\t{{job.jobDesc | removeHtmlTagsWithContentLength:0}}</p>\n",
      "<div class=\"row m_b10\">\n",
      "<div class=\"col-xs-12 viewinsight\">\n",
      "<div class=\"col-xs-12 ratting_star\"></div>\n",
      "<a class=\"btn btn-primary col-xs-5\" href=\"https://www.timesjobs.com/candidate/{{job.jdUrl}}\" target=\"_blank\">APPLY</a>\n",
      "</div>\n",
      "</div>\n",
      "</div>\n",
      "</div>\n"
     ]
    }
   ],
   "source": [
    "print(jobs)"
   ]
  },
  {
   "cell_type": "code",
   "execution_count": 93,
   "id": "2fe3cb0d",
   "metadata": {},
   "outputs": [],
   "source": [
    "company_name = jobs.find('h5', class_ = \"media-heading\") # inside the class_ = \"story-wrap z2new\", i parse h5 "
   ]
  },
  {
   "cell_type": "code",
   "execution_count": 94,
   "id": "ed6a7071",
   "metadata": {},
   "outputs": [
    {
     "name": "stdout",
     "output_type": "stream",
     "text": [
      "<h5 class=\"media-heading\" ng-show=\"job.companyName.toUpperCase()\">\n",
      "<span data-ng-if=\"job.companySeoUrl !== null\"><a href=\"{{job.companySeoUrl}}\" target=\"_blank\">{{job.companyName}}</a></span>\n",
      "<span data-ng-if=\"job.companySeoUrl === null\" style=\"color: #cc3333;\">{{job.companyName}}</span>\n",
      "</h5>\n"
     ]
    }
   ],
   "source": [
    "print(company_name)"
   ]
  }
 ],
 "metadata": {
  "kernelspec": {
   "display_name": "Python 3 (ipykernel)",
   "language": "python",
   "name": "python3"
  },
  "language_info": {
   "codemirror_mode": {
    "name": "ipython",
    "version": 3
   },
   "file_extension": ".py",
   "mimetype": "text/x-python",
   "name": "python",
   "nbconvert_exporter": "python",
   "pygments_lexer": "ipython3",
   "version": "3.9.7"
  }
 },
 "nbformat": 4,
 "nbformat_minor": 5
}
